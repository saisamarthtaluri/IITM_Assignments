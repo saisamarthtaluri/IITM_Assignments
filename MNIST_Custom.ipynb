{
 "cells": [
  {
   "cell_type": "code",
   "execution_count": 17,
   "id": "4e216442",
   "metadata": {},
   "outputs": [
    {
     "name": "stderr",
     "output_type": "stream",
     "text": [
      "C:\\Users\\awake\\anaconda3\\lib\\site-packages\\sklearn\\datasets\\_openml.py:932: FutureWarning: The default value of `parser` will change from `'liac-arff'` to `'auto'` in 1.4. You can set `parser='auto'` to silence this warning. Therefore, an `ImportError` will be raised from 1.4 if the dataset is dense and pandas is not installed. Note that the pandas parser may return different data types. See the Notes Section in fetch_openml's API doc for details.\n",
      "  warn(\n"
     ]
    },
    {
     "name": "stdout",
     "output_type": "stream",
     "text": [
      "Number of training samples for digit 5: 863\n",
      "Number of training samples for digit 3: 1032\n"
     ]
    }
   ],
   "source": [
    "from sklearn.datasets import fetch_openml\n",
    "from sklearn.linear_model import Perceptron\n",
    "import numpy as np\n",
    "\n",
    "\n",
    "X, y = fetch_openml('mnist_784', version=1, return_X_y=True)\n",
    "\n",
    "X_train, X_test = X[:10000], X[10000:12000]\n",
    "y_train, y_test = y[:10000], y[10000:12000]\n",
    "\n",
    "n_digit_5 = np.sum(y_train == '5')\n",
    "n_digit_3 = np.sum(y_train == '3')\n",
    "\n",
    "print(f\"Number of training samples for digit 5: {n_digit_5}\")\n",
    "print(f\"Number of training samples for digit 3: {n_digit_3}\")\n",
    "\n",
    "\n",
    "X_train_35 = np.vstack((X_train[y_train == '5'], X_train[y_train == '3']))\n",
    "y_train_35 = np.hstack((y_train[y_train == '5'], y_train[y_train == '3']))\n",
    "\n",
    "X_test_35 = np.vstack((X_test[y_test == '5'], X_test[y_test == '3']))\n",
    "y_test_35 = np.hstack((y_test[y_test == '5'], y_test[y_test == '3']))\n",
    "\n",
    "y_train_35 = np.where(y_train_35 == '5', 1, -1)\n",
    "y_test_35 = np.where(y_test_35 == '5', 1, -1)\n",
    "\n",
    "\n",
    "clf = Perceptron(random_state=42, eta0=1, max_iter=100, shuffle=False, fit_intercept=True)\n",
    "clf.fit(X_train_35, y_train_35)\n",
    "\n",
    "\n",
    "y_pred = clf.predict(X_test_35)\n"
   ]
  },
  {
   "cell_type": "code",
   "execution_count": 12,
   "id": "1ba9abf6",
   "metadata": {},
   "outputs": [
    {
     "name": "stdout",
     "output_type": "stream",
     "text": [
      "[[190   6]\n",
      " [ 12 173]]\n"
     ]
    }
   ],
   "source": [
    "from sklearn.metrics import confusion_matrix\n",
    "\n",
    "cm = confusion_matrix(y_test_35, y_pred)\n",
    "print(cm)\n"
   ]
  },
  {
   "cell_type": "code",
   "execution_count": 13,
   "id": "b1fc13dc",
   "metadata": {},
   "outputs": [],
   "source": [
    "from sklearn.metrics import accuracy_score, precision_score, recall_score\n",
    "\n",
    "def get_accuracy(y_true, y_pred):\n",
    "    return accuracy_score(y_true, y_pred)\n",
    "\n",
    "def get_precision(y_true, y_pred):\n",
    "    return precision_score(y_true, y_pred)\n",
    "\n",
    "def get_recall(y_true, y_pred):\n",
    "    return recall_score(y_true, y_pred)\n"
   ]
  },
  {
   "cell_type": "code",
   "execution_count": 14,
   "id": "3ce72257",
   "metadata": {},
   "outputs": [
    {
     "data": {
      "text/plain": [
       "0.952755905511811"
      ]
     },
     "execution_count": 14,
     "metadata": {},
     "output_type": "execute_result"
    }
   ],
   "source": [
    "get_accuracy(y_test_35, y_pred)\n"
   ]
  },
  {
   "cell_type": "code",
   "execution_count": 15,
   "id": "3b886695",
   "metadata": {},
   "outputs": [
    {
     "data": {
      "text/plain": [
       "0.9664804469273743"
      ]
     },
     "execution_count": 15,
     "metadata": {},
     "output_type": "execute_result"
    }
   ],
   "source": [
    "get_precision(y_test_35, y_pred)\n"
   ]
  },
  {
   "cell_type": "code",
   "execution_count": 16,
   "id": "34650c14",
   "metadata": {},
   "outputs": [
    {
     "data": {
      "text/plain": [
       "0.9351351351351351"
      ]
     },
     "execution_count": 16,
     "metadata": {},
     "output_type": "execute_result"
    }
   ],
   "source": [
    "get_recall(y_test_35, y_pred)"
   ]
  },
  {
   "cell_type": "code",
   "execution_count": 18,
   "id": "7d0bf6bc",
   "metadata": {},
   "outputs": [
    {
     "data": {
      "text/plain": [
       "0.5485564304461942"
      ]
     },
     "execution_count": 18,
     "metadata": {},
     "output_type": "execute_result"
    }
   ],
   "source": [
    "get_accuracy(y_test_35, y_pred)"
   ]
  },
  {
   "cell_type": "code",
   "execution_count": 19,
   "id": "519d7901",
   "metadata": {},
   "outputs": [
    {
     "data": {
      "text/plain": [
       "1.0"
      ]
     },
     "execution_count": 19,
     "metadata": {},
     "output_type": "execute_result"
    }
   ],
   "source": [
    "get_precision(y_test_35, y_pred)"
   ]
  },
  {
   "cell_type": "code",
   "execution_count": 20,
   "id": "cfd059fb",
   "metadata": {},
   "outputs": [
    {
     "data": {
      "text/plain": [
       "0.07027027027027027"
      ]
     },
     "execution_count": 20,
     "metadata": {},
     "output_type": "execute_result"
    }
   ],
   "source": [
    "get_recall(y_test_35, y_pred)"
   ]
  },
  {
   "cell_type": "code",
   "execution_count": null,
   "id": "2c81098e",
   "metadata": {},
   "outputs": [],
   "source": []
  }
 ],
 "metadata": {
  "kernelspec": {
   "display_name": "Python 3 (ipykernel)",
   "language": "python",
   "name": "python3"
  },
  "language_info": {
   "codemirror_mode": {
    "name": "ipython",
    "version": 3
   },
   "file_extension": ".py",
   "mimetype": "text/x-python",
   "name": "python",
   "nbconvert_exporter": "python",
   "pygments_lexer": "ipython3",
   "version": "3.10.9"
  }
 },
 "nbformat": 4,
 "nbformat_minor": 5
}
