{
  "nbformat": 4,
  "nbformat_minor": 0,
  "metadata": {
    "colab": {
      "provenance": []
    },
    "kernelspec": {
      "name": "python3",
      "display_name": "Python 3"
    },
    "language_info": {
      "name": "python"
    }
  },
  "cells": [
    {
      "cell_type": "markdown",
      "source": [
        "# MLP 2023 Term 2 OPPE 2\n",
        "\n",
        "To be filled before the exam starts:\n",
        "\n",
        "**Exam Name**: MLP OPPE 2\n",
        "\n",
        "**Name of the student:** SAISAMARTH TALURI\n",
        "\n",
        "**Roll No. of the student:** 21f1005712\n",
        "\n",
        "**Date:** 27 Aug 2023\n"
      ],
      "metadata": {
        "id": "gLRM1f-5ShEw"
      }
    },
    {
      "cell_type": "markdown",
      "source": [
        "### Q. 1: Which dataset are you using for this exam?"
      ],
      "metadata": {
        "id": "IHWeoQc-aVeH"
      }
    },
    {
      "cell_type": "code",
      "source": [
        "V1"
      ],
      "metadata": {
        "id": "COqCr98PZpg2"
      },
      "execution_count": null,
      "outputs": []
    },
    {
      "cell_type": "markdown",
      "source": [
        "### Q. 2: Break the dataset into features(X) and label (y), where the column Heart_Disease goes to y and the rest of the columns go to X. What proportion of data points belongs to label 1?"
      ],
      "metadata": {
        "id": "Uw1RexjSnhJK"
      }
    },
    {
      "cell_type": "code",
      "execution_count": 2,
      "metadata": {
        "id": "2FfA0k2KnhJL"
      },
      "outputs": [],
      "source": [
        "import pandas as pd\n",
        "import numpy as np\n",
        "\n",
        "data=pd.read_csv(\"/content/V1.csv\")"
      ]
    },
    {
      "cell_type": "code",
      "source": [
        "data.head()"
      ],
      "metadata": {
        "colab": {
          "base_uri": "https://localhost:8080/",
          "height": 226
        },
        "id": "qlfS7XW7aHoB",
        "outputId": "3ea5582e-fd4b-4c45-8d18-098d2be224d5"
      },
      "execution_count": 3,
      "outputs": [
        {
          "output_type": "execute_result",
          "data": {
            "text/plain": [
              "   General_Health  Checkup  Exercise  Skin_Cancer  Other_Cancer  Depression  \\\n",
              "0               2      4.0         1            1             0           1   \n",
              "1               3      4.0         1            0             0           0   \n",
              "2               4      2.0         0            0             0           0   \n",
              "3               4      4.0         1            0             0           0   \n",
              "4               1      4.0         1            0             0           0   \n",
              "\n",
              "   Diabetes  Arthritis  Sex  Age_Category  Height_(cm)  Weight_(kg)  BMI  \\\n",
              "0         0          1    0             8        157.0        49.44    1   \n",
              "1         0          0    0             0        157.0        47.63    1   \n",
              "2         0          0    0             3        175.0        70.31    1   \n",
              "3         0          0    1             8        183.0        79.38    1   \n",
              "4         0          1    1             8        185.0        95.25    2   \n",
              "\n",
              "   Smoking_History  Alcohol_Consumption  Fruit_Consumption  \\\n",
              "0                0                  1.0               30.0   \n",
              "1                0                  4.0                8.0   \n",
              "2                0                  3.0               36.0   \n",
              "3                0                  0.0               60.0   \n",
              "4                1                  0.0                0.0   \n",
              "\n",
              "   Green_Vegetables_Consumption  FriedPotato_Consumption  Heart_Disease  \n",
              "0                          30.0                      0.0              0  \n",
              "1                           2.0                      4.0              0  \n",
              "2                           8.0                      4.0              0  \n",
              "3                          30.0                      4.0              0  \n",
              "4                           0.0                      0.0              0  "
            ],
            "text/html": [
              "\n",
              "  <div id=\"df-688ac9ce-7063-4a48-9500-341147117f83\" class=\"colab-df-container\">\n",
              "    <div>\n",
              "<style scoped>\n",
              "    .dataframe tbody tr th:only-of-type {\n",
              "        vertical-align: middle;\n",
              "    }\n",
              "\n",
              "    .dataframe tbody tr th {\n",
              "        vertical-align: top;\n",
              "    }\n",
              "\n",
              "    .dataframe thead th {\n",
              "        text-align: right;\n",
              "    }\n",
              "</style>\n",
              "<table border=\"1\" class=\"dataframe\">\n",
              "  <thead>\n",
              "    <tr style=\"text-align: right;\">\n",
              "      <th></th>\n",
              "      <th>General_Health</th>\n",
              "      <th>Checkup</th>\n",
              "      <th>Exercise</th>\n",
              "      <th>Skin_Cancer</th>\n",
              "      <th>Other_Cancer</th>\n",
              "      <th>Depression</th>\n",
              "      <th>Diabetes</th>\n",
              "      <th>Arthritis</th>\n",
              "      <th>Sex</th>\n",
              "      <th>Age_Category</th>\n",
              "      <th>Height_(cm)</th>\n",
              "      <th>Weight_(kg)</th>\n",
              "      <th>BMI</th>\n",
              "      <th>Smoking_History</th>\n",
              "      <th>Alcohol_Consumption</th>\n",
              "      <th>Fruit_Consumption</th>\n",
              "      <th>Green_Vegetables_Consumption</th>\n",
              "      <th>FriedPotato_Consumption</th>\n",
              "      <th>Heart_Disease</th>\n",
              "    </tr>\n",
              "  </thead>\n",
              "  <tbody>\n",
              "    <tr>\n",
              "      <th>0</th>\n",
              "      <td>2</td>\n",
              "      <td>4.0</td>\n",
              "      <td>1</td>\n",
              "      <td>1</td>\n",
              "      <td>0</td>\n",
              "      <td>1</td>\n",
              "      <td>0</td>\n",
              "      <td>1</td>\n",
              "      <td>0</td>\n",
              "      <td>8</td>\n",
              "      <td>157.0</td>\n",
              "      <td>49.44</td>\n",
              "      <td>1</td>\n",
              "      <td>0</td>\n",
              "      <td>1.0</td>\n",
              "      <td>30.0</td>\n",
              "      <td>30.0</td>\n",
              "      <td>0.0</td>\n",
              "      <td>0</td>\n",
              "    </tr>\n",
              "    <tr>\n",
              "      <th>1</th>\n",
              "      <td>3</td>\n",
              "      <td>4.0</td>\n",
              "      <td>1</td>\n",
              "      <td>0</td>\n",
              "      <td>0</td>\n",
              "      <td>0</td>\n",
              "      <td>0</td>\n",
              "      <td>0</td>\n",
              "      <td>0</td>\n",
              "      <td>0</td>\n",
              "      <td>157.0</td>\n",
              "      <td>47.63</td>\n",
              "      <td>1</td>\n",
              "      <td>0</td>\n",
              "      <td>4.0</td>\n",
              "      <td>8.0</td>\n",
              "      <td>2.0</td>\n",
              "      <td>4.0</td>\n",
              "      <td>0</td>\n",
              "    </tr>\n",
              "    <tr>\n",
              "      <th>2</th>\n",
              "      <td>4</td>\n",
              "      <td>2.0</td>\n",
              "      <td>0</td>\n",
              "      <td>0</td>\n",
              "      <td>0</td>\n",
              "      <td>0</td>\n",
              "      <td>0</td>\n",
              "      <td>0</td>\n",
              "      <td>0</td>\n",
              "      <td>3</td>\n",
              "      <td>175.0</td>\n",
              "      <td>70.31</td>\n",
              "      <td>1</td>\n",
              "      <td>0</td>\n",
              "      <td>3.0</td>\n",
              "      <td>36.0</td>\n",
              "      <td>8.0</td>\n",
              "      <td>4.0</td>\n",
              "      <td>0</td>\n",
              "    </tr>\n",
              "    <tr>\n",
              "      <th>3</th>\n",
              "      <td>4</td>\n",
              "      <td>4.0</td>\n",
              "      <td>1</td>\n",
              "      <td>0</td>\n",
              "      <td>0</td>\n",
              "      <td>0</td>\n",
              "      <td>0</td>\n",
              "      <td>0</td>\n",
              "      <td>1</td>\n",
              "      <td>8</td>\n",
              "      <td>183.0</td>\n",
              "      <td>79.38</td>\n",
              "      <td>1</td>\n",
              "      <td>0</td>\n",
              "      <td>0.0</td>\n",
              "      <td>60.0</td>\n",
              "      <td>30.0</td>\n",
              "      <td>4.0</td>\n",
              "      <td>0</td>\n",
              "    </tr>\n",
              "    <tr>\n",
              "      <th>4</th>\n",
              "      <td>1</td>\n",
              "      <td>4.0</td>\n",
              "      <td>1</td>\n",
              "      <td>0</td>\n",
              "      <td>0</td>\n",
              "      <td>0</td>\n",
              "      <td>0</td>\n",
              "      <td>1</td>\n",
              "      <td>1</td>\n",
              "      <td>8</td>\n",
              "      <td>185.0</td>\n",
              "      <td>95.25</td>\n",
              "      <td>2</td>\n",
              "      <td>1</td>\n",
              "      <td>0.0</td>\n",
              "      <td>0.0</td>\n",
              "      <td>0.0</td>\n",
              "      <td>0.0</td>\n",
              "      <td>0</td>\n",
              "    </tr>\n",
              "  </tbody>\n",
              "</table>\n",
              "</div>\n",
              "    <div class=\"colab-df-buttons\">\n",
              "\n",
              "  <div class=\"colab-df-container\">\n",
              "    <button class=\"colab-df-convert\" onclick=\"convertToInteractive('df-688ac9ce-7063-4a48-9500-341147117f83')\"\n",
              "            title=\"Convert this dataframe to an interactive table.\"\n",
              "            style=\"display:none;\">\n",
              "\n",
              "  <svg xmlns=\"http://www.w3.org/2000/svg\" height=\"24px\" viewBox=\"0 -960 960 960\">\n",
              "    <path d=\"M120-120v-720h720v720H120Zm60-500h600v-160H180v160Zm220 220h160v-160H400v160Zm0 220h160v-160H400v160ZM180-400h160v-160H180v160Zm440 0h160v-160H620v160ZM180-180h160v-160H180v160Zm440 0h160v-160H620v160Z\"/>\n",
              "  </svg>\n",
              "    </button>\n",
              "\n",
              "  <style>\n",
              "    .colab-df-container {\n",
              "      display:flex;\n",
              "      gap: 12px;\n",
              "    }\n",
              "\n",
              "    .colab-df-convert {\n",
              "      background-color: #E8F0FE;\n",
              "      border: none;\n",
              "      border-radius: 50%;\n",
              "      cursor: pointer;\n",
              "      display: none;\n",
              "      fill: #1967D2;\n",
              "      height: 32px;\n",
              "      padding: 0 0 0 0;\n",
              "      width: 32px;\n",
              "    }\n",
              "\n",
              "    .colab-df-convert:hover {\n",
              "      background-color: #E2EBFA;\n",
              "      box-shadow: 0px 1px 2px rgba(60, 64, 67, 0.3), 0px 1px 3px 1px rgba(60, 64, 67, 0.15);\n",
              "      fill: #174EA6;\n",
              "    }\n",
              "\n",
              "    .colab-df-buttons div {\n",
              "      margin-bottom: 4px;\n",
              "    }\n",
              "\n",
              "    [theme=dark] .colab-df-convert {\n",
              "      background-color: #3B4455;\n",
              "      fill: #D2E3FC;\n",
              "    }\n",
              "\n",
              "    [theme=dark] .colab-df-convert:hover {\n",
              "      background-color: #434B5C;\n",
              "      box-shadow: 0px 1px 3px 1px rgba(0, 0, 0, 0.15);\n",
              "      filter: drop-shadow(0px 1px 2px rgba(0, 0, 0, 0.3));\n",
              "      fill: #FFFFFF;\n",
              "    }\n",
              "  </style>\n",
              "\n",
              "    <script>\n",
              "      const buttonEl =\n",
              "        document.querySelector('#df-688ac9ce-7063-4a48-9500-341147117f83 button.colab-df-convert');\n",
              "      buttonEl.style.display =\n",
              "        google.colab.kernel.accessAllowed ? 'block' : 'none';\n",
              "\n",
              "      async function convertToInteractive(key) {\n",
              "        const element = document.querySelector('#df-688ac9ce-7063-4a48-9500-341147117f83');\n",
              "        const dataTable =\n",
              "          await google.colab.kernel.invokeFunction('convertToInteractive',\n",
              "                                                    [key], {});\n",
              "        if (!dataTable) return;\n",
              "\n",
              "        const docLinkHtml = 'Like what you see? Visit the ' +\n",
              "          '<a target=\"_blank\" href=https://colab.research.google.com/notebooks/data_table.ipynb>data table notebook</a>'\n",
              "          + ' to learn more about interactive tables.';\n",
              "        element.innerHTML = '';\n",
              "        dataTable['output_type'] = 'display_data';\n",
              "        await google.colab.output.renderOutput(dataTable, element);\n",
              "        const docLink = document.createElement('div');\n",
              "        docLink.innerHTML = docLinkHtml;\n",
              "        element.appendChild(docLink);\n",
              "      }\n",
              "    </script>\n",
              "  </div>\n",
              "\n",
              "\n",
              "<div id=\"df-6fb9be47-ddbc-49ca-a2a5-e017f20b413b\">\n",
              "  <button class=\"colab-df-quickchart\" onclick=\"quickchart('df-6fb9be47-ddbc-49ca-a2a5-e017f20b413b')\"\n",
              "            title=\"Suggest charts.\"\n",
              "            style=\"display:none;\">\n",
              "\n",
              "<svg xmlns=\"http://www.w3.org/2000/svg\" height=\"24px\"viewBox=\"0 0 24 24\"\n",
              "     width=\"24px\">\n",
              "    <g>\n",
              "        <path d=\"M19 3H5c-1.1 0-2 .9-2 2v14c0 1.1.9 2 2 2h14c1.1 0 2-.9 2-2V5c0-1.1-.9-2-2-2zM9 17H7v-7h2v7zm4 0h-2V7h2v10zm4 0h-2v-4h2v4z\"/>\n",
              "    </g>\n",
              "</svg>\n",
              "  </button>\n",
              "\n",
              "<style>\n",
              "  .colab-df-quickchart {\n",
              "    background-color: #E8F0FE;\n",
              "    border: none;\n",
              "    border-radius: 50%;\n",
              "    cursor: pointer;\n",
              "    display: none;\n",
              "    fill: #1967D2;\n",
              "    height: 32px;\n",
              "    padding: 0 0 0 0;\n",
              "    width: 32px;\n",
              "  }\n",
              "\n",
              "  .colab-df-quickchart:hover {\n",
              "    background-color: #E2EBFA;\n",
              "    box-shadow: 0px 1px 2px rgba(60, 64, 67, 0.3), 0px 1px 3px 1px rgba(60, 64, 67, 0.15);\n",
              "    fill: #174EA6;\n",
              "  }\n",
              "\n",
              "  [theme=dark] .colab-df-quickchart {\n",
              "    background-color: #3B4455;\n",
              "    fill: #D2E3FC;\n",
              "  }\n",
              "\n",
              "  [theme=dark] .colab-df-quickchart:hover {\n",
              "    background-color: #434B5C;\n",
              "    box-shadow: 0px 1px 3px 1px rgba(0, 0, 0, 0.15);\n",
              "    filter: drop-shadow(0px 1px 2px rgba(0, 0, 0, 0.3));\n",
              "    fill: #FFFFFF;\n",
              "  }\n",
              "</style>\n",
              "\n",
              "  <script>\n",
              "    async function quickchart(key) {\n",
              "      const charts = await google.colab.kernel.invokeFunction(\n",
              "          'suggestCharts', [key], {});\n",
              "    }\n",
              "    (() => {\n",
              "      let quickchartButtonEl =\n",
              "        document.querySelector('#df-6fb9be47-ddbc-49ca-a2a5-e017f20b413b button');\n",
              "      quickchartButtonEl.style.display =\n",
              "        google.colab.kernel.accessAllowed ? 'block' : 'none';\n",
              "    })();\n",
              "  </script>\n",
              "</div>\n",
              "    </div>\n",
              "  </div>\n"
            ]
          },
          "metadata": {},
          "execution_count": 3
        }
      ]
    },
    {
      "cell_type": "code",
      "source": [
        "X = data.drop(columns=[\"Heart_Disease\"],axis=1)\n",
        "y = data[\"Heart_Disease\"]"
      ],
      "metadata": {
        "id": "SGcdDgxnaKlI"
      },
      "execution_count": 4,
      "outputs": []
    },
    {
      "cell_type": "code",
      "source": [
        "tot = 0\n",
        "for i in y:\n",
        "  if i == 1:\n",
        "    tot+=1\n"
      ],
      "metadata": {
        "id": "kJbi5fX1aZR6"
      },
      "execution_count": 10,
      "outputs": []
    },
    {
      "cell_type": "code",
      "source": [
        "tot"
      ],
      "metadata": {
        "colab": {
          "base_uri": "https://localhost:8080/"
        },
        "id": "qbwc7Aqyazkc",
        "outputId": "305d66dd-9819-4480-c3e2-7add0c1ca555"
      },
      "execution_count": 11,
      "outputs": [
        {
          "output_type": "execute_result",
          "data": {
            "text/plain": [
              "7342"
            ]
          },
          "metadata": {},
          "execution_count": 11
        }
      ]
    },
    {
      "cell_type": "code",
      "source": [
        "len(y.values)"
      ],
      "metadata": {
        "colab": {
          "base_uri": "https://localhost:8080/"
        },
        "id": "YLNj5tvta4HF",
        "outputId": "45414a60-31bc-4d77-cf9a-08e41dea2c9d"
      },
      "execution_count": 12,
      "outputs": [
        {
          "output_type": "execute_result",
          "data": {
            "text/plain": [
              "12499"
            ]
          },
          "metadata": {},
          "execution_count": 12
        }
      ]
    },
    {
      "cell_type": "code",
      "source": [
        "proportion = 7342/12499"
      ],
      "metadata": {
        "id": "3OO8xO-Ea6lk"
      },
      "execution_count": 13,
      "outputs": []
    },
    {
      "cell_type": "code",
      "source": [
        "proportion"
      ],
      "metadata": {
        "colab": {
          "base_uri": "https://localhost:8080/"
        },
        "id": "kZjURXZtbD9B",
        "outputId": "bda83fea-a42e-4277-b61e-db08609a45f0"
      },
      "execution_count": 14,
      "outputs": [
        {
          "output_type": "execute_result",
          "data": {
            "text/plain": [
              "0.5874069925594048"
            ]
          },
          "metadata": {},
          "execution_count": 14
        }
      ]
    },
    {
      "cell_type": "markdown",
      "source": [
        "### Q. 3: Split the dataset into train and test dataset into the 80:20 ratio while keeping random_state =64. How many examples are there in training dataset?"
      ],
      "metadata": {
        "id": "koQSKlS2nhsW"
      }
    },
    {
      "cell_type": "code",
      "execution_count": 15,
      "metadata": {
        "id": "kbGlvaHxnhsX"
      },
      "outputs": [],
      "source": [
        "from sklearn.model_selection import train_test_split"
      ]
    },
    {
      "cell_type": "code",
      "source": [
        "X_train, X_test, y_train, y_test = train_test_split(X, y, test_size=0.2, random_state=64)"
      ],
      "metadata": {
        "id": "U9--c_eQbeAN"
      },
      "execution_count": 17,
      "outputs": []
    },
    {
      "cell_type": "code",
      "source": [
        "X_train.shape"
      ],
      "metadata": {
        "colab": {
          "base_uri": "https://localhost:8080/"
        },
        "id": "qur6WgsCbquU",
        "outputId": "264a60b5-7c51-4ba7-82b2-01148ee84f01"
      },
      "execution_count": 19,
      "outputs": [
        {
          "output_type": "execute_result",
          "data": {
            "text/plain": [
              "(9999, 18)"
            ]
          },
          "metadata": {},
          "execution_count": 19
        }
      ]
    },
    {
      "cell_type": "markdown",
      "source": [
        "### Q. 4: Take LogisticRegression estimator with following parameters for training:\n",
        "Use lbfgs as solver\n",
        "Set random state to be equal to 64\n",
        "Tolerance for stopping criteria to be 1e-4\n",
        "inverse of regularization parameter, C = 0.1\n",
        "Maximum number of iterations taken for the solvers to converge to be 100\n",
        "Enter the f1 score for the given model using test set(X_test, y_test)"
      ],
      "metadata": {
        "id": "AHyTZdvLnh14"
      }
    },
    {
      "cell_type": "code",
      "execution_count": 22,
      "metadata": {
        "id": "J2F4KP8Xnh15"
      },
      "outputs": [],
      "source": [
        "from sklearn.linear_model import LogisticRegression"
      ]
    },
    {
      "cell_type": "code",
      "source": [
        "clf = LogisticRegression(random_state=64, solver ='lbfgs', tol = 1e-4, C = 0.1, max_iter = 100 ).fit(X_test, y_test)"
      ],
      "metadata": {
        "colab": {
          "base_uri": "https://localhost:8080/"
        },
        "id": "yRBECvoScj2L",
        "outputId": "059daead-3542-439b-85f5-da89030a7f63"
      },
      "execution_count": 42,
      "outputs": [
        {
          "output_type": "stream",
          "name": "stderr",
          "text": [
            "/usr/local/lib/python3.10/dist-packages/sklearn/linear_model/_logistic.py:458: ConvergenceWarning: lbfgs failed to converge (status=1):\n",
            "STOP: TOTAL NO. of ITERATIONS REACHED LIMIT.\n",
            "\n",
            "Increase the number of iterations (max_iter) or scale the data as shown in:\n",
            "    https://scikit-learn.org/stable/modules/preprocessing.html\n",
            "Please also refer to the documentation for alternative solver options:\n",
            "    https://scikit-learn.org/stable/modules/linear_model.html#logistic-regression\n",
            "  n_iter_i = _check_optimize_result(\n"
          ]
        }
      ]
    },
    {
      "cell_type": "code",
      "source": [
        "y_pred = clf.predict(X_test)"
      ],
      "metadata": {
        "id": "5wVOe8z4dYPY"
      },
      "execution_count": 43,
      "outputs": []
    },
    {
      "cell_type": "code",
      "source": [
        "from sklearn.metrics import f1_score"
      ],
      "metadata": {
        "id": "qvGsF-RUdEhw"
      },
      "execution_count": 44,
      "outputs": []
    },
    {
      "cell_type": "code",
      "source": [
        "f1_score(y_test, y_pred)"
      ],
      "metadata": {
        "colab": {
          "base_uri": "https://localhost:8080/"
        },
        "id": "HYkafgKSdmuX",
        "outputId": "5665dbed-1a43-473f-bcd4-34b2beae4cd2"
      },
      "execution_count": 45,
      "outputs": [
        {
          "output_type": "execute_result",
          "data": {
            "text/plain": [
              "0.8877920368542285"
            ]
          },
          "metadata": {},
          "execution_count": 45
        }
      ]
    },
    {
      "cell_type": "markdown",
      "source": [
        "### Q. 5: What is the intercept (bias term in the decision function) learnt by the above model?"
      ],
      "metadata": {
        "id": "aHvMKZRKnh-N"
      }
    },
    {
      "cell_type": "code",
      "execution_count": 35,
      "metadata": {
        "id": "rHp9EoVUnh-O",
        "colab": {
          "base_uri": "https://localhost:8080/"
        },
        "outputId": "859c8461-1f46-4db4-b5b6-b2845d8d26e8"
      },
      "outputs": [
        {
          "output_type": "execute_result",
          "data": {
            "text/plain": [
              "array([-0.10020701])"
            ]
          },
          "metadata": {},
          "execution_count": 35
        }
      ],
      "source": [
        "clf.intercept_"
      ]
    },
    {
      "cell_type": "markdown",
      "source": [
        "### Q. 6: Take LogisticRegression(random_state = 64) estimator with GridSearchCV. Hyperparameter tuning to be done over the following parameters:\n",
        "\n",
        "solver as 'lbfgs' or 'sag'\n",
        "\n",
        "Maximum number of iterations taken for the solver to converge to be [100, 200, 500]\n",
        "\n",
        "value of inverse reularization parameter C to be [0.01, 0.1, 1, 10]\n",
        "\n",
        "Use cross validation = 4\n",
        "\n",
        "Use the best model from above hyper parameter tuning process to answer following questions:\n",
        "\n",
        "\n",
        "Enter the value of C of the best estimator you got after training with GridSearchCV.\n",
        "\n"
      ],
      "metadata": {
        "id": "wakf2BDAniYB"
      }
    },
    {
      "cell_type": "code",
      "execution_count": 36,
      "metadata": {
        "id": "MZdT3ZH1niYC"
      },
      "outputs": [],
      "source": [
        "from sklearn.model_selection import GridSearchCV"
      ]
    },
    {
      "cell_type": "code",
      "source": [
        "parameters = {'solver':('lbfgs', 'sag'), 'C':[0.01, 0.1, 1, 10], 'max_iter':[100, 200, 500]}"
      ],
      "metadata": {
        "id": "KOsZWZDFevUc"
      },
      "execution_count": 39,
      "outputs": []
    },
    {
      "cell_type": "code",
      "source": [
        "clf_log = LogisticRegression(random_state=64)"
      ],
      "metadata": {
        "id": "bahfQwElf2gl"
      },
      "execution_count": 40,
      "outputs": []
    },
    {
      "cell_type": "code",
      "source": [
        "grid = GridSearchCV(clf_log, parameters, cv=4)"
      ],
      "metadata": {
        "id": "4zB0hqt8fsY6"
      },
      "execution_count": 41,
      "outputs": []
    },
    {
      "cell_type": "code",
      "source": [
        "grid.fit(X_test, y_test)"
      ],
      "metadata": {
        "colab": {
          "base_uri": "https://localhost:8080/",
          "height": 1000
        },
        "id": "EBZIG_7_gds1",
        "outputId": "e9320ef7-f6ac-4753-881f-443a8368c3c8"
      },
      "execution_count": 46,
      "outputs": [
        {
          "output_type": "stream",
          "name": "stderr",
          "text": [
            "/usr/local/lib/python3.10/dist-packages/sklearn/linear_model/_logistic.py:458: ConvergenceWarning: lbfgs failed to converge (status=1):\n",
            "STOP: TOTAL NO. of ITERATIONS REACHED LIMIT.\n",
            "\n",
            "Increase the number of iterations (max_iter) or scale the data as shown in:\n",
            "    https://scikit-learn.org/stable/modules/preprocessing.html\n",
            "Please also refer to the documentation for alternative solver options:\n",
            "    https://scikit-learn.org/stable/modules/linear_model.html#logistic-regression\n",
            "  n_iter_i = _check_optimize_result(\n",
            "/usr/local/lib/python3.10/dist-packages/sklearn/linear_model/_logistic.py:458: ConvergenceWarning: lbfgs failed to converge (status=1):\n",
            "STOP: TOTAL NO. of ITERATIONS REACHED LIMIT.\n",
            "\n",
            "Increase the number of iterations (max_iter) or scale the data as shown in:\n",
            "    https://scikit-learn.org/stable/modules/preprocessing.html\n",
            "Please also refer to the documentation for alternative solver options:\n",
            "    https://scikit-learn.org/stable/modules/linear_model.html#logistic-regression\n",
            "  n_iter_i = _check_optimize_result(\n",
            "/usr/local/lib/python3.10/dist-packages/sklearn/linear_model/_logistic.py:458: ConvergenceWarning: lbfgs failed to converge (status=1):\n",
            "STOP: TOTAL NO. of ITERATIONS REACHED LIMIT.\n",
            "\n",
            "Increase the number of iterations (max_iter) or scale the data as shown in:\n",
            "    https://scikit-learn.org/stable/modules/preprocessing.html\n",
            "Please also refer to the documentation for alternative solver options:\n",
            "    https://scikit-learn.org/stable/modules/linear_model.html#logistic-regression\n",
            "  n_iter_i = _check_optimize_result(\n",
            "/usr/local/lib/python3.10/dist-packages/sklearn/linear_model/_logistic.py:458: ConvergenceWarning: lbfgs failed to converge (status=1):\n",
            "STOP: TOTAL NO. of ITERATIONS REACHED LIMIT.\n",
            "\n",
            "Increase the number of iterations (max_iter) or scale the data as shown in:\n",
            "    https://scikit-learn.org/stable/modules/preprocessing.html\n",
            "Please also refer to the documentation for alternative solver options:\n",
            "    https://scikit-learn.org/stable/modules/linear_model.html#logistic-regression\n",
            "  n_iter_i = _check_optimize_result(\n",
            "/usr/local/lib/python3.10/dist-packages/sklearn/linear_model/_sag.py:350: ConvergenceWarning: The max_iter was reached which means the coef_ did not converge\n",
            "  warnings.warn(\n",
            "/usr/local/lib/python3.10/dist-packages/sklearn/linear_model/_sag.py:350: ConvergenceWarning: The max_iter was reached which means the coef_ did not converge\n",
            "  warnings.warn(\n",
            "/usr/local/lib/python3.10/dist-packages/sklearn/linear_model/_sag.py:350: ConvergenceWarning: The max_iter was reached which means the coef_ did not converge\n",
            "  warnings.warn(\n",
            "/usr/local/lib/python3.10/dist-packages/sklearn/linear_model/_sag.py:350: ConvergenceWarning: The max_iter was reached which means the coef_ did not converge\n",
            "  warnings.warn(\n",
            "/usr/local/lib/python3.10/dist-packages/sklearn/linear_model/_logistic.py:458: ConvergenceWarning: lbfgs failed to converge (status=1):\n",
            "STOP: TOTAL NO. of ITERATIONS REACHED LIMIT.\n",
            "\n",
            "Increase the number of iterations (max_iter) or scale the data as shown in:\n",
            "    https://scikit-learn.org/stable/modules/preprocessing.html\n",
            "Please also refer to the documentation for alternative solver options:\n",
            "    https://scikit-learn.org/stable/modules/linear_model.html#logistic-regression\n",
            "  n_iter_i = _check_optimize_result(\n",
            "/usr/local/lib/python3.10/dist-packages/sklearn/linear_model/_logistic.py:458: ConvergenceWarning: lbfgs failed to converge (status=1):\n",
            "STOP: TOTAL NO. of ITERATIONS REACHED LIMIT.\n",
            "\n",
            "Increase the number of iterations (max_iter) or scale the data as shown in:\n",
            "    https://scikit-learn.org/stable/modules/preprocessing.html\n",
            "Please also refer to the documentation for alternative solver options:\n",
            "    https://scikit-learn.org/stable/modules/linear_model.html#logistic-regression\n",
            "  n_iter_i = _check_optimize_result(\n",
            "/usr/local/lib/python3.10/dist-packages/sklearn/linear_model/_logistic.py:458: ConvergenceWarning: lbfgs failed to converge (status=1):\n",
            "STOP: TOTAL NO. of ITERATIONS REACHED LIMIT.\n",
            "\n",
            "Increase the number of iterations (max_iter) or scale the data as shown in:\n",
            "    https://scikit-learn.org/stable/modules/preprocessing.html\n",
            "Please also refer to the documentation for alternative solver options:\n",
            "    https://scikit-learn.org/stable/modules/linear_model.html#logistic-regression\n",
            "  n_iter_i = _check_optimize_result(\n",
            "/usr/local/lib/python3.10/dist-packages/sklearn/linear_model/_logistic.py:458: ConvergenceWarning: lbfgs failed to converge (status=1):\n",
            "STOP: TOTAL NO. of ITERATIONS REACHED LIMIT.\n",
            "\n",
            "Increase the number of iterations (max_iter) or scale the data as shown in:\n",
            "    https://scikit-learn.org/stable/modules/preprocessing.html\n",
            "Please also refer to the documentation for alternative solver options:\n",
            "    https://scikit-learn.org/stable/modules/linear_model.html#logistic-regression\n",
            "  n_iter_i = _check_optimize_result(\n",
            "/usr/local/lib/python3.10/dist-packages/sklearn/linear_model/_sag.py:350: ConvergenceWarning: The max_iter was reached which means the coef_ did not converge\n",
            "  warnings.warn(\n",
            "/usr/local/lib/python3.10/dist-packages/sklearn/linear_model/_sag.py:350: ConvergenceWarning: The max_iter was reached which means the coef_ did not converge\n",
            "  warnings.warn(\n",
            "/usr/local/lib/python3.10/dist-packages/sklearn/linear_model/_sag.py:350: ConvergenceWarning: The max_iter was reached which means the coef_ did not converge\n",
            "  warnings.warn(\n",
            "/usr/local/lib/python3.10/dist-packages/sklearn/linear_model/_sag.py:350: ConvergenceWarning: The max_iter was reached which means the coef_ did not converge\n",
            "  warnings.warn(\n",
            "/usr/local/lib/python3.10/dist-packages/sklearn/linear_model/_logistic.py:458: ConvergenceWarning: lbfgs failed to converge (status=1):\n",
            "STOP: TOTAL NO. of ITERATIONS REACHED LIMIT.\n",
            "\n",
            "Increase the number of iterations (max_iter) or scale the data as shown in:\n",
            "    https://scikit-learn.org/stable/modules/preprocessing.html\n",
            "Please also refer to the documentation for alternative solver options:\n",
            "    https://scikit-learn.org/stable/modules/linear_model.html#logistic-regression\n",
            "  n_iter_i = _check_optimize_result(\n",
            "/usr/local/lib/python3.10/dist-packages/sklearn/linear_model/_logistic.py:458: ConvergenceWarning: lbfgs failed to converge (status=1):\n",
            "STOP: TOTAL NO. of ITERATIONS REACHED LIMIT.\n",
            "\n",
            "Increase the number of iterations (max_iter) or scale the data as shown in:\n",
            "    https://scikit-learn.org/stable/modules/preprocessing.html\n",
            "Please also refer to the documentation for alternative solver options:\n",
            "    https://scikit-learn.org/stable/modules/linear_model.html#logistic-regression\n",
            "  n_iter_i = _check_optimize_result(\n",
            "/usr/local/lib/python3.10/dist-packages/sklearn/linear_model/_logistic.py:458: ConvergenceWarning: lbfgs failed to converge (status=1):\n",
            "STOP: TOTAL NO. of ITERATIONS REACHED LIMIT.\n",
            "\n",
            "Increase the number of iterations (max_iter) or scale the data as shown in:\n",
            "    https://scikit-learn.org/stable/modules/preprocessing.html\n",
            "Please also refer to the documentation for alternative solver options:\n",
            "    https://scikit-learn.org/stable/modules/linear_model.html#logistic-regression\n",
            "  n_iter_i = _check_optimize_result(\n",
            "/usr/local/lib/python3.10/dist-packages/sklearn/linear_model/_logistic.py:458: ConvergenceWarning: lbfgs failed to converge (status=1):\n",
            "STOP: TOTAL NO. of ITERATIONS REACHED LIMIT.\n",
            "\n",
            "Increase the number of iterations (max_iter) or scale the data as shown in:\n",
            "    https://scikit-learn.org/stable/modules/preprocessing.html\n",
            "Please also refer to the documentation for alternative solver options:\n",
            "    https://scikit-learn.org/stable/modules/linear_model.html#logistic-regression\n",
            "  n_iter_i = _check_optimize_result(\n",
            "/usr/local/lib/python3.10/dist-packages/sklearn/linear_model/_logistic.py:458: ConvergenceWarning: lbfgs failed to converge (status=1):\n",
            "STOP: TOTAL NO. of ITERATIONS REACHED LIMIT.\n",
            "\n",
            "Increase the number of iterations (max_iter) or scale the data as shown in:\n",
            "    https://scikit-learn.org/stable/modules/preprocessing.html\n",
            "Please also refer to the documentation for alternative solver options:\n",
            "    https://scikit-learn.org/stable/modules/linear_model.html#logistic-regression\n",
            "  n_iter_i = _check_optimize_result(\n",
            "/usr/local/lib/python3.10/dist-packages/sklearn/linear_model/_logistic.py:458: ConvergenceWarning: lbfgs failed to converge (status=1):\n",
            "STOP: TOTAL NO. of ITERATIONS REACHED LIMIT.\n",
            "\n",
            "Increase the number of iterations (max_iter) or scale the data as shown in:\n",
            "    https://scikit-learn.org/stable/modules/preprocessing.html\n",
            "Please also refer to the documentation for alternative solver options:\n",
            "    https://scikit-learn.org/stable/modules/linear_model.html#logistic-regression\n",
            "  n_iter_i = _check_optimize_result(\n",
            "/usr/local/lib/python3.10/dist-packages/sklearn/linear_model/_logistic.py:458: ConvergenceWarning: lbfgs failed to converge (status=1):\n",
            "STOP: TOTAL NO. of ITERATIONS REACHED LIMIT.\n",
            "\n",
            "Increase the number of iterations (max_iter) or scale the data as shown in:\n",
            "    https://scikit-learn.org/stable/modules/preprocessing.html\n",
            "Please also refer to the documentation for alternative solver options:\n",
            "    https://scikit-learn.org/stable/modules/linear_model.html#logistic-regression\n",
            "  n_iter_i = _check_optimize_result(\n",
            "/usr/local/lib/python3.10/dist-packages/sklearn/linear_model/_sag.py:350: ConvergenceWarning: The max_iter was reached which means the coef_ did not converge\n",
            "  warnings.warn(\n",
            "/usr/local/lib/python3.10/dist-packages/sklearn/linear_model/_sag.py:350: ConvergenceWarning: The max_iter was reached which means the coef_ did not converge\n",
            "  warnings.warn(\n",
            "/usr/local/lib/python3.10/dist-packages/sklearn/linear_model/_sag.py:350: ConvergenceWarning: The max_iter was reached which means the coef_ did not converge\n",
            "  warnings.warn(\n",
            "/usr/local/lib/python3.10/dist-packages/sklearn/linear_model/_sag.py:350: ConvergenceWarning: The max_iter was reached which means the coef_ did not converge\n",
            "  warnings.warn(\n",
            "/usr/local/lib/python3.10/dist-packages/sklearn/linear_model/_logistic.py:458: ConvergenceWarning: lbfgs failed to converge (status=1):\n",
            "STOP: TOTAL NO. of ITERATIONS REACHED LIMIT.\n",
            "\n",
            "Increase the number of iterations (max_iter) or scale the data as shown in:\n",
            "    https://scikit-learn.org/stable/modules/preprocessing.html\n",
            "Please also refer to the documentation for alternative solver options:\n",
            "    https://scikit-learn.org/stable/modules/linear_model.html#logistic-regression\n",
            "  n_iter_i = _check_optimize_result(\n",
            "/usr/local/lib/python3.10/dist-packages/sklearn/linear_model/_logistic.py:458: ConvergenceWarning: lbfgs failed to converge (status=1):\n",
            "STOP: TOTAL NO. of ITERATIONS REACHED LIMIT.\n",
            "\n",
            "Increase the number of iterations (max_iter) or scale the data as shown in:\n",
            "    https://scikit-learn.org/stable/modules/preprocessing.html\n",
            "Please also refer to the documentation for alternative solver options:\n",
            "    https://scikit-learn.org/stable/modules/linear_model.html#logistic-regression\n",
            "  n_iter_i = _check_optimize_result(\n",
            "/usr/local/lib/python3.10/dist-packages/sklearn/linear_model/_logistic.py:458: ConvergenceWarning: lbfgs failed to converge (status=1):\n",
            "STOP: TOTAL NO. of ITERATIONS REACHED LIMIT.\n",
            "\n",
            "Increase the number of iterations (max_iter) or scale the data as shown in:\n",
            "    https://scikit-learn.org/stable/modules/preprocessing.html\n",
            "Please also refer to the documentation for alternative solver options:\n",
            "    https://scikit-learn.org/stable/modules/linear_model.html#logistic-regression\n",
            "  n_iter_i = _check_optimize_result(\n",
            "/usr/local/lib/python3.10/dist-packages/sklearn/linear_model/_logistic.py:458: ConvergenceWarning: lbfgs failed to converge (status=1):\n",
            "STOP: TOTAL NO. of ITERATIONS REACHED LIMIT.\n",
            "\n",
            "Increase the number of iterations (max_iter) or scale the data as shown in:\n",
            "    https://scikit-learn.org/stable/modules/preprocessing.html\n",
            "Please also refer to the documentation for alternative solver options:\n",
            "    https://scikit-learn.org/stable/modules/linear_model.html#logistic-regression\n",
            "  n_iter_i = _check_optimize_result(\n",
            "/usr/local/lib/python3.10/dist-packages/sklearn/linear_model/_sag.py:350: ConvergenceWarning: The max_iter was reached which means the coef_ did not converge\n",
            "  warnings.warn(\n",
            "/usr/local/lib/python3.10/dist-packages/sklearn/linear_model/_sag.py:350: ConvergenceWarning: The max_iter was reached which means the coef_ did not converge\n",
            "  warnings.warn(\n",
            "/usr/local/lib/python3.10/dist-packages/sklearn/linear_model/_sag.py:350: ConvergenceWarning: The max_iter was reached which means the coef_ did not converge\n",
            "  warnings.warn(\n",
            "/usr/local/lib/python3.10/dist-packages/sklearn/linear_model/_sag.py:350: ConvergenceWarning: The max_iter was reached which means the coef_ did not converge\n",
            "  warnings.warn(\n",
            "/usr/local/lib/python3.10/dist-packages/sklearn/linear_model/_logistic.py:458: ConvergenceWarning: lbfgs failed to converge (status=1):\n",
            "STOP: TOTAL NO. of ITERATIONS REACHED LIMIT.\n",
            "\n",
            "Increase the number of iterations (max_iter) or scale the data as shown in:\n",
            "    https://scikit-learn.org/stable/modules/preprocessing.html\n",
            "Please also refer to the documentation for alternative solver options:\n",
            "    https://scikit-learn.org/stable/modules/linear_model.html#logistic-regression\n",
            "  n_iter_i = _check_optimize_result(\n",
            "/usr/local/lib/python3.10/dist-packages/sklearn/linear_model/_logistic.py:458: ConvergenceWarning: lbfgs failed to converge (status=1):\n",
            "STOP: TOTAL NO. of ITERATIONS REACHED LIMIT.\n",
            "\n",
            "Increase the number of iterations (max_iter) or scale the data as shown in:\n",
            "    https://scikit-learn.org/stable/modules/preprocessing.html\n",
            "Please also refer to the documentation for alternative solver options:\n",
            "    https://scikit-learn.org/stable/modules/linear_model.html#logistic-regression\n",
            "  n_iter_i = _check_optimize_result(\n",
            "/usr/local/lib/python3.10/dist-packages/sklearn/linear_model/_logistic.py:458: ConvergenceWarning: lbfgs failed to converge (status=1):\n",
            "STOP: TOTAL NO. of ITERATIONS REACHED LIMIT.\n",
            "\n",
            "Increase the number of iterations (max_iter) or scale the data as shown in:\n",
            "    https://scikit-learn.org/stable/modules/preprocessing.html\n",
            "Please also refer to the documentation for alternative solver options:\n",
            "    https://scikit-learn.org/stable/modules/linear_model.html#logistic-regression\n",
            "  n_iter_i = _check_optimize_result(\n",
            "/usr/local/lib/python3.10/dist-packages/sklearn/linear_model/_logistic.py:458: ConvergenceWarning: lbfgs failed to converge (status=1):\n",
            "STOP: TOTAL NO. of ITERATIONS REACHED LIMIT.\n",
            "\n",
            "Increase the number of iterations (max_iter) or scale the data as shown in:\n",
            "    https://scikit-learn.org/stable/modules/preprocessing.html\n",
            "Please also refer to the documentation for alternative solver options:\n",
            "    https://scikit-learn.org/stable/modules/linear_model.html#logistic-regression\n",
            "  n_iter_i = _check_optimize_result(\n",
            "/usr/local/lib/python3.10/dist-packages/sklearn/linear_model/_sag.py:350: ConvergenceWarning: The max_iter was reached which means the coef_ did not converge\n",
            "  warnings.warn(\n",
            "/usr/local/lib/python3.10/dist-packages/sklearn/linear_model/_sag.py:350: ConvergenceWarning: The max_iter was reached which means the coef_ did not converge\n",
            "  warnings.warn(\n",
            "/usr/local/lib/python3.10/dist-packages/sklearn/linear_model/_sag.py:350: ConvergenceWarning: The max_iter was reached which means the coef_ did not converge\n",
            "  warnings.warn(\n",
            "/usr/local/lib/python3.10/dist-packages/sklearn/linear_model/_sag.py:350: ConvergenceWarning: The max_iter was reached which means the coef_ did not converge\n",
            "  warnings.warn(\n",
            "/usr/local/lib/python3.10/dist-packages/sklearn/linear_model/_logistic.py:458: ConvergenceWarning: lbfgs failed to converge (status=1):\n",
            "STOP: TOTAL NO. of ITERATIONS REACHED LIMIT.\n",
            "\n",
            "Increase the number of iterations (max_iter) or scale the data as shown in:\n",
            "    https://scikit-learn.org/stable/modules/preprocessing.html\n",
            "Please also refer to the documentation for alternative solver options:\n",
            "    https://scikit-learn.org/stable/modules/linear_model.html#logistic-regression\n",
            "  n_iter_i = _check_optimize_result(\n",
            "/usr/local/lib/python3.10/dist-packages/sklearn/linear_model/_logistic.py:458: ConvergenceWarning: lbfgs failed to converge (status=1):\n",
            "STOP: TOTAL NO. of ITERATIONS REACHED LIMIT.\n",
            "\n",
            "Increase the number of iterations (max_iter) or scale the data as shown in:\n",
            "    https://scikit-learn.org/stable/modules/preprocessing.html\n",
            "Please also refer to the documentation for alternative solver options:\n",
            "    https://scikit-learn.org/stable/modules/linear_model.html#logistic-regression\n",
            "  n_iter_i = _check_optimize_result(\n",
            "/usr/local/lib/python3.10/dist-packages/sklearn/linear_model/_logistic.py:458: ConvergenceWarning: lbfgs failed to converge (status=1):\n",
            "STOP: TOTAL NO. of ITERATIONS REACHED LIMIT.\n",
            "\n",
            "Increase the number of iterations (max_iter) or scale the data as shown in:\n",
            "    https://scikit-learn.org/stable/modules/preprocessing.html\n",
            "Please also refer to the documentation for alternative solver options:\n",
            "    https://scikit-learn.org/stable/modules/linear_model.html#logistic-regression\n",
            "  n_iter_i = _check_optimize_result(\n",
            "/usr/local/lib/python3.10/dist-packages/sklearn/linear_model/_logistic.py:458: ConvergenceWarning: lbfgs failed to converge (status=1):\n",
            "STOP: TOTAL NO. of ITERATIONS REACHED LIMIT.\n",
            "\n",
            "Increase the number of iterations (max_iter) or scale the data as shown in:\n",
            "    https://scikit-learn.org/stable/modules/preprocessing.html\n",
            "Please also refer to the documentation for alternative solver options:\n",
            "    https://scikit-learn.org/stable/modules/linear_model.html#logistic-regression\n",
            "  n_iter_i = _check_optimize_result(\n",
            "/usr/local/lib/python3.10/dist-packages/sklearn/linear_model/_sag.py:350: ConvergenceWarning: The max_iter was reached which means the coef_ did not converge\n",
            "  warnings.warn(\n",
            "/usr/local/lib/python3.10/dist-packages/sklearn/linear_model/_sag.py:350: ConvergenceWarning: The max_iter was reached which means the coef_ did not converge\n",
            "  warnings.warn(\n",
            "/usr/local/lib/python3.10/dist-packages/sklearn/linear_model/_sag.py:350: ConvergenceWarning: The max_iter was reached which means the coef_ did not converge\n",
            "  warnings.warn(\n",
            "/usr/local/lib/python3.10/dist-packages/sklearn/linear_model/_sag.py:350: ConvergenceWarning: The max_iter was reached which means the coef_ did not converge\n",
            "  warnings.warn(\n",
            "/usr/local/lib/python3.10/dist-packages/sklearn/linear_model/_logistic.py:458: ConvergenceWarning: lbfgs failed to converge (status=1):\n",
            "STOP: TOTAL NO. of ITERATIONS REACHED LIMIT.\n",
            "\n",
            "Increase the number of iterations (max_iter) or scale the data as shown in:\n",
            "    https://scikit-learn.org/stable/modules/preprocessing.html\n",
            "Please also refer to the documentation for alternative solver options:\n",
            "    https://scikit-learn.org/stable/modules/linear_model.html#logistic-regression\n",
            "  n_iter_i = _check_optimize_result(\n",
            "/usr/local/lib/python3.10/dist-packages/sklearn/linear_model/_logistic.py:458: ConvergenceWarning: lbfgs failed to converge (status=1):\n",
            "STOP: TOTAL NO. of ITERATIONS REACHED LIMIT.\n",
            "\n",
            "Increase the number of iterations (max_iter) or scale the data as shown in:\n",
            "    https://scikit-learn.org/stable/modules/preprocessing.html\n",
            "Please also refer to the documentation for alternative solver options:\n",
            "    https://scikit-learn.org/stable/modules/linear_model.html#logistic-regression\n",
            "  n_iter_i = _check_optimize_result(\n",
            "/usr/local/lib/python3.10/dist-packages/sklearn/linear_model/_logistic.py:458: ConvergenceWarning: lbfgs failed to converge (status=1):\n",
            "STOP: TOTAL NO. of ITERATIONS REACHED LIMIT.\n",
            "\n",
            "Increase the number of iterations (max_iter) or scale the data as shown in:\n",
            "    https://scikit-learn.org/stable/modules/preprocessing.html\n",
            "Please also refer to the documentation for alternative solver options:\n",
            "    https://scikit-learn.org/stable/modules/linear_model.html#logistic-regression\n",
            "  n_iter_i = _check_optimize_result(\n",
            "/usr/local/lib/python3.10/dist-packages/sklearn/linear_model/_logistic.py:458: ConvergenceWarning: lbfgs failed to converge (status=1):\n",
            "STOP: TOTAL NO. of ITERATIONS REACHED LIMIT.\n",
            "\n",
            "Increase the number of iterations (max_iter) or scale the data as shown in:\n",
            "    https://scikit-learn.org/stable/modules/preprocessing.html\n",
            "Please also refer to the documentation for alternative solver options:\n",
            "    https://scikit-learn.org/stable/modules/linear_model.html#logistic-regression\n",
            "  n_iter_i = _check_optimize_result(\n",
            "/usr/local/lib/python3.10/dist-packages/sklearn/linear_model/_sag.py:350: ConvergenceWarning: The max_iter was reached which means the coef_ did not converge\n",
            "  warnings.warn(\n",
            "/usr/local/lib/python3.10/dist-packages/sklearn/linear_model/_sag.py:350: ConvergenceWarning: The max_iter was reached which means the coef_ did not converge\n",
            "  warnings.warn(\n",
            "/usr/local/lib/python3.10/dist-packages/sklearn/linear_model/_sag.py:350: ConvergenceWarning: The max_iter was reached which means the coef_ did not converge\n",
            "  warnings.warn(\n",
            "/usr/local/lib/python3.10/dist-packages/sklearn/linear_model/_sag.py:350: ConvergenceWarning: The max_iter was reached which means the coef_ did not converge\n",
            "  warnings.warn(\n",
            "/usr/local/lib/python3.10/dist-packages/sklearn/linear_model/_logistic.py:458: ConvergenceWarning: lbfgs failed to converge (status=1):\n",
            "STOP: TOTAL NO. of ITERATIONS REACHED LIMIT.\n",
            "\n",
            "Increase the number of iterations (max_iter) or scale the data as shown in:\n",
            "    https://scikit-learn.org/stable/modules/preprocessing.html\n",
            "Please also refer to the documentation for alternative solver options:\n",
            "    https://scikit-learn.org/stable/modules/linear_model.html#logistic-regression\n",
            "  n_iter_i = _check_optimize_result(\n",
            "/usr/local/lib/python3.10/dist-packages/sklearn/linear_model/_logistic.py:458: ConvergenceWarning: lbfgs failed to converge (status=1):\n",
            "STOP: TOTAL NO. of ITERATIONS REACHED LIMIT.\n",
            "\n",
            "Increase the number of iterations (max_iter) or scale the data as shown in:\n",
            "    https://scikit-learn.org/stable/modules/preprocessing.html\n",
            "Please also refer to the documentation for alternative solver options:\n",
            "    https://scikit-learn.org/stable/modules/linear_model.html#logistic-regression\n",
            "  n_iter_i = _check_optimize_result(\n",
            "/usr/local/lib/python3.10/dist-packages/sklearn/linear_model/_logistic.py:458: ConvergenceWarning: lbfgs failed to converge (status=1):\n",
            "STOP: TOTAL NO. of ITERATIONS REACHED LIMIT.\n",
            "\n",
            "Increase the number of iterations (max_iter) or scale the data as shown in:\n",
            "    https://scikit-learn.org/stable/modules/preprocessing.html\n",
            "Please also refer to the documentation for alternative solver options:\n",
            "    https://scikit-learn.org/stable/modules/linear_model.html#logistic-regression\n",
            "  n_iter_i = _check_optimize_result(\n",
            "/usr/local/lib/python3.10/dist-packages/sklearn/linear_model/_logistic.py:458: ConvergenceWarning: lbfgs failed to converge (status=1):\n",
            "STOP: TOTAL NO. of ITERATIONS REACHED LIMIT.\n",
            "\n",
            "Increase the number of iterations (max_iter) or scale the data as shown in:\n",
            "    https://scikit-learn.org/stable/modules/preprocessing.html\n",
            "Please also refer to the documentation for alternative solver options:\n",
            "    https://scikit-learn.org/stable/modules/linear_model.html#logistic-regression\n",
            "  n_iter_i = _check_optimize_result(\n",
            "/usr/local/lib/python3.10/dist-packages/sklearn/linear_model/_sag.py:350: ConvergenceWarning: The max_iter was reached which means the coef_ did not converge\n",
            "  warnings.warn(\n",
            "/usr/local/lib/python3.10/dist-packages/sklearn/linear_model/_sag.py:350: ConvergenceWarning: The max_iter was reached which means the coef_ did not converge\n",
            "  warnings.warn(\n",
            "/usr/local/lib/python3.10/dist-packages/sklearn/linear_model/_sag.py:350: ConvergenceWarning: The max_iter was reached which means the coef_ did not converge\n",
            "  warnings.warn(\n",
            "/usr/local/lib/python3.10/dist-packages/sklearn/linear_model/_sag.py:350: ConvergenceWarning: The max_iter was reached which means the coef_ did not converge\n",
            "  warnings.warn(\n",
            "/usr/local/lib/python3.10/dist-packages/sklearn/linear_model/_logistic.py:458: ConvergenceWarning: lbfgs failed to converge (status=1):\n",
            "STOP: TOTAL NO. of ITERATIONS REACHED LIMIT.\n",
            "\n",
            "Increase the number of iterations (max_iter) or scale the data as shown in:\n",
            "    https://scikit-learn.org/stable/modules/preprocessing.html\n",
            "Please also refer to the documentation for alternative solver options:\n",
            "    https://scikit-learn.org/stable/modules/linear_model.html#logistic-regression\n",
            "  n_iter_i = _check_optimize_result(\n",
            "/usr/local/lib/python3.10/dist-packages/sklearn/linear_model/_logistic.py:458: ConvergenceWarning: lbfgs failed to converge (status=1):\n",
            "STOP: TOTAL NO. of ITERATIONS REACHED LIMIT.\n",
            "\n",
            "Increase the number of iterations (max_iter) or scale the data as shown in:\n",
            "    https://scikit-learn.org/stable/modules/preprocessing.html\n",
            "Please also refer to the documentation for alternative solver options:\n",
            "    https://scikit-learn.org/stable/modules/linear_model.html#logistic-regression\n",
            "  n_iter_i = _check_optimize_result(\n",
            "/usr/local/lib/python3.10/dist-packages/sklearn/linear_model/_logistic.py:458: ConvergenceWarning: lbfgs failed to converge (status=1):\n",
            "STOP: TOTAL NO. of ITERATIONS REACHED LIMIT.\n",
            "\n",
            "Increase the number of iterations (max_iter) or scale the data as shown in:\n",
            "    https://scikit-learn.org/stable/modules/preprocessing.html\n",
            "Please also refer to the documentation for alternative solver options:\n",
            "    https://scikit-learn.org/stable/modules/linear_model.html#logistic-regression\n",
            "  n_iter_i = _check_optimize_result(\n",
            "/usr/local/lib/python3.10/dist-packages/sklearn/linear_model/_logistic.py:458: ConvergenceWarning: lbfgs failed to converge (status=1):\n",
            "STOP: TOTAL NO. of ITERATIONS REACHED LIMIT.\n",
            "\n",
            "Increase the number of iterations (max_iter) or scale the data as shown in:\n",
            "    https://scikit-learn.org/stable/modules/preprocessing.html\n",
            "Please also refer to the documentation for alternative solver options:\n",
            "    https://scikit-learn.org/stable/modules/linear_model.html#logistic-regression\n",
            "  n_iter_i = _check_optimize_result(\n",
            "/usr/local/lib/python3.10/dist-packages/sklearn/linear_model/_sag.py:350: ConvergenceWarning: The max_iter was reached which means the coef_ did not converge\n",
            "  warnings.warn(\n",
            "/usr/local/lib/python3.10/dist-packages/sklearn/linear_model/_sag.py:350: ConvergenceWarning: The max_iter was reached which means the coef_ did not converge\n",
            "  warnings.warn(\n",
            "/usr/local/lib/python3.10/dist-packages/sklearn/linear_model/_sag.py:350: ConvergenceWarning: The max_iter was reached which means the coef_ did not converge\n",
            "  warnings.warn(\n",
            "/usr/local/lib/python3.10/dist-packages/sklearn/linear_model/_sag.py:350: ConvergenceWarning: The max_iter was reached which means the coef_ did not converge\n",
            "  warnings.warn(\n",
            "/usr/local/lib/python3.10/dist-packages/sklearn/linear_model/_logistic.py:458: ConvergenceWarning: lbfgs failed to converge (status=1):\n",
            "STOP: TOTAL NO. of ITERATIONS REACHED LIMIT.\n",
            "\n",
            "Increase the number of iterations (max_iter) or scale the data as shown in:\n",
            "    https://scikit-learn.org/stable/modules/preprocessing.html\n",
            "Please also refer to the documentation for alternative solver options:\n",
            "    https://scikit-learn.org/stable/modules/linear_model.html#logistic-regression\n",
            "  n_iter_i = _check_optimize_result(\n",
            "/usr/local/lib/python3.10/dist-packages/sklearn/linear_model/_logistic.py:458: ConvergenceWarning: lbfgs failed to converge (status=1):\n",
            "STOP: TOTAL NO. of ITERATIONS REACHED LIMIT.\n",
            "\n",
            "Increase the number of iterations (max_iter) or scale the data as shown in:\n",
            "    https://scikit-learn.org/stable/modules/preprocessing.html\n",
            "Please also refer to the documentation for alternative solver options:\n",
            "    https://scikit-learn.org/stable/modules/linear_model.html#logistic-regression\n",
            "  n_iter_i = _check_optimize_result(\n",
            "/usr/local/lib/python3.10/dist-packages/sklearn/linear_model/_logistic.py:458: ConvergenceWarning: lbfgs failed to converge (status=1):\n",
            "STOP: TOTAL NO. of ITERATIONS REACHED LIMIT.\n",
            "\n",
            "Increase the number of iterations (max_iter) or scale the data as shown in:\n",
            "    https://scikit-learn.org/stable/modules/preprocessing.html\n",
            "Please also refer to the documentation for alternative solver options:\n",
            "    https://scikit-learn.org/stable/modules/linear_model.html#logistic-regression\n",
            "  n_iter_i = _check_optimize_result(\n",
            "/usr/local/lib/python3.10/dist-packages/sklearn/linear_model/_logistic.py:458: ConvergenceWarning: lbfgs failed to converge (status=1):\n",
            "STOP: TOTAL NO. of ITERATIONS REACHED LIMIT.\n",
            "\n",
            "Increase the number of iterations (max_iter) or scale the data as shown in:\n",
            "    https://scikit-learn.org/stable/modules/preprocessing.html\n",
            "Please also refer to the documentation for alternative solver options:\n",
            "    https://scikit-learn.org/stable/modules/linear_model.html#logistic-regression\n",
            "  n_iter_i = _check_optimize_result(\n",
            "/usr/local/lib/python3.10/dist-packages/sklearn/linear_model/_sag.py:350: ConvergenceWarning: The max_iter was reached which means the coef_ did not converge\n",
            "  warnings.warn(\n",
            "/usr/local/lib/python3.10/dist-packages/sklearn/linear_model/_sag.py:350: ConvergenceWarning: The max_iter was reached which means the coef_ did not converge\n",
            "  warnings.warn(\n",
            "/usr/local/lib/python3.10/dist-packages/sklearn/linear_model/_sag.py:350: ConvergenceWarning: The max_iter was reached which means the coef_ did not converge\n",
            "  warnings.warn(\n",
            "/usr/local/lib/python3.10/dist-packages/sklearn/linear_model/_sag.py:350: ConvergenceWarning: The max_iter was reached which means the coef_ did not converge\n",
            "  warnings.warn(\n",
            "/usr/local/lib/python3.10/dist-packages/sklearn/linear_model/_logistic.py:458: ConvergenceWarning: lbfgs failed to converge (status=1):\n",
            "STOP: TOTAL NO. of ITERATIONS REACHED LIMIT.\n",
            "\n",
            "Increase the number of iterations (max_iter) or scale the data as shown in:\n",
            "    https://scikit-learn.org/stable/modules/preprocessing.html\n",
            "Please also refer to the documentation for alternative solver options:\n",
            "    https://scikit-learn.org/stable/modules/linear_model.html#logistic-regression\n",
            "  n_iter_i = _check_optimize_result(\n",
            "/usr/local/lib/python3.10/dist-packages/sklearn/linear_model/_logistic.py:458: ConvergenceWarning: lbfgs failed to converge (status=1):\n",
            "STOP: TOTAL NO. of ITERATIONS REACHED LIMIT.\n",
            "\n",
            "Increase the number of iterations (max_iter) or scale the data as shown in:\n",
            "    https://scikit-learn.org/stable/modules/preprocessing.html\n",
            "Please also refer to the documentation for alternative solver options:\n",
            "    https://scikit-learn.org/stable/modules/linear_model.html#logistic-regression\n",
            "  n_iter_i = _check_optimize_result(\n",
            "/usr/local/lib/python3.10/dist-packages/sklearn/linear_model/_logistic.py:458: ConvergenceWarning: lbfgs failed to converge (status=1):\n",
            "STOP: TOTAL NO. of ITERATIONS REACHED LIMIT.\n",
            "\n",
            "Increase the number of iterations (max_iter) or scale the data as shown in:\n",
            "    https://scikit-learn.org/stable/modules/preprocessing.html\n",
            "Please also refer to the documentation for alternative solver options:\n",
            "    https://scikit-learn.org/stable/modules/linear_model.html#logistic-regression\n",
            "  n_iter_i = _check_optimize_result(\n",
            "/usr/local/lib/python3.10/dist-packages/sklearn/linear_model/_logistic.py:458: ConvergenceWarning: lbfgs failed to converge (status=1):\n",
            "STOP: TOTAL NO. of ITERATIONS REACHED LIMIT.\n",
            "\n",
            "Increase the number of iterations (max_iter) or scale the data as shown in:\n",
            "    https://scikit-learn.org/stable/modules/preprocessing.html\n",
            "Please also refer to the documentation for alternative solver options:\n",
            "    https://scikit-learn.org/stable/modules/linear_model.html#logistic-regression\n",
            "  n_iter_i = _check_optimize_result(\n",
            "/usr/local/lib/python3.10/dist-packages/sklearn/linear_model/_sag.py:350: ConvergenceWarning: The max_iter was reached which means the coef_ did not converge\n",
            "  warnings.warn(\n",
            "/usr/local/lib/python3.10/dist-packages/sklearn/linear_model/_sag.py:350: ConvergenceWarning: The max_iter was reached which means the coef_ did not converge\n",
            "  warnings.warn(\n",
            "/usr/local/lib/python3.10/dist-packages/sklearn/linear_model/_sag.py:350: ConvergenceWarning: The max_iter was reached which means the coef_ did not converge\n",
            "  warnings.warn(\n",
            "/usr/local/lib/python3.10/dist-packages/sklearn/linear_model/_sag.py:350: ConvergenceWarning: The max_iter was reached which means the coef_ did not converge\n",
            "  warnings.warn(\n",
            "/usr/local/lib/python3.10/dist-packages/sklearn/linear_model/_logistic.py:458: ConvergenceWarning: lbfgs failed to converge (status=1):\n",
            "STOP: TOTAL NO. of ITERATIONS REACHED LIMIT.\n",
            "\n",
            "Increase the number of iterations (max_iter) or scale the data as shown in:\n",
            "    https://scikit-learn.org/stable/modules/preprocessing.html\n",
            "Please also refer to the documentation for alternative solver options:\n",
            "    https://scikit-learn.org/stable/modules/linear_model.html#logistic-regression\n",
            "  n_iter_i = _check_optimize_result(\n"
          ]
        },
        {
          "output_type": "execute_result",
          "data": {
            "text/plain": [
              "GridSearchCV(cv=4, estimator=LogisticRegression(random_state=64),\n",
              "             param_grid={'C': [0.01, 0.1, 1, 10], 'max_iter': [100, 200, 500],\n",
              "                         'solver': ('lbfgs', 'sag')})"
            ],
            "text/html": [
              "<style>#sk-container-id-1 {color: black;background-color: white;}#sk-container-id-1 pre{padding: 0;}#sk-container-id-1 div.sk-toggleable {background-color: white;}#sk-container-id-1 label.sk-toggleable__label {cursor: pointer;display: block;width: 100%;margin-bottom: 0;padding: 0.3em;box-sizing: border-box;text-align: center;}#sk-container-id-1 label.sk-toggleable__label-arrow:before {content: \"▸\";float: left;margin-right: 0.25em;color: #696969;}#sk-container-id-1 label.sk-toggleable__label-arrow:hover:before {color: black;}#sk-container-id-1 div.sk-estimator:hover label.sk-toggleable__label-arrow:before {color: black;}#sk-container-id-1 div.sk-toggleable__content {max-height: 0;max-width: 0;overflow: hidden;text-align: left;background-color: #f0f8ff;}#sk-container-id-1 div.sk-toggleable__content pre {margin: 0.2em;color: black;border-radius: 0.25em;background-color: #f0f8ff;}#sk-container-id-1 input.sk-toggleable__control:checked~div.sk-toggleable__content {max-height: 200px;max-width: 100%;overflow: auto;}#sk-container-id-1 input.sk-toggleable__control:checked~label.sk-toggleable__label-arrow:before {content: \"▾\";}#sk-container-id-1 div.sk-estimator input.sk-toggleable__control:checked~label.sk-toggleable__label {background-color: #d4ebff;}#sk-container-id-1 div.sk-label input.sk-toggleable__control:checked~label.sk-toggleable__label {background-color: #d4ebff;}#sk-container-id-1 input.sk-hidden--visually {border: 0;clip: rect(1px 1px 1px 1px);clip: rect(1px, 1px, 1px, 1px);height: 1px;margin: -1px;overflow: hidden;padding: 0;position: absolute;width: 1px;}#sk-container-id-1 div.sk-estimator {font-family: monospace;background-color: #f0f8ff;border: 1px dotted black;border-radius: 0.25em;box-sizing: border-box;margin-bottom: 0.5em;}#sk-container-id-1 div.sk-estimator:hover {background-color: #d4ebff;}#sk-container-id-1 div.sk-parallel-item::after {content: \"\";width: 100%;border-bottom: 1px solid gray;flex-grow: 1;}#sk-container-id-1 div.sk-label:hover label.sk-toggleable__label {background-color: #d4ebff;}#sk-container-id-1 div.sk-serial::before {content: \"\";position: absolute;border-left: 1px solid gray;box-sizing: border-box;top: 0;bottom: 0;left: 50%;z-index: 0;}#sk-container-id-1 div.sk-serial {display: flex;flex-direction: column;align-items: center;background-color: white;padding-right: 0.2em;padding-left: 0.2em;position: relative;}#sk-container-id-1 div.sk-item {position: relative;z-index: 1;}#sk-container-id-1 div.sk-parallel {display: flex;align-items: stretch;justify-content: center;background-color: white;position: relative;}#sk-container-id-1 div.sk-item::before, #sk-container-id-1 div.sk-parallel-item::before {content: \"\";position: absolute;border-left: 1px solid gray;box-sizing: border-box;top: 0;bottom: 0;left: 50%;z-index: -1;}#sk-container-id-1 div.sk-parallel-item {display: flex;flex-direction: column;z-index: 1;position: relative;background-color: white;}#sk-container-id-1 div.sk-parallel-item:first-child::after {align-self: flex-end;width: 50%;}#sk-container-id-1 div.sk-parallel-item:last-child::after {align-self: flex-start;width: 50%;}#sk-container-id-1 div.sk-parallel-item:only-child::after {width: 0;}#sk-container-id-1 div.sk-dashed-wrapped {border: 1px dashed gray;margin: 0 0.4em 0.5em 0.4em;box-sizing: border-box;padding-bottom: 0.4em;background-color: white;}#sk-container-id-1 div.sk-label label {font-family: monospace;font-weight: bold;display: inline-block;line-height: 1.2em;}#sk-container-id-1 div.sk-label-container {text-align: center;}#sk-container-id-1 div.sk-container {/* jupyter's `normalize.less` sets `[hidden] { display: none; }` but bootstrap.min.css set `[hidden] { display: none !important; }` so we also need the `!important` here to be able to override the default hidden behavior on the sphinx rendered scikit-learn.org. See: https://github.com/scikit-learn/scikit-learn/issues/21755 */display: inline-block !important;position: relative;}#sk-container-id-1 div.sk-text-repr-fallback {display: none;}</style><div id=\"sk-container-id-1\" class=\"sk-top-container\"><div class=\"sk-text-repr-fallback\"><pre>GridSearchCV(cv=4, estimator=LogisticRegression(random_state=64),\n",
              "             param_grid={&#x27;C&#x27;: [0.01, 0.1, 1, 10], &#x27;max_iter&#x27;: [100, 200, 500],\n",
              "                         &#x27;solver&#x27;: (&#x27;lbfgs&#x27;, &#x27;sag&#x27;)})</pre><b>In a Jupyter environment, please rerun this cell to show the HTML representation or trust the notebook. <br />On GitHub, the HTML representation is unable to render, please try loading this page with nbviewer.org.</b></div><div class=\"sk-container\" hidden><div class=\"sk-item sk-dashed-wrapped\"><div class=\"sk-label-container\"><div class=\"sk-label sk-toggleable\"><input class=\"sk-toggleable__control sk-hidden--visually\" id=\"sk-estimator-id-1\" type=\"checkbox\" ><label for=\"sk-estimator-id-1\" class=\"sk-toggleable__label sk-toggleable__label-arrow\">GridSearchCV</label><div class=\"sk-toggleable__content\"><pre>GridSearchCV(cv=4, estimator=LogisticRegression(random_state=64),\n",
              "             param_grid={&#x27;C&#x27;: [0.01, 0.1, 1, 10], &#x27;max_iter&#x27;: [100, 200, 500],\n",
              "                         &#x27;solver&#x27;: (&#x27;lbfgs&#x27;, &#x27;sag&#x27;)})</pre></div></div></div><div class=\"sk-parallel\"><div class=\"sk-parallel-item\"><div class=\"sk-item\"><div class=\"sk-label-container\"><div class=\"sk-label sk-toggleable\"><input class=\"sk-toggleable__control sk-hidden--visually\" id=\"sk-estimator-id-2\" type=\"checkbox\" ><label for=\"sk-estimator-id-2\" class=\"sk-toggleable__label sk-toggleable__label-arrow\">estimator: LogisticRegression</label><div class=\"sk-toggleable__content\"><pre>LogisticRegression(random_state=64)</pre></div></div></div><div class=\"sk-serial\"><div class=\"sk-item\"><div class=\"sk-estimator sk-toggleable\"><input class=\"sk-toggleable__control sk-hidden--visually\" id=\"sk-estimator-id-3\" type=\"checkbox\" ><label for=\"sk-estimator-id-3\" class=\"sk-toggleable__label sk-toggleable__label-arrow\">LogisticRegression</label><div class=\"sk-toggleable__content\"><pre>LogisticRegression(random_state=64)</pre></div></div></div></div></div></div></div></div></div></div>"
            ]
          },
          "metadata": {},
          "execution_count": 46
        }
      ]
    },
    {
      "cell_type": "code",
      "source": [
        "grid.best_estimator_"
      ],
      "metadata": {
        "colab": {
          "base_uri": "https://localhost:8080/",
          "height": 74
        },
        "id": "VMIW-OXog890",
        "outputId": "ff9cf764-db5d-4e09-b9f1-c4627583e4f9"
      },
      "execution_count": 47,
      "outputs": [
        {
          "output_type": "execute_result",
          "data": {
            "text/plain": [
              "LogisticRegression(C=1, max_iter=500, random_state=64)"
            ],
            "text/html": [
              "<style>#sk-container-id-2 {color: black;background-color: white;}#sk-container-id-2 pre{padding: 0;}#sk-container-id-2 div.sk-toggleable {background-color: white;}#sk-container-id-2 label.sk-toggleable__label {cursor: pointer;display: block;width: 100%;margin-bottom: 0;padding: 0.3em;box-sizing: border-box;text-align: center;}#sk-container-id-2 label.sk-toggleable__label-arrow:before {content: \"▸\";float: left;margin-right: 0.25em;color: #696969;}#sk-container-id-2 label.sk-toggleable__label-arrow:hover:before {color: black;}#sk-container-id-2 div.sk-estimator:hover label.sk-toggleable__label-arrow:before {color: black;}#sk-container-id-2 div.sk-toggleable__content {max-height: 0;max-width: 0;overflow: hidden;text-align: left;background-color: #f0f8ff;}#sk-container-id-2 div.sk-toggleable__content pre {margin: 0.2em;color: black;border-radius: 0.25em;background-color: #f0f8ff;}#sk-container-id-2 input.sk-toggleable__control:checked~div.sk-toggleable__content {max-height: 200px;max-width: 100%;overflow: auto;}#sk-container-id-2 input.sk-toggleable__control:checked~label.sk-toggleable__label-arrow:before {content: \"▾\";}#sk-container-id-2 div.sk-estimator input.sk-toggleable__control:checked~label.sk-toggleable__label {background-color: #d4ebff;}#sk-container-id-2 div.sk-label input.sk-toggleable__control:checked~label.sk-toggleable__label {background-color: #d4ebff;}#sk-container-id-2 input.sk-hidden--visually {border: 0;clip: rect(1px 1px 1px 1px);clip: rect(1px, 1px, 1px, 1px);height: 1px;margin: -1px;overflow: hidden;padding: 0;position: absolute;width: 1px;}#sk-container-id-2 div.sk-estimator {font-family: monospace;background-color: #f0f8ff;border: 1px dotted black;border-radius: 0.25em;box-sizing: border-box;margin-bottom: 0.5em;}#sk-container-id-2 div.sk-estimator:hover {background-color: #d4ebff;}#sk-container-id-2 div.sk-parallel-item::after {content: \"\";width: 100%;border-bottom: 1px solid gray;flex-grow: 1;}#sk-container-id-2 div.sk-label:hover label.sk-toggleable__label {background-color: #d4ebff;}#sk-container-id-2 div.sk-serial::before {content: \"\";position: absolute;border-left: 1px solid gray;box-sizing: border-box;top: 0;bottom: 0;left: 50%;z-index: 0;}#sk-container-id-2 div.sk-serial {display: flex;flex-direction: column;align-items: center;background-color: white;padding-right: 0.2em;padding-left: 0.2em;position: relative;}#sk-container-id-2 div.sk-item {position: relative;z-index: 1;}#sk-container-id-2 div.sk-parallel {display: flex;align-items: stretch;justify-content: center;background-color: white;position: relative;}#sk-container-id-2 div.sk-item::before, #sk-container-id-2 div.sk-parallel-item::before {content: \"\";position: absolute;border-left: 1px solid gray;box-sizing: border-box;top: 0;bottom: 0;left: 50%;z-index: -1;}#sk-container-id-2 div.sk-parallel-item {display: flex;flex-direction: column;z-index: 1;position: relative;background-color: white;}#sk-container-id-2 div.sk-parallel-item:first-child::after {align-self: flex-end;width: 50%;}#sk-container-id-2 div.sk-parallel-item:last-child::after {align-self: flex-start;width: 50%;}#sk-container-id-2 div.sk-parallel-item:only-child::after {width: 0;}#sk-container-id-2 div.sk-dashed-wrapped {border: 1px dashed gray;margin: 0 0.4em 0.5em 0.4em;box-sizing: border-box;padding-bottom: 0.4em;background-color: white;}#sk-container-id-2 div.sk-label label {font-family: monospace;font-weight: bold;display: inline-block;line-height: 1.2em;}#sk-container-id-2 div.sk-label-container {text-align: center;}#sk-container-id-2 div.sk-container {/* jupyter's `normalize.less` sets `[hidden] { display: none; }` but bootstrap.min.css set `[hidden] { display: none !important; }` so we also need the `!important` here to be able to override the default hidden behavior on the sphinx rendered scikit-learn.org. See: https://github.com/scikit-learn/scikit-learn/issues/21755 */display: inline-block !important;position: relative;}#sk-container-id-2 div.sk-text-repr-fallback {display: none;}</style><div id=\"sk-container-id-2\" class=\"sk-top-container\"><div class=\"sk-text-repr-fallback\"><pre>LogisticRegression(C=1, max_iter=500, random_state=64)</pre><b>In a Jupyter environment, please rerun this cell to show the HTML representation or trust the notebook. <br />On GitHub, the HTML representation is unable to render, please try loading this page with nbviewer.org.</b></div><div class=\"sk-container\" hidden><div class=\"sk-item\"><div class=\"sk-estimator sk-toggleable\"><input class=\"sk-toggleable__control sk-hidden--visually\" id=\"sk-estimator-id-4\" type=\"checkbox\" checked><label for=\"sk-estimator-id-4\" class=\"sk-toggleable__label sk-toggleable__label-arrow\">LogisticRegression</label><div class=\"sk-toggleable__content\"><pre>LogisticRegression(C=1, max_iter=500, random_state=64)</pre></div></div></div></div></div>"
            ]
          },
          "metadata": {},
          "execution_count": 47
        }
      ]
    },
    {
      "cell_type": "markdown",
      "source": [
        "### Q. 7:\n",
        "Enter the value of the precision on the test set using the best model:"
      ],
      "metadata": {
        "id": "aU_rpC49nihO"
      }
    },
    {
      "cell_type": "code",
      "execution_count": 48,
      "metadata": {
        "id": "hyYzgH1unihP"
      },
      "outputs": [],
      "source": [
        "from sklearn.metrics import precision_score"
      ]
    },
    {
      "cell_type": "code",
      "source": [
        "y_pred_grid = grid.predict(X_test)"
      ],
      "metadata": {
        "id": "nEgGYqz1hdrk"
      },
      "execution_count": 50,
      "outputs": []
    },
    {
      "cell_type": "code",
      "source": [
        "precision_score(y_test, y_pred_grid)"
      ],
      "metadata": {
        "colab": {
          "base_uri": "https://localhost:8080/"
        },
        "id": "ALY6wdrrh3kl",
        "outputId": "10818a4a-ce1c-4209-b14d-858b8b55949f"
      },
      "execution_count": 52,
      "outputs": [
        {
          "output_type": "execute_result",
          "data": {
            "text/plain": [
              "0.8739495798319328"
            ]
          },
          "metadata": {},
          "execution_count": 52
        }
      ]
    },
    {
      "cell_type": "markdown",
      "source": [
        "### Q. 8:\n",
        "Use SGDClassifier on the training dataset (X_train and y_train) to train the model. Use the following parameters:\n",
        "log_loss is the loss function to be used\n",
        "apply ridge regularization,\n",
        "maximum number of iterations is 10\n",
        "constant learning rate of 0.01,\n",
        "regularization rate value is 0.001,\n",
        "Take random_state=64.\n",
        "Set warm_start as False\n",
        "Note : Please ignore the convergence warning.\n",
        "\n",
        "Using above model, calculate and write the correct value of f1_score for the test set."
      ],
      "metadata": {
        "id": "6G8XIh3Zniox"
      }
    },
    {
      "cell_type": "code",
      "execution_count": 53,
      "metadata": {
        "id": "6q6lSNOKniox"
      },
      "outputs": [],
      "source": [
        "from sklearn.linear_model import SGDClassifier"
      ]
    },
    {
      "cell_type": "code",
      "source": [
        "clf_sgd = SGDClassifier(loss = \"log_loss\", penalty = 'l2', max_iter=10, learning_rate='constant', eta0=0.01, alpha=0.001, random_state=64, warm_start=False)"
      ],
      "metadata": {
        "id": "A95Dvnj0idju"
      },
      "execution_count": 67,
      "outputs": []
    },
    {
      "cell_type": "code",
      "source": [
        "clf_sgd.fit(X_train,y_train)"
      ],
      "metadata": {
        "colab": {
          "base_uri": "https://localhost:8080/",
          "height": 147
        },
        "id": "7z-QvdMYkmla",
        "outputId": "c746269f-75de-48ae-8243-c7d44ad1ce9a"
      },
      "execution_count": 68,
      "outputs": [
        {
          "output_type": "stream",
          "name": "stderr",
          "text": [
            "/usr/local/lib/python3.10/dist-packages/sklearn/linear_model/_stochastic_gradient.py:702: ConvergenceWarning: Maximum number of iteration reached before convergence. Consider increasing max_iter to improve the fit.\n",
            "  warnings.warn(\n"
          ]
        },
        {
          "output_type": "execute_result",
          "data": {
            "text/plain": [
              "SGDClassifier(alpha=0.001, eta0=0.01, learning_rate='constant', loss='log_loss',\n",
              "              max_iter=10, random_state=64)"
            ],
            "text/html": [
              "<style>#sk-container-id-5 {color: black;background-color: white;}#sk-container-id-5 pre{padding: 0;}#sk-container-id-5 div.sk-toggleable {background-color: white;}#sk-container-id-5 label.sk-toggleable__label {cursor: pointer;display: block;width: 100%;margin-bottom: 0;padding: 0.3em;box-sizing: border-box;text-align: center;}#sk-container-id-5 label.sk-toggleable__label-arrow:before {content: \"▸\";float: left;margin-right: 0.25em;color: #696969;}#sk-container-id-5 label.sk-toggleable__label-arrow:hover:before {color: black;}#sk-container-id-5 div.sk-estimator:hover label.sk-toggleable__label-arrow:before {color: black;}#sk-container-id-5 div.sk-toggleable__content {max-height: 0;max-width: 0;overflow: hidden;text-align: left;background-color: #f0f8ff;}#sk-container-id-5 div.sk-toggleable__content pre {margin: 0.2em;color: black;border-radius: 0.25em;background-color: #f0f8ff;}#sk-container-id-5 input.sk-toggleable__control:checked~div.sk-toggleable__content {max-height: 200px;max-width: 100%;overflow: auto;}#sk-container-id-5 input.sk-toggleable__control:checked~label.sk-toggleable__label-arrow:before {content: \"▾\";}#sk-container-id-5 div.sk-estimator input.sk-toggleable__control:checked~label.sk-toggleable__label {background-color: #d4ebff;}#sk-container-id-5 div.sk-label input.sk-toggleable__control:checked~label.sk-toggleable__label {background-color: #d4ebff;}#sk-container-id-5 input.sk-hidden--visually {border: 0;clip: rect(1px 1px 1px 1px);clip: rect(1px, 1px, 1px, 1px);height: 1px;margin: -1px;overflow: hidden;padding: 0;position: absolute;width: 1px;}#sk-container-id-5 div.sk-estimator {font-family: monospace;background-color: #f0f8ff;border: 1px dotted black;border-radius: 0.25em;box-sizing: border-box;margin-bottom: 0.5em;}#sk-container-id-5 div.sk-estimator:hover {background-color: #d4ebff;}#sk-container-id-5 div.sk-parallel-item::after {content: \"\";width: 100%;border-bottom: 1px solid gray;flex-grow: 1;}#sk-container-id-5 div.sk-label:hover label.sk-toggleable__label {background-color: #d4ebff;}#sk-container-id-5 div.sk-serial::before {content: \"\";position: absolute;border-left: 1px solid gray;box-sizing: border-box;top: 0;bottom: 0;left: 50%;z-index: 0;}#sk-container-id-5 div.sk-serial {display: flex;flex-direction: column;align-items: center;background-color: white;padding-right: 0.2em;padding-left: 0.2em;position: relative;}#sk-container-id-5 div.sk-item {position: relative;z-index: 1;}#sk-container-id-5 div.sk-parallel {display: flex;align-items: stretch;justify-content: center;background-color: white;position: relative;}#sk-container-id-5 div.sk-item::before, #sk-container-id-5 div.sk-parallel-item::before {content: \"\";position: absolute;border-left: 1px solid gray;box-sizing: border-box;top: 0;bottom: 0;left: 50%;z-index: -1;}#sk-container-id-5 div.sk-parallel-item {display: flex;flex-direction: column;z-index: 1;position: relative;background-color: white;}#sk-container-id-5 div.sk-parallel-item:first-child::after {align-self: flex-end;width: 50%;}#sk-container-id-5 div.sk-parallel-item:last-child::after {align-self: flex-start;width: 50%;}#sk-container-id-5 div.sk-parallel-item:only-child::after {width: 0;}#sk-container-id-5 div.sk-dashed-wrapped {border: 1px dashed gray;margin: 0 0.4em 0.5em 0.4em;box-sizing: border-box;padding-bottom: 0.4em;background-color: white;}#sk-container-id-5 div.sk-label label {font-family: monospace;font-weight: bold;display: inline-block;line-height: 1.2em;}#sk-container-id-5 div.sk-label-container {text-align: center;}#sk-container-id-5 div.sk-container {/* jupyter's `normalize.less` sets `[hidden] { display: none; }` but bootstrap.min.css set `[hidden] { display: none !important; }` so we also need the `!important` here to be able to override the default hidden behavior on the sphinx rendered scikit-learn.org. See: https://github.com/scikit-learn/scikit-learn/issues/21755 */display: inline-block !important;position: relative;}#sk-container-id-5 div.sk-text-repr-fallback {display: none;}</style><div id=\"sk-container-id-5\" class=\"sk-top-container\"><div class=\"sk-text-repr-fallback\"><pre>SGDClassifier(alpha=0.001, eta0=0.01, learning_rate=&#x27;constant&#x27;, loss=&#x27;log_loss&#x27;,\n",
              "              max_iter=10, random_state=64)</pre><b>In a Jupyter environment, please rerun this cell to show the HTML representation or trust the notebook. <br />On GitHub, the HTML representation is unable to render, please try loading this page with nbviewer.org.</b></div><div class=\"sk-container\" hidden><div class=\"sk-item\"><div class=\"sk-estimator sk-toggleable\"><input class=\"sk-toggleable__control sk-hidden--visually\" id=\"sk-estimator-id-7\" type=\"checkbox\" checked><label for=\"sk-estimator-id-7\" class=\"sk-toggleable__label sk-toggleable__label-arrow\">SGDClassifier</label><div class=\"sk-toggleable__content\"><pre>SGDClassifier(alpha=0.001, eta0=0.01, learning_rate=&#x27;constant&#x27;, loss=&#x27;log_loss&#x27;,\n",
              "              max_iter=10, random_state=64)</pre></div></div></div></div></div>"
            ]
          },
          "metadata": {},
          "execution_count": 68
        }
      ]
    },
    {
      "cell_type": "code",
      "source": [
        "y_pred_sgd = clf_sgd.predict(X_test)"
      ],
      "metadata": {
        "id": "9kmZ0yBjkuDF"
      },
      "execution_count": 69,
      "outputs": []
    },
    {
      "cell_type": "code",
      "source": [
        "f1_score(y_test, y_pred_sgd)"
      ],
      "metadata": {
        "colab": {
          "base_uri": "https://localhost:8080/"
        },
        "id": "9HgeJoQxk0ZU",
        "outputId": "26d06048-cf7d-4bc4-dbed-11304a83fb48"
      },
      "execution_count": 70,
      "outputs": [
        {
          "output_type": "execute_result",
          "data": {
            "text/plain": [
              "0.7814323607427056"
            ]
          },
          "metadata": {},
          "execution_count": 70
        }
      ]
    },
    {
      "cell_type": "markdown",
      "source": [
        "### Q. 9: Use Gridsearchcv with KNeighborsClassifier estimator, f1 as scoring parameter, cv= 5. Consider [5,7,9,11] as K values to be examined.\n",
        "Consider following parameters for KNeighborsClassifier:\n",
        "\n",
        "Use Euclidean distance metric\n",
        "Keep other parameter values as default values.\n",
        "What is the best value of K you obtained using the above instructions?"
      ],
      "metadata": {
        "id": "Ya6hm0XGniwB"
      }
    },
    {
      "cell_type": "code",
      "execution_count": 72,
      "metadata": {
        "id": "awg8ffpTniwB"
      },
      "outputs": [],
      "source": [
        "from sklearn.neighbors import KNeighborsClassifier"
      ]
    },
    {
      "cell_type": "code",
      "source": [
        "clf_knn = KNeighborsClassifier(metric = \"euclidean\")"
      ],
      "metadata": {
        "id": "g-scKhlHmAIw"
      },
      "execution_count": 74,
      "outputs": []
    },
    {
      "cell_type": "code",
      "source": [
        "parameters = {'n_neighbors':[5,7,9,11]}"
      ],
      "metadata": {
        "id": "WhQq1D1EmAGC"
      },
      "execution_count": 76,
      "outputs": []
    },
    {
      "cell_type": "code",
      "source": [
        "grid = GridSearchCV(clf_knn, parameters, cv=5, scoring=\"f1\")"
      ],
      "metadata": {
        "id": "gtkvU87-nU70"
      },
      "execution_count": 77,
      "outputs": []
    },
    {
      "cell_type": "code",
      "source": [
        "grid.fit(X_test, y_test)"
      ],
      "metadata": {
        "colab": {
          "base_uri": "https://localhost:8080/",
          "height": 116
        },
        "id": "91stLo2zng-M",
        "outputId": "2ac137bc-f725-4753-a72c-ae78f80e2f69"
      },
      "execution_count": 78,
      "outputs": [
        {
          "output_type": "execute_result",
          "data": {
            "text/plain": [
              "GridSearchCV(cv=5, estimator=KNeighborsClassifier(metric='euclidean'),\n",
              "             param_grid={'n_neighbors': [5, 7, 9, 11]}, scoring='f1')"
            ],
            "text/html": [
              "<style>#sk-container-id-6 {color: black;background-color: white;}#sk-container-id-6 pre{padding: 0;}#sk-container-id-6 div.sk-toggleable {background-color: white;}#sk-container-id-6 label.sk-toggleable__label {cursor: pointer;display: block;width: 100%;margin-bottom: 0;padding: 0.3em;box-sizing: border-box;text-align: center;}#sk-container-id-6 label.sk-toggleable__label-arrow:before {content: \"▸\";float: left;margin-right: 0.25em;color: #696969;}#sk-container-id-6 label.sk-toggleable__label-arrow:hover:before {color: black;}#sk-container-id-6 div.sk-estimator:hover label.sk-toggleable__label-arrow:before {color: black;}#sk-container-id-6 div.sk-toggleable__content {max-height: 0;max-width: 0;overflow: hidden;text-align: left;background-color: #f0f8ff;}#sk-container-id-6 div.sk-toggleable__content pre {margin: 0.2em;color: black;border-radius: 0.25em;background-color: #f0f8ff;}#sk-container-id-6 input.sk-toggleable__control:checked~div.sk-toggleable__content {max-height: 200px;max-width: 100%;overflow: auto;}#sk-container-id-6 input.sk-toggleable__control:checked~label.sk-toggleable__label-arrow:before {content: \"▾\";}#sk-container-id-6 div.sk-estimator input.sk-toggleable__control:checked~label.sk-toggleable__label {background-color: #d4ebff;}#sk-container-id-6 div.sk-label input.sk-toggleable__control:checked~label.sk-toggleable__label {background-color: #d4ebff;}#sk-container-id-6 input.sk-hidden--visually {border: 0;clip: rect(1px 1px 1px 1px);clip: rect(1px, 1px, 1px, 1px);height: 1px;margin: -1px;overflow: hidden;padding: 0;position: absolute;width: 1px;}#sk-container-id-6 div.sk-estimator {font-family: monospace;background-color: #f0f8ff;border: 1px dotted black;border-radius: 0.25em;box-sizing: border-box;margin-bottom: 0.5em;}#sk-container-id-6 div.sk-estimator:hover {background-color: #d4ebff;}#sk-container-id-6 div.sk-parallel-item::after {content: \"\";width: 100%;border-bottom: 1px solid gray;flex-grow: 1;}#sk-container-id-6 div.sk-label:hover label.sk-toggleable__label {background-color: #d4ebff;}#sk-container-id-6 div.sk-serial::before {content: \"\";position: absolute;border-left: 1px solid gray;box-sizing: border-box;top: 0;bottom: 0;left: 50%;z-index: 0;}#sk-container-id-6 div.sk-serial {display: flex;flex-direction: column;align-items: center;background-color: white;padding-right: 0.2em;padding-left: 0.2em;position: relative;}#sk-container-id-6 div.sk-item {position: relative;z-index: 1;}#sk-container-id-6 div.sk-parallel {display: flex;align-items: stretch;justify-content: center;background-color: white;position: relative;}#sk-container-id-6 div.sk-item::before, #sk-container-id-6 div.sk-parallel-item::before {content: \"\";position: absolute;border-left: 1px solid gray;box-sizing: border-box;top: 0;bottom: 0;left: 50%;z-index: -1;}#sk-container-id-6 div.sk-parallel-item {display: flex;flex-direction: column;z-index: 1;position: relative;background-color: white;}#sk-container-id-6 div.sk-parallel-item:first-child::after {align-self: flex-end;width: 50%;}#sk-container-id-6 div.sk-parallel-item:last-child::after {align-self: flex-start;width: 50%;}#sk-container-id-6 div.sk-parallel-item:only-child::after {width: 0;}#sk-container-id-6 div.sk-dashed-wrapped {border: 1px dashed gray;margin: 0 0.4em 0.5em 0.4em;box-sizing: border-box;padding-bottom: 0.4em;background-color: white;}#sk-container-id-6 div.sk-label label {font-family: monospace;font-weight: bold;display: inline-block;line-height: 1.2em;}#sk-container-id-6 div.sk-label-container {text-align: center;}#sk-container-id-6 div.sk-container {/* jupyter's `normalize.less` sets `[hidden] { display: none; }` but bootstrap.min.css set `[hidden] { display: none !important; }` so we also need the `!important` here to be able to override the default hidden behavior on the sphinx rendered scikit-learn.org. See: https://github.com/scikit-learn/scikit-learn/issues/21755 */display: inline-block !important;position: relative;}#sk-container-id-6 div.sk-text-repr-fallback {display: none;}</style><div id=\"sk-container-id-6\" class=\"sk-top-container\"><div class=\"sk-text-repr-fallback\"><pre>GridSearchCV(cv=5, estimator=KNeighborsClassifier(metric=&#x27;euclidean&#x27;),\n",
              "             param_grid={&#x27;n_neighbors&#x27;: [5, 7, 9, 11]}, scoring=&#x27;f1&#x27;)</pre><b>In a Jupyter environment, please rerun this cell to show the HTML representation or trust the notebook. <br />On GitHub, the HTML representation is unable to render, please try loading this page with nbviewer.org.</b></div><div class=\"sk-container\" hidden><div class=\"sk-item sk-dashed-wrapped\"><div class=\"sk-label-container\"><div class=\"sk-label sk-toggleable\"><input class=\"sk-toggleable__control sk-hidden--visually\" id=\"sk-estimator-id-8\" type=\"checkbox\" ><label for=\"sk-estimator-id-8\" class=\"sk-toggleable__label sk-toggleable__label-arrow\">GridSearchCV</label><div class=\"sk-toggleable__content\"><pre>GridSearchCV(cv=5, estimator=KNeighborsClassifier(metric=&#x27;euclidean&#x27;),\n",
              "             param_grid={&#x27;n_neighbors&#x27;: [5, 7, 9, 11]}, scoring=&#x27;f1&#x27;)</pre></div></div></div><div class=\"sk-parallel\"><div class=\"sk-parallel-item\"><div class=\"sk-item\"><div class=\"sk-label-container\"><div class=\"sk-label sk-toggleable\"><input class=\"sk-toggleable__control sk-hidden--visually\" id=\"sk-estimator-id-9\" type=\"checkbox\" ><label for=\"sk-estimator-id-9\" class=\"sk-toggleable__label sk-toggleable__label-arrow\">estimator: KNeighborsClassifier</label><div class=\"sk-toggleable__content\"><pre>KNeighborsClassifier(metric=&#x27;euclidean&#x27;)</pre></div></div></div><div class=\"sk-serial\"><div class=\"sk-item\"><div class=\"sk-estimator sk-toggleable\"><input class=\"sk-toggleable__control sk-hidden--visually\" id=\"sk-estimator-id-10\" type=\"checkbox\" ><label for=\"sk-estimator-id-10\" class=\"sk-toggleable__label sk-toggleable__label-arrow\">KNeighborsClassifier</label><div class=\"sk-toggleable__content\"><pre>KNeighborsClassifier(metric=&#x27;euclidean&#x27;)</pre></div></div></div></div></div></div></div></div></div></div>"
            ]
          },
          "metadata": {},
          "execution_count": 78
        }
      ]
    },
    {
      "cell_type": "code",
      "source": [
        "grid.best_estimator_"
      ],
      "metadata": {
        "colab": {
          "base_uri": "https://localhost:8080/",
          "height": 74
        },
        "id": "GHHiscsAnkLV",
        "outputId": "c465d8ad-fcec-4869-da84-b5b25442cc37"
      },
      "execution_count": 79,
      "outputs": [
        {
          "output_type": "execute_result",
          "data": {
            "text/plain": [
              "KNeighborsClassifier(metric='euclidean', n_neighbors=11)"
            ],
            "text/html": [
              "<style>#sk-container-id-7 {color: black;background-color: white;}#sk-container-id-7 pre{padding: 0;}#sk-container-id-7 div.sk-toggleable {background-color: white;}#sk-container-id-7 label.sk-toggleable__label {cursor: pointer;display: block;width: 100%;margin-bottom: 0;padding: 0.3em;box-sizing: border-box;text-align: center;}#sk-container-id-7 label.sk-toggleable__label-arrow:before {content: \"▸\";float: left;margin-right: 0.25em;color: #696969;}#sk-container-id-7 label.sk-toggleable__label-arrow:hover:before {color: black;}#sk-container-id-7 div.sk-estimator:hover label.sk-toggleable__label-arrow:before {color: black;}#sk-container-id-7 div.sk-toggleable__content {max-height: 0;max-width: 0;overflow: hidden;text-align: left;background-color: #f0f8ff;}#sk-container-id-7 div.sk-toggleable__content pre {margin: 0.2em;color: black;border-radius: 0.25em;background-color: #f0f8ff;}#sk-container-id-7 input.sk-toggleable__control:checked~div.sk-toggleable__content {max-height: 200px;max-width: 100%;overflow: auto;}#sk-container-id-7 input.sk-toggleable__control:checked~label.sk-toggleable__label-arrow:before {content: \"▾\";}#sk-container-id-7 div.sk-estimator input.sk-toggleable__control:checked~label.sk-toggleable__label {background-color: #d4ebff;}#sk-container-id-7 div.sk-label input.sk-toggleable__control:checked~label.sk-toggleable__label {background-color: #d4ebff;}#sk-container-id-7 input.sk-hidden--visually {border: 0;clip: rect(1px 1px 1px 1px);clip: rect(1px, 1px, 1px, 1px);height: 1px;margin: -1px;overflow: hidden;padding: 0;position: absolute;width: 1px;}#sk-container-id-7 div.sk-estimator {font-family: monospace;background-color: #f0f8ff;border: 1px dotted black;border-radius: 0.25em;box-sizing: border-box;margin-bottom: 0.5em;}#sk-container-id-7 div.sk-estimator:hover {background-color: #d4ebff;}#sk-container-id-7 div.sk-parallel-item::after {content: \"\";width: 100%;border-bottom: 1px solid gray;flex-grow: 1;}#sk-container-id-7 div.sk-label:hover label.sk-toggleable__label {background-color: #d4ebff;}#sk-container-id-7 div.sk-serial::before {content: \"\";position: absolute;border-left: 1px solid gray;box-sizing: border-box;top: 0;bottom: 0;left: 50%;z-index: 0;}#sk-container-id-7 div.sk-serial {display: flex;flex-direction: column;align-items: center;background-color: white;padding-right: 0.2em;padding-left: 0.2em;position: relative;}#sk-container-id-7 div.sk-item {position: relative;z-index: 1;}#sk-container-id-7 div.sk-parallel {display: flex;align-items: stretch;justify-content: center;background-color: white;position: relative;}#sk-container-id-7 div.sk-item::before, #sk-container-id-7 div.sk-parallel-item::before {content: \"\";position: absolute;border-left: 1px solid gray;box-sizing: border-box;top: 0;bottom: 0;left: 50%;z-index: -1;}#sk-container-id-7 div.sk-parallel-item {display: flex;flex-direction: column;z-index: 1;position: relative;background-color: white;}#sk-container-id-7 div.sk-parallel-item:first-child::after {align-self: flex-end;width: 50%;}#sk-container-id-7 div.sk-parallel-item:last-child::after {align-self: flex-start;width: 50%;}#sk-container-id-7 div.sk-parallel-item:only-child::after {width: 0;}#sk-container-id-7 div.sk-dashed-wrapped {border: 1px dashed gray;margin: 0 0.4em 0.5em 0.4em;box-sizing: border-box;padding-bottom: 0.4em;background-color: white;}#sk-container-id-7 div.sk-label label {font-family: monospace;font-weight: bold;display: inline-block;line-height: 1.2em;}#sk-container-id-7 div.sk-label-container {text-align: center;}#sk-container-id-7 div.sk-container {/* jupyter's `normalize.less` sets `[hidden] { display: none; }` but bootstrap.min.css set `[hidden] { display: none !important; }` so we also need the `!important` here to be able to override the default hidden behavior on the sphinx rendered scikit-learn.org. See: https://github.com/scikit-learn/scikit-learn/issues/21755 */display: inline-block !important;position: relative;}#sk-container-id-7 div.sk-text-repr-fallback {display: none;}</style><div id=\"sk-container-id-7\" class=\"sk-top-container\"><div class=\"sk-text-repr-fallback\"><pre>KNeighborsClassifier(metric=&#x27;euclidean&#x27;, n_neighbors=11)</pre><b>In a Jupyter environment, please rerun this cell to show the HTML representation or trust the notebook. <br />On GitHub, the HTML representation is unable to render, please try loading this page with nbviewer.org.</b></div><div class=\"sk-container\" hidden><div class=\"sk-item\"><div class=\"sk-estimator sk-toggleable\"><input class=\"sk-toggleable__control sk-hidden--visually\" id=\"sk-estimator-id-11\" type=\"checkbox\" checked><label for=\"sk-estimator-id-11\" class=\"sk-toggleable__label sk-toggleable__label-arrow\">KNeighborsClassifier</label><div class=\"sk-toggleable__content\"><pre>KNeighborsClassifier(metric=&#x27;euclidean&#x27;, n_neighbors=11)</pre></div></div></div></div></div>"
            ]
          },
          "metadata": {},
          "execution_count": 79
        }
      ]
    },
    {
      "cell_type": "markdown",
      "source": [
        "### Q. 10:\n",
        "Take DecisionTreeClassifier(random_state = 64) estimator with GridSearchCV. Hyperparameter tuning to be done over the following parameters:\n",
        "\n",
        "Criterion as 'entropy' or 'gini'\n",
        "\n",
        "Splitter as 'random' or 'best'\n",
        "\n",
        "Minimum number of samples per leaf as [6,8,10, 12, 14]\n",
        "\n",
        "Maximum depth as [5,6, 7, 8]\n",
        "\n",
        "Minimum number of samples per node to split as [16, 18, 20, 22]\n",
        "\n",
        "Use cross validation = 3\n",
        "\n",
        "Use the best model from above hyper parameter tuning process to answer following questions:\n",
        "\n",
        "What is the depth of the best estimator?"
      ],
      "metadata": {
        "id": "LFc8n8FIni3E"
      }
    },
    {
      "cell_type": "code",
      "execution_count": 80,
      "metadata": {
        "id": "Bci76g7Qni3F"
      },
      "outputs": [],
      "source": [
        "from sklearn.tree import DecisionTreeClassifier"
      ]
    },
    {
      "cell_type": "code",
      "source": [
        "clf_dt = DecisionTreeClassifier(random_state=64)"
      ],
      "metadata": {
        "id": "IE25mu6HoAZf"
      },
      "execution_count": 81,
      "outputs": []
    },
    {
      "cell_type": "code",
      "source": [
        "parameters = {'criterion':('entropy','gini'),'splitter':('best','random'),'min_samples_leaf':[6,8,10,12,14],'max_depth':[5,6,7,8]}"
      ],
      "metadata": {
        "id": "DAANaH1HoF--"
      },
      "execution_count": 83,
      "outputs": []
    },
    {
      "cell_type": "code",
      "source": [
        "grid = GridSearchCV(clf_dt, parameters, cv=3)"
      ],
      "metadata": {
        "id": "gbyIRmSQov97"
      },
      "execution_count": 84,
      "outputs": []
    },
    {
      "cell_type": "code",
      "source": [
        "grid.fit(X_test, y_test)"
      ],
      "metadata": {
        "colab": {
          "base_uri": "https://localhost:8080/",
          "height": 254
        },
        "id": "E3kcDJDdo2fS",
        "outputId": "5f07bfb9-8f08-4feb-9aa5-f8b96f997d01"
      },
      "execution_count": 85,
      "outputs": [
        {
          "output_type": "execute_result",
          "data": {
            "text/plain": [
              "GridSearchCV(cv=3, estimator=DecisionTreeClassifier(random_state=64),\n",
              "             param_grid={'criterion': ('entropy', 'gini'),\n",
              "                         'max_depth': [5, 6, 7, 8],\n",
              "                         'min_samples_leaf': [6, 8, 10, 12, 14],\n",
              "                         'splitter': ('best', 'random')})"
            ],
            "text/html": [
              "<style>#sk-container-id-8 {color: black;background-color: white;}#sk-container-id-8 pre{padding: 0;}#sk-container-id-8 div.sk-toggleable {background-color: white;}#sk-container-id-8 label.sk-toggleable__label {cursor: pointer;display: block;width: 100%;margin-bottom: 0;padding: 0.3em;box-sizing: border-box;text-align: center;}#sk-container-id-8 label.sk-toggleable__label-arrow:before {content: \"▸\";float: left;margin-right: 0.25em;color: #696969;}#sk-container-id-8 label.sk-toggleable__label-arrow:hover:before {color: black;}#sk-container-id-8 div.sk-estimator:hover label.sk-toggleable__label-arrow:before {color: black;}#sk-container-id-8 div.sk-toggleable__content {max-height: 0;max-width: 0;overflow: hidden;text-align: left;background-color: #f0f8ff;}#sk-container-id-8 div.sk-toggleable__content pre {margin: 0.2em;color: black;border-radius: 0.25em;background-color: #f0f8ff;}#sk-container-id-8 input.sk-toggleable__control:checked~div.sk-toggleable__content {max-height: 200px;max-width: 100%;overflow: auto;}#sk-container-id-8 input.sk-toggleable__control:checked~label.sk-toggleable__label-arrow:before {content: \"▾\";}#sk-container-id-8 div.sk-estimator input.sk-toggleable__control:checked~label.sk-toggleable__label {background-color: #d4ebff;}#sk-container-id-8 div.sk-label input.sk-toggleable__control:checked~label.sk-toggleable__label {background-color: #d4ebff;}#sk-container-id-8 input.sk-hidden--visually {border: 0;clip: rect(1px 1px 1px 1px);clip: rect(1px, 1px, 1px, 1px);height: 1px;margin: -1px;overflow: hidden;padding: 0;position: absolute;width: 1px;}#sk-container-id-8 div.sk-estimator {font-family: monospace;background-color: #f0f8ff;border: 1px dotted black;border-radius: 0.25em;box-sizing: border-box;margin-bottom: 0.5em;}#sk-container-id-8 div.sk-estimator:hover {background-color: #d4ebff;}#sk-container-id-8 div.sk-parallel-item::after {content: \"\";width: 100%;border-bottom: 1px solid gray;flex-grow: 1;}#sk-container-id-8 div.sk-label:hover label.sk-toggleable__label {background-color: #d4ebff;}#sk-container-id-8 div.sk-serial::before {content: \"\";position: absolute;border-left: 1px solid gray;box-sizing: border-box;top: 0;bottom: 0;left: 50%;z-index: 0;}#sk-container-id-8 div.sk-serial {display: flex;flex-direction: column;align-items: center;background-color: white;padding-right: 0.2em;padding-left: 0.2em;position: relative;}#sk-container-id-8 div.sk-item {position: relative;z-index: 1;}#sk-container-id-8 div.sk-parallel {display: flex;align-items: stretch;justify-content: center;background-color: white;position: relative;}#sk-container-id-8 div.sk-item::before, #sk-container-id-8 div.sk-parallel-item::before {content: \"\";position: absolute;border-left: 1px solid gray;box-sizing: border-box;top: 0;bottom: 0;left: 50%;z-index: -1;}#sk-container-id-8 div.sk-parallel-item {display: flex;flex-direction: column;z-index: 1;position: relative;background-color: white;}#sk-container-id-8 div.sk-parallel-item:first-child::after {align-self: flex-end;width: 50%;}#sk-container-id-8 div.sk-parallel-item:last-child::after {align-self: flex-start;width: 50%;}#sk-container-id-8 div.sk-parallel-item:only-child::after {width: 0;}#sk-container-id-8 div.sk-dashed-wrapped {border: 1px dashed gray;margin: 0 0.4em 0.5em 0.4em;box-sizing: border-box;padding-bottom: 0.4em;background-color: white;}#sk-container-id-8 div.sk-label label {font-family: monospace;font-weight: bold;display: inline-block;line-height: 1.2em;}#sk-container-id-8 div.sk-label-container {text-align: center;}#sk-container-id-8 div.sk-container {/* jupyter's `normalize.less` sets `[hidden] { display: none; }` but bootstrap.min.css set `[hidden] { display: none !important; }` so we also need the `!important` here to be able to override the default hidden behavior on the sphinx rendered scikit-learn.org. See: https://github.com/scikit-learn/scikit-learn/issues/21755 */display: inline-block !important;position: relative;}#sk-container-id-8 div.sk-text-repr-fallback {display: none;}</style><div id=\"sk-container-id-8\" class=\"sk-top-container\"><div class=\"sk-text-repr-fallback\"><pre>GridSearchCV(cv=3, estimator=DecisionTreeClassifier(random_state=64),\n",
              "             param_grid={&#x27;criterion&#x27;: (&#x27;entropy&#x27;, &#x27;gini&#x27;),\n",
              "                         &#x27;max_depth&#x27;: [5, 6, 7, 8],\n",
              "                         &#x27;min_samples_leaf&#x27;: [6, 8, 10, 12, 14],\n",
              "                         &#x27;splitter&#x27;: (&#x27;best&#x27;, &#x27;random&#x27;)})</pre><b>In a Jupyter environment, please rerun this cell to show the HTML representation or trust the notebook. <br />On GitHub, the HTML representation is unable to render, please try loading this page with nbviewer.org.</b></div><div class=\"sk-container\" hidden><div class=\"sk-item sk-dashed-wrapped\"><div class=\"sk-label-container\"><div class=\"sk-label sk-toggleable\"><input class=\"sk-toggleable__control sk-hidden--visually\" id=\"sk-estimator-id-12\" type=\"checkbox\" ><label for=\"sk-estimator-id-12\" class=\"sk-toggleable__label sk-toggleable__label-arrow\">GridSearchCV</label><div class=\"sk-toggleable__content\"><pre>GridSearchCV(cv=3, estimator=DecisionTreeClassifier(random_state=64),\n",
              "             param_grid={&#x27;criterion&#x27;: (&#x27;entropy&#x27;, &#x27;gini&#x27;),\n",
              "                         &#x27;max_depth&#x27;: [5, 6, 7, 8],\n",
              "                         &#x27;min_samples_leaf&#x27;: [6, 8, 10, 12, 14],\n",
              "                         &#x27;splitter&#x27;: (&#x27;best&#x27;, &#x27;random&#x27;)})</pre></div></div></div><div class=\"sk-parallel\"><div class=\"sk-parallel-item\"><div class=\"sk-item\"><div class=\"sk-label-container\"><div class=\"sk-label sk-toggleable\"><input class=\"sk-toggleable__control sk-hidden--visually\" id=\"sk-estimator-id-13\" type=\"checkbox\" ><label for=\"sk-estimator-id-13\" class=\"sk-toggleable__label sk-toggleable__label-arrow\">estimator: DecisionTreeClassifier</label><div class=\"sk-toggleable__content\"><pre>DecisionTreeClassifier(random_state=64)</pre></div></div></div><div class=\"sk-serial\"><div class=\"sk-item\"><div class=\"sk-estimator sk-toggleable\"><input class=\"sk-toggleable__control sk-hidden--visually\" id=\"sk-estimator-id-14\" type=\"checkbox\" ><label for=\"sk-estimator-id-14\" class=\"sk-toggleable__label sk-toggleable__label-arrow\">DecisionTreeClassifier</label><div class=\"sk-toggleable__content\"><pre>DecisionTreeClassifier(random_state=64)</pre></div></div></div></div></div></div></div></div></div></div>"
            ]
          },
          "metadata": {},
          "execution_count": 85
        }
      ]
    },
    {
      "cell_type": "code",
      "source": [
        "grid.best_estimator_"
      ],
      "metadata": {
        "colab": {
          "base_uri": "https://localhost:8080/",
          "height": 91
        },
        "id": "T_4gY0t7pAeQ",
        "outputId": "8fc6aed5-62f5-4565-b6b2-32b506e4d956"
      },
      "execution_count": 86,
      "outputs": [
        {
          "output_type": "execute_result",
          "data": {
            "text/plain": [
              "DecisionTreeClassifier(criterion='entropy', max_depth=6, min_samples_leaf=6,\n",
              "                       random_state=64)"
            ],
            "text/html": [
              "<style>#sk-container-id-9 {color: black;background-color: white;}#sk-container-id-9 pre{padding: 0;}#sk-container-id-9 div.sk-toggleable {background-color: white;}#sk-container-id-9 label.sk-toggleable__label {cursor: pointer;display: block;width: 100%;margin-bottom: 0;padding: 0.3em;box-sizing: border-box;text-align: center;}#sk-container-id-9 label.sk-toggleable__label-arrow:before {content: \"▸\";float: left;margin-right: 0.25em;color: #696969;}#sk-container-id-9 label.sk-toggleable__label-arrow:hover:before {color: black;}#sk-container-id-9 div.sk-estimator:hover label.sk-toggleable__label-arrow:before {color: black;}#sk-container-id-9 div.sk-toggleable__content {max-height: 0;max-width: 0;overflow: hidden;text-align: left;background-color: #f0f8ff;}#sk-container-id-9 div.sk-toggleable__content pre {margin: 0.2em;color: black;border-radius: 0.25em;background-color: #f0f8ff;}#sk-container-id-9 input.sk-toggleable__control:checked~div.sk-toggleable__content {max-height: 200px;max-width: 100%;overflow: auto;}#sk-container-id-9 input.sk-toggleable__control:checked~label.sk-toggleable__label-arrow:before {content: \"▾\";}#sk-container-id-9 div.sk-estimator input.sk-toggleable__control:checked~label.sk-toggleable__label {background-color: #d4ebff;}#sk-container-id-9 div.sk-label input.sk-toggleable__control:checked~label.sk-toggleable__label {background-color: #d4ebff;}#sk-container-id-9 input.sk-hidden--visually {border: 0;clip: rect(1px 1px 1px 1px);clip: rect(1px, 1px, 1px, 1px);height: 1px;margin: -1px;overflow: hidden;padding: 0;position: absolute;width: 1px;}#sk-container-id-9 div.sk-estimator {font-family: monospace;background-color: #f0f8ff;border: 1px dotted black;border-radius: 0.25em;box-sizing: border-box;margin-bottom: 0.5em;}#sk-container-id-9 div.sk-estimator:hover {background-color: #d4ebff;}#sk-container-id-9 div.sk-parallel-item::after {content: \"\";width: 100%;border-bottom: 1px solid gray;flex-grow: 1;}#sk-container-id-9 div.sk-label:hover label.sk-toggleable__label {background-color: #d4ebff;}#sk-container-id-9 div.sk-serial::before {content: \"\";position: absolute;border-left: 1px solid gray;box-sizing: border-box;top: 0;bottom: 0;left: 50%;z-index: 0;}#sk-container-id-9 div.sk-serial {display: flex;flex-direction: column;align-items: center;background-color: white;padding-right: 0.2em;padding-left: 0.2em;position: relative;}#sk-container-id-9 div.sk-item {position: relative;z-index: 1;}#sk-container-id-9 div.sk-parallel {display: flex;align-items: stretch;justify-content: center;background-color: white;position: relative;}#sk-container-id-9 div.sk-item::before, #sk-container-id-9 div.sk-parallel-item::before {content: \"\";position: absolute;border-left: 1px solid gray;box-sizing: border-box;top: 0;bottom: 0;left: 50%;z-index: -1;}#sk-container-id-9 div.sk-parallel-item {display: flex;flex-direction: column;z-index: 1;position: relative;background-color: white;}#sk-container-id-9 div.sk-parallel-item:first-child::after {align-self: flex-end;width: 50%;}#sk-container-id-9 div.sk-parallel-item:last-child::after {align-self: flex-start;width: 50%;}#sk-container-id-9 div.sk-parallel-item:only-child::after {width: 0;}#sk-container-id-9 div.sk-dashed-wrapped {border: 1px dashed gray;margin: 0 0.4em 0.5em 0.4em;box-sizing: border-box;padding-bottom: 0.4em;background-color: white;}#sk-container-id-9 div.sk-label label {font-family: monospace;font-weight: bold;display: inline-block;line-height: 1.2em;}#sk-container-id-9 div.sk-label-container {text-align: center;}#sk-container-id-9 div.sk-container {/* jupyter's `normalize.less` sets `[hidden] { display: none; }` but bootstrap.min.css set `[hidden] { display: none !important; }` so we also need the `!important` here to be able to override the default hidden behavior on the sphinx rendered scikit-learn.org. See: https://github.com/scikit-learn/scikit-learn/issues/21755 */display: inline-block !important;position: relative;}#sk-container-id-9 div.sk-text-repr-fallback {display: none;}</style><div id=\"sk-container-id-9\" class=\"sk-top-container\"><div class=\"sk-text-repr-fallback\"><pre>DecisionTreeClassifier(criterion=&#x27;entropy&#x27;, max_depth=6, min_samples_leaf=6,\n",
              "                       random_state=64)</pre><b>In a Jupyter environment, please rerun this cell to show the HTML representation or trust the notebook. <br />On GitHub, the HTML representation is unable to render, please try loading this page with nbviewer.org.</b></div><div class=\"sk-container\" hidden><div class=\"sk-item\"><div class=\"sk-estimator sk-toggleable\"><input class=\"sk-toggleable__control sk-hidden--visually\" id=\"sk-estimator-id-15\" type=\"checkbox\" checked><label for=\"sk-estimator-id-15\" class=\"sk-toggleable__label sk-toggleable__label-arrow\">DecisionTreeClassifier</label><div class=\"sk-toggleable__content\"><pre>DecisionTreeClassifier(criterion=&#x27;entropy&#x27;, max_depth=6, min_samples_leaf=6,\n",
              "                       random_state=64)</pre></div></div></div></div></div>"
            ]
          },
          "metadata": {},
          "execution_count": 86
        }
      ]
    },
    {
      "cell_type": "markdown",
      "source": [
        "### Q. 11:\n",
        "Find the number of leaves in the best estimator."
      ],
      "metadata": {
        "id": "x7HT3SDqni9t"
      }
    },
    {
      "cell_type": "code",
      "execution_count": 87,
      "metadata": {
        "id": "SZVSXKi_ni9u",
        "colab": {
          "base_uri": "https://localhost:8080/"
        },
        "outputId": "e84d0081-b648-42c0-e8b7-93e7727445a5"
      },
      "outputs": [
        {
          "output_type": "execute_result",
          "data": {
            "text/plain": [
              "50"
            ]
          },
          "metadata": {},
          "execution_count": 87
        }
      ],
      "source": [
        "grid.best_estimator_.get_n_leaves()"
      ]
    },
    {
      "cell_type": "markdown",
      "source": [
        "### Q. 12:\n",
        "Suppose we train a decision tree classifier using the following two approaches:\n",
        "\n",
        "Approach 1. Do not grow the full size tree by setting the parameters as:\n",
        "\n",
        "max depth of the tree to be 10.\n",
        "minimum samples in a node to split to be 50.\n",
        "Approach 2. Use cost complexity pruning by setting the cost complexity parameter as 0.01.\n",
        "\n",
        "NOTE:\n",
        "\n",
        "Use random state to be 64 in both approaches.\n",
        "Use entropy criterion in both approaches.\n",
        "\n",
        "Which approach gives the better accuarcy on the test dataset?"
      ],
      "metadata": {
        "id": "jRjM0rXdnjFg"
      }
    },
    {
      "cell_type": "code",
      "execution_count": 88,
      "metadata": {
        "id": "jyO_KmCCnjFh"
      },
      "outputs": [],
      "source": [
        "clf_dt1 = DecisionTreeClassifier(max_depth = 10, min_samples_split=50)"
      ]
    },
    {
      "cell_type": "code",
      "source": [
        "clf_dt1.fit(X_train,y_train)"
      ],
      "metadata": {
        "colab": {
          "base_uri": "https://localhost:8080/",
          "height": 74
        },
        "id": "MVOXH6x6qHLi",
        "outputId": "775ade5f-edc8-4c14-ea46-1734be7df962"
      },
      "execution_count": 89,
      "outputs": [
        {
          "output_type": "execute_result",
          "data": {
            "text/plain": [
              "DecisionTreeClassifier(max_depth=10, min_samples_split=50)"
            ],
            "text/html": [
              "<style>#sk-container-id-10 {color: black;background-color: white;}#sk-container-id-10 pre{padding: 0;}#sk-container-id-10 div.sk-toggleable {background-color: white;}#sk-container-id-10 label.sk-toggleable__label {cursor: pointer;display: block;width: 100%;margin-bottom: 0;padding: 0.3em;box-sizing: border-box;text-align: center;}#sk-container-id-10 label.sk-toggleable__label-arrow:before {content: \"▸\";float: left;margin-right: 0.25em;color: #696969;}#sk-container-id-10 label.sk-toggleable__label-arrow:hover:before {color: black;}#sk-container-id-10 div.sk-estimator:hover label.sk-toggleable__label-arrow:before {color: black;}#sk-container-id-10 div.sk-toggleable__content {max-height: 0;max-width: 0;overflow: hidden;text-align: left;background-color: #f0f8ff;}#sk-container-id-10 div.sk-toggleable__content pre {margin: 0.2em;color: black;border-radius: 0.25em;background-color: #f0f8ff;}#sk-container-id-10 input.sk-toggleable__control:checked~div.sk-toggleable__content {max-height: 200px;max-width: 100%;overflow: auto;}#sk-container-id-10 input.sk-toggleable__control:checked~label.sk-toggleable__label-arrow:before {content: \"▾\";}#sk-container-id-10 div.sk-estimator input.sk-toggleable__control:checked~label.sk-toggleable__label {background-color: #d4ebff;}#sk-container-id-10 div.sk-label input.sk-toggleable__control:checked~label.sk-toggleable__label {background-color: #d4ebff;}#sk-container-id-10 input.sk-hidden--visually {border: 0;clip: rect(1px 1px 1px 1px);clip: rect(1px, 1px, 1px, 1px);height: 1px;margin: -1px;overflow: hidden;padding: 0;position: absolute;width: 1px;}#sk-container-id-10 div.sk-estimator {font-family: monospace;background-color: #f0f8ff;border: 1px dotted black;border-radius: 0.25em;box-sizing: border-box;margin-bottom: 0.5em;}#sk-container-id-10 div.sk-estimator:hover {background-color: #d4ebff;}#sk-container-id-10 div.sk-parallel-item::after {content: \"\";width: 100%;border-bottom: 1px solid gray;flex-grow: 1;}#sk-container-id-10 div.sk-label:hover label.sk-toggleable__label {background-color: #d4ebff;}#sk-container-id-10 div.sk-serial::before {content: \"\";position: absolute;border-left: 1px solid gray;box-sizing: border-box;top: 0;bottom: 0;left: 50%;z-index: 0;}#sk-container-id-10 div.sk-serial {display: flex;flex-direction: column;align-items: center;background-color: white;padding-right: 0.2em;padding-left: 0.2em;position: relative;}#sk-container-id-10 div.sk-item {position: relative;z-index: 1;}#sk-container-id-10 div.sk-parallel {display: flex;align-items: stretch;justify-content: center;background-color: white;position: relative;}#sk-container-id-10 div.sk-item::before, #sk-container-id-10 div.sk-parallel-item::before {content: \"\";position: absolute;border-left: 1px solid gray;box-sizing: border-box;top: 0;bottom: 0;left: 50%;z-index: -1;}#sk-container-id-10 div.sk-parallel-item {display: flex;flex-direction: column;z-index: 1;position: relative;background-color: white;}#sk-container-id-10 div.sk-parallel-item:first-child::after {align-self: flex-end;width: 50%;}#sk-container-id-10 div.sk-parallel-item:last-child::after {align-self: flex-start;width: 50%;}#sk-container-id-10 div.sk-parallel-item:only-child::after {width: 0;}#sk-container-id-10 div.sk-dashed-wrapped {border: 1px dashed gray;margin: 0 0.4em 0.5em 0.4em;box-sizing: border-box;padding-bottom: 0.4em;background-color: white;}#sk-container-id-10 div.sk-label label {font-family: monospace;font-weight: bold;display: inline-block;line-height: 1.2em;}#sk-container-id-10 div.sk-label-container {text-align: center;}#sk-container-id-10 div.sk-container {/* jupyter's `normalize.less` sets `[hidden] { display: none; }` but bootstrap.min.css set `[hidden] { display: none !important; }` so we also need the `!important` here to be able to override the default hidden behavior on the sphinx rendered scikit-learn.org. See: https://github.com/scikit-learn/scikit-learn/issues/21755 */display: inline-block !important;position: relative;}#sk-container-id-10 div.sk-text-repr-fallback {display: none;}</style><div id=\"sk-container-id-10\" class=\"sk-top-container\"><div class=\"sk-text-repr-fallback\"><pre>DecisionTreeClassifier(max_depth=10, min_samples_split=50)</pre><b>In a Jupyter environment, please rerun this cell to show the HTML representation or trust the notebook. <br />On GitHub, the HTML representation is unable to render, please try loading this page with nbviewer.org.</b></div><div class=\"sk-container\" hidden><div class=\"sk-item\"><div class=\"sk-estimator sk-toggleable\"><input class=\"sk-toggleable__control sk-hidden--visually\" id=\"sk-estimator-id-16\" type=\"checkbox\" checked><label for=\"sk-estimator-id-16\" class=\"sk-toggleable__label sk-toggleable__label-arrow\">DecisionTreeClassifier</label><div class=\"sk-toggleable__content\"><pre>DecisionTreeClassifier(max_depth=10, min_samples_split=50)</pre></div></div></div></div></div>"
            ]
          },
          "metadata": {},
          "execution_count": 89
        }
      ]
    },
    {
      "cell_type": "code",
      "source": [
        "y_pred_dt1 = clf_dt1.predict(X_test)"
      ],
      "metadata": {
        "id": "_VgRoVYoqAvG"
      },
      "execution_count": 90,
      "outputs": []
    },
    {
      "cell_type": "code",
      "source": [
        "from sklearn.metrics import accuracy_score"
      ],
      "metadata": {
        "id": "hfFmtzz4qQoo"
      },
      "execution_count": 91,
      "outputs": []
    },
    {
      "cell_type": "code",
      "source": [
        "a1 = accuracy_score(y_test,y_pred_dt1)"
      ],
      "metadata": {
        "id": "z2dzomcIqOMu"
      },
      "execution_count": 92,
      "outputs": []
    },
    {
      "cell_type": "code",
      "source": [
        "a1"
      ],
      "metadata": {
        "colab": {
          "base_uri": "https://localhost:8080/"
        },
        "id": "vMMV2ysLqaSc",
        "outputId": "12b9eb86-6beb-4e93-a909-6406db2bba2b"
      },
      "execution_count": 93,
      "outputs": [
        {
          "output_type": "execute_result",
          "data": {
            "text/plain": [
              "0.8588"
            ]
          },
          "metadata": {},
          "execution_count": 93
        }
      ]
    },
    {
      "cell_type": "code",
      "source": [
        "clf_dt2 = DecisionTreeClassifier(ccp_alpha=0.01)"
      ],
      "metadata": {
        "id": "tgAiZBFfqbXf"
      },
      "execution_count": 94,
      "outputs": []
    },
    {
      "cell_type": "code",
      "source": [
        "clf_dt2.fit(X_train,y_train)"
      ],
      "metadata": {
        "colab": {
          "base_uri": "https://localhost:8080/",
          "height": 74
        },
        "id": "raYquHg-qxI0",
        "outputId": "eba9d2ee-0cda-4b43-b1a2-d12f8532acb0"
      },
      "execution_count": 95,
      "outputs": [
        {
          "output_type": "execute_result",
          "data": {
            "text/plain": [
              "DecisionTreeClassifier(ccp_alpha=0.01)"
            ],
            "text/html": [
              "<style>#sk-container-id-11 {color: black;background-color: white;}#sk-container-id-11 pre{padding: 0;}#sk-container-id-11 div.sk-toggleable {background-color: white;}#sk-container-id-11 label.sk-toggleable__label {cursor: pointer;display: block;width: 100%;margin-bottom: 0;padding: 0.3em;box-sizing: border-box;text-align: center;}#sk-container-id-11 label.sk-toggleable__label-arrow:before {content: \"▸\";float: left;margin-right: 0.25em;color: #696969;}#sk-container-id-11 label.sk-toggleable__label-arrow:hover:before {color: black;}#sk-container-id-11 div.sk-estimator:hover label.sk-toggleable__label-arrow:before {color: black;}#sk-container-id-11 div.sk-toggleable__content {max-height: 0;max-width: 0;overflow: hidden;text-align: left;background-color: #f0f8ff;}#sk-container-id-11 div.sk-toggleable__content pre {margin: 0.2em;color: black;border-radius: 0.25em;background-color: #f0f8ff;}#sk-container-id-11 input.sk-toggleable__control:checked~div.sk-toggleable__content {max-height: 200px;max-width: 100%;overflow: auto;}#sk-container-id-11 input.sk-toggleable__control:checked~label.sk-toggleable__label-arrow:before {content: \"▾\";}#sk-container-id-11 div.sk-estimator input.sk-toggleable__control:checked~label.sk-toggleable__label {background-color: #d4ebff;}#sk-container-id-11 div.sk-label input.sk-toggleable__control:checked~label.sk-toggleable__label {background-color: #d4ebff;}#sk-container-id-11 input.sk-hidden--visually {border: 0;clip: rect(1px 1px 1px 1px);clip: rect(1px, 1px, 1px, 1px);height: 1px;margin: -1px;overflow: hidden;padding: 0;position: absolute;width: 1px;}#sk-container-id-11 div.sk-estimator {font-family: monospace;background-color: #f0f8ff;border: 1px dotted black;border-radius: 0.25em;box-sizing: border-box;margin-bottom: 0.5em;}#sk-container-id-11 div.sk-estimator:hover {background-color: #d4ebff;}#sk-container-id-11 div.sk-parallel-item::after {content: \"\";width: 100%;border-bottom: 1px solid gray;flex-grow: 1;}#sk-container-id-11 div.sk-label:hover label.sk-toggleable__label {background-color: #d4ebff;}#sk-container-id-11 div.sk-serial::before {content: \"\";position: absolute;border-left: 1px solid gray;box-sizing: border-box;top: 0;bottom: 0;left: 50%;z-index: 0;}#sk-container-id-11 div.sk-serial {display: flex;flex-direction: column;align-items: center;background-color: white;padding-right: 0.2em;padding-left: 0.2em;position: relative;}#sk-container-id-11 div.sk-item {position: relative;z-index: 1;}#sk-container-id-11 div.sk-parallel {display: flex;align-items: stretch;justify-content: center;background-color: white;position: relative;}#sk-container-id-11 div.sk-item::before, #sk-container-id-11 div.sk-parallel-item::before {content: \"\";position: absolute;border-left: 1px solid gray;box-sizing: border-box;top: 0;bottom: 0;left: 50%;z-index: -1;}#sk-container-id-11 div.sk-parallel-item {display: flex;flex-direction: column;z-index: 1;position: relative;background-color: white;}#sk-container-id-11 div.sk-parallel-item:first-child::after {align-self: flex-end;width: 50%;}#sk-container-id-11 div.sk-parallel-item:last-child::after {align-self: flex-start;width: 50%;}#sk-container-id-11 div.sk-parallel-item:only-child::after {width: 0;}#sk-container-id-11 div.sk-dashed-wrapped {border: 1px dashed gray;margin: 0 0.4em 0.5em 0.4em;box-sizing: border-box;padding-bottom: 0.4em;background-color: white;}#sk-container-id-11 div.sk-label label {font-family: monospace;font-weight: bold;display: inline-block;line-height: 1.2em;}#sk-container-id-11 div.sk-label-container {text-align: center;}#sk-container-id-11 div.sk-container {/* jupyter's `normalize.less` sets `[hidden] { display: none; }` but bootstrap.min.css set `[hidden] { display: none !important; }` so we also need the `!important` here to be able to override the default hidden behavior on the sphinx rendered scikit-learn.org. See: https://github.com/scikit-learn/scikit-learn/issues/21755 */display: inline-block !important;position: relative;}#sk-container-id-11 div.sk-text-repr-fallback {display: none;}</style><div id=\"sk-container-id-11\" class=\"sk-top-container\"><div class=\"sk-text-repr-fallback\"><pre>DecisionTreeClassifier(ccp_alpha=0.01)</pre><b>In a Jupyter environment, please rerun this cell to show the HTML representation or trust the notebook. <br />On GitHub, the HTML representation is unable to render, please try loading this page with nbviewer.org.</b></div><div class=\"sk-container\" hidden><div class=\"sk-item\"><div class=\"sk-estimator sk-toggleable\"><input class=\"sk-toggleable__control sk-hidden--visually\" id=\"sk-estimator-id-17\" type=\"checkbox\" checked><label for=\"sk-estimator-id-17\" class=\"sk-toggleable__label sk-toggleable__label-arrow\">DecisionTreeClassifier</label><div class=\"sk-toggleable__content\"><pre>DecisionTreeClassifier(ccp_alpha=0.01)</pre></div></div></div></div></div>"
            ]
          },
          "metadata": {},
          "execution_count": 95
        }
      ]
    },
    {
      "cell_type": "code",
      "source": [
        "y_pred_dt2 = clf_dt2.predict(X_test)"
      ],
      "metadata": {
        "id": "wr1SdrFCqzgv"
      },
      "execution_count": 99,
      "outputs": []
    },
    {
      "cell_type": "code",
      "source": [
        "a2 = accuracy_score(y_test,y_pred_dt2)"
      ],
      "metadata": {
        "id": "faidTsaAq1g8"
      },
      "execution_count": 100,
      "outputs": []
    },
    {
      "cell_type": "code",
      "source": [
        "a2"
      ],
      "metadata": {
        "colab": {
          "base_uri": "https://localhost:8080/"
        },
        "id": "YolVs8o2q4Do",
        "outputId": "9c49ba4d-473f-45a6-d3f4-28950465f807"
      },
      "execution_count": 101,
      "outputs": [
        {
          "output_type": "execute_result",
          "data": {
            "text/plain": [
              "0.8284"
            ]
          },
          "metadata": {},
          "execution_count": 101
        }
      ]
    },
    {
      "cell_type": "markdown",
      "source": [
        "### Q. 13:\n",
        "What is the difference (absolute difference) in True Positives (TP) between these two approaches on test datasets?"
      ],
      "metadata": {
        "id": "DstfuzPRnjOB"
      }
    },
    {
      "cell_type": "code",
      "execution_count": 102,
      "metadata": {
        "id": "L4CRzjjanjOC"
      },
      "outputs": [],
      "source": [
        "from sklearn.metrics import confusion_matrix"
      ]
    },
    {
      "cell_type": "code",
      "source": [
        "confusion_matrix(y_test, y_pred_dt1)"
      ],
      "metadata": {
        "colab": {
          "base_uri": "https://localhost:8080/"
        },
        "id": "aRuSaaxrrUgH",
        "outputId": "8a0588bb-66c9-4252-c48e-84597f820439"
      },
      "execution_count": 104,
      "outputs": [
        {
          "output_type": "execute_result",
          "data": {
            "text/plain": [
              "array([[ 824,  199],\n",
              "       [ 154, 1323]])"
            ]
          },
          "metadata": {},
          "execution_count": 104
        }
      ]
    },
    {
      "cell_type": "code",
      "source": [
        "tn_1, fp_1, fn_1, tp_1 = confusion_matrix(y_test, y_pred_dt1).ravel()"
      ],
      "metadata": {
        "id": "8H27DtWfrqNf"
      },
      "execution_count": 107,
      "outputs": []
    },
    {
      "cell_type": "code",
      "source": [
        "tn_2, fp_2, fn_2, tp_2 = confusion_matrix(y_test, y_pred_dt2).ravel()"
      ],
      "metadata": {
        "id": "ovGHVuZgrvYQ"
      },
      "execution_count": 108,
      "outputs": []
    },
    {
      "cell_type": "code",
      "source": [
        "tp_1 - tp_2"
      ],
      "metadata": {
        "colab": {
          "base_uri": "https://localhost:8080/"
        },
        "id": "OYRRmfaJry4p",
        "outputId": "a687835a-4ed6-4b2b-c0c7-555a88b61bcb"
      },
      "execution_count": 110,
      "outputs": [
        {
          "output_type": "execute_result",
          "data": {
            "text/plain": [
              "71"
            ]
          },
          "metadata": {},
          "execution_count": 110
        }
      ]
    },
    {
      "cell_type": "markdown",
      "source": [
        "### Q. 14:\n",
        "Find the sum of number of nodes of both trees (trees obtained using approach 1 and appoach 2)."
      ],
      "metadata": {
        "id": "MzU5TSmInjVX"
      }
    },
    {
      "cell_type": "code",
      "source": [
        "from sklearn.tree import plot_tree"
      ],
      "metadata": {
        "id": "q12hmRoKsoWl"
      },
      "execution_count": 113,
      "outputs": []
    },
    {
      "cell_type": "code",
      "source": [
        "from sklearn import tree"
      ],
      "metadata": {
        "id": "kHuEcCbRs4jt"
      },
      "execution_count": 116,
      "outputs": []
    },
    {
      "cell_type": "code",
      "source": [
        "tree.plot_tree(clf_dt1)"
      ],
      "metadata": {
        "colab": {
          "base_uri": "https://localhost:8080/",
          "height": 1000
        },
        "id": "CcloSbHvsfnL",
        "outputId": "a911b0d6-148b-4f27-8bc5-527f12e3f516"
      },
      "execution_count": 117,
      "outputs": [
        {
          "output_type": "execute_result",
          "data": {
            "text/plain": [
              "[Text(0.5342935794044665, 0.9545454545454546, 'x[0] <= 2.5\\ngini = 0.485\\nsamples = 9999\\nvalue = [4134, 5865]'),\n",
              " Text(0.24414547146401985, 0.8636363636363636, 'x[9] <= 5.5\\ngini = 0.356\\nsamples = 6837\\nvalue = [1585, 5252]'),\n",
              " Text(0.1054590570719603, 0.7727272727272727, 'x[9] <= 3.5\\ngini = 0.41\\nsamples = 1143\\nvalue = [814, 329]'),\n",
              " Text(0.05334987593052109, 0.6818181818181818, 'x[0] <= 1.5\\ngini = 0.209\\nsamples = 591\\nvalue = [521, 70]'),\n",
              " Text(0.02481389578163772, 0.5909090909090909, 'x[9] <= 2.5\\ngini = 0.349\\nsamples = 160\\nvalue = [124, 36]'),\n",
              " Text(0.01488833746898263, 0.5, 'x[11] <= 90.039\\ngini = 0.258\\nsamples = 105\\nvalue = [89, 16]'),\n",
              " Text(0.009925558312655087, 0.4090909090909091, 'x[17] <= 6.184\\ngini = 0.395\\nsamples = 59\\nvalue = [43, 16]'),\n",
              " Text(0.004962779156327543, 0.3181818181818182, 'gini = 0.499\\nsamples = 27\\nvalue = [14, 13]'),\n",
              " Text(0.01488833746898263, 0.3181818181818182, 'gini = 0.17\\nsamples = 32\\nvalue = [29, 3]'),\n",
              " Text(0.019851116625310174, 0.4090909090909091, 'gini = 0.0\\nsamples = 46\\nvalue = [46, 0]'),\n",
              " Text(0.034739454094292806, 0.5, 'x[0] <= 0.5\\ngini = 0.463\\nsamples = 55\\nvalue = [35, 20]'),\n",
              " Text(0.02977667493796526, 0.4090909090909091, 'gini = 0.32\\nsamples = 5\\nvalue = [1, 4]'),\n",
              " Text(0.03970223325062035, 0.4090909090909091, 'x[11] <= 54.819\\ngini = 0.435\\nsamples = 50\\nvalue = [34, 16]'),\n",
              " Text(0.034739454094292806, 0.3181818181818182, 'gini = 0.0\\nsamples = 2\\nvalue = [0, 2]'),\n",
              " Text(0.04466501240694789, 0.3181818181818182, 'gini = 0.413\\nsamples = 48\\nvalue = [34, 14]'),\n",
              " Text(0.08188585607940446, 0.5909090909090909, 'x[9] <= 2.5\\ngini = 0.145\\nsamples = 431\\nvalue = [397, 34]'),\n",
              " Text(0.06947890818858561, 0.5, 'x[11] <= 192.325\\ngini = 0.09\\nsamples = 297\\nvalue = [283, 14]'),\n",
              " Text(0.06451612903225806, 0.4090909090909091, 'x[11] <= 78.106\\ngini = 0.084\\nsamples = 295\\nvalue = [282, 13]'),\n",
              " Text(0.05459057071960298, 0.3181818181818182, 'x[11] <= 63.035\\ngini = 0.039\\nsamples = 150\\nvalue = [147, 3]'),\n",
              " Text(0.04962779156327544, 0.22727272727272727, 'x[11] <= 62.355\\ngini = 0.103\\nsamples = 55\\nvalue = [52, 3]'),\n",
              " Text(0.04466501240694789, 0.13636363636363635, 'x[11] <= 59.132\\ngini = 0.071\\nsamples = 54\\nvalue = [52, 2]'),\n",
              " Text(0.03970223325062035, 0.045454545454545456, 'gini = 0.0\\nsamples = 44\\nvalue = [44, 0]'),\n",
              " Text(0.04962779156327544, 0.045454545454545456, 'gini = 0.32\\nsamples = 10\\nvalue = [8, 2]'),\n",
              " Text(0.05459057071960298, 0.13636363636363635, 'gini = 0.0\\nsamples = 1\\nvalue = [0, 1]'),\n",
              " Text(0.05955334987593052, 0.22727272727272727, 'gini = 0.0\\nsamples = 95\\nvalue = [95, 0]'),\n",
              " Text(0.07444168734491315, 0.3181818181818182, 'x[11] <= 81.446\\ngini = 0.128\\nsamples = 145\\nvalue = [135, 10]'),\n",
              " Text(0.06947890818858561, 0.22727272727272727, 'gini = 0.49\\nsamples = 7\\nvalue = [4, 3]'),\n",
              " Text(0.0794044665012407, 0.22727272727272727, 'x[17] <= 18.0\\ngini = 0.096\\nsamples = 138\\nvalue = [131, 7]'),\n",
              " Text(0.07444168734491315, 0.13636363636363635, 'x[15] <= 18.0\\ngini = 0.065\\nsamples = 119\\nvalue = [115, 4]'),\n",
              " Text(0.06947890818858561, 0.045454545454545456, 'gini = 0.0\\nsamples = 61\\nvalue = [61, 0]'),\n",
              " Text(0.0794044665012407, 0.045454545454545456, 'gini = 0.128\\nsamples = 58\\nvalue = [54, 4]'),\n",
              " Text(0.08436724565756824, 0.13636363636363635, 'gini = 0.266\\nsamples = 19\\nvalue = [16, 3]'),\n",
              " Text(0.07444168734491315, 0.4090909090909091, 'gini = 0.5\\nsamples = 2\\nvalue = [1, 1]'),\n",
              " Text(0.09429280397022333, 0.5, 'x[2] <= 0.5\\ngini = 0.254\\nsamples = 134\\nvalue = [114, 20]'),\n",
              " Text(0.08933002481389578, 0.4090909090909091, 'gini = 0.444\\nsamples = 27\\nvalue = [18, 9]'),\n",
              " Text(0.09925558312655088, 0.4090909090909091, 'x[10] <= 159.192\\ngini = 0.184\\nsamples = 107\\nvalue = [96, 11]'),\n",
              " Text(0.09429280397022333, 0.3181818181818182, 'gini = 0.463\\nsamples = 11\\nvalue = [7, 4]'),\n",
              " Text(0.10421836228287841, 0.3181818181818182, 'x[15] <= 105.0\\ngini = 0.135\\nsamples = 96\\nvalue = [89, 7]'),\n",
              " Text(0.09925558312655088, 0.22727272727272727, 'x[10] <= 180.975\\ngini = 0.118\\nsamples = 95\\nvalue = [89, 6]'),\n",
              " Text(0.09429280397022333, 0.13636363636363635, 'x[15] <= 4.5\\ngini = 0.05\\nsamples = 78\\nvalue = [76, 2]'),\n",
              " Text(0.08933002481389578, 0.045454545454545456, 'gini = 0.32\\nsamples = 10\\nvalue = [8, 2]'),\n",
              " Text(0.09925558312655088, 0.045454545454545456, 'gini = 0.0\\nsamples = 68\\nvalue = [68, 0]'),\n",
              " Text(0.10421836228287841, 0.13636363636363635, 'gini = 0.36\\nsamples = 17\\nvalue = [13, 4]'),\n",
              " Text(0.10918114143920596, 0.22727272727272727, 'gini = 0.0\\nsamples = 1\\nvalue = [0, 1]'),\n",
              " Text(0.1575682382133995, 0.6818181818181818, 'x[0] <= 1.5\\ngini = 0.498\\nsamples = 552\\nvalue = [293, 259]'),\n",
              " Text(0.12903225806451613, 0.5909090909090909, 'x[1] <= 2.004\\ngini = 0.427\\nsamples = 256\\nvalue = [79, 177]'),\n",
              " Text(0.12406947890818859, 0.5, 'gini = 0.444\\nsamples = 39\\nvalue = [26, 13]'),\n",
              " Text(0.13399503722084366, 0.5, 'x[1] <= 3.974\\ngini = 0.369\\nsamples = 217\\nvalue = [53, 164]'),\n",
              " Text(0.12903225806451613, 0.4090909090909091, 'gini = 0.0\\nsamples = 30\\nvalue = [0, 30]'),\n",
              " Text(0.13895781637717122, 0.4090909090909091, 'x[2] <= 0.5\\ngini = 0.406\\nsamples = 187\\nvalue = [53, 134]'),\n",
              " Text(0.12406947890818859, 0.3181818181818182, 'x[16] <= 3.5\\ngini = 0.308\\nsamples = 105\\nvalue = [20, 85]'),\n",
              " Text(0.11910669975186104, 0.22727272727272727, 'gini = 0.495\\nsamples = 20\\nvalue = [9, 11]'),\n",
              " Text(0.12903225806451613, 0.22727272727272727, 'x[15] <= 4.034\\ngini = 0.225\\nsamples = 85\\nvalue = [11, 74]'),\n",
              " Text(0.12406947890818859, 0.13636363636363635, 'gini = 0.496\\nsamples = 11\\nvalue = [5, 6]'),\n",
              " Text(0.13399503722084366, 0.13636363636363635, 'x[16] <= 48.254\\ngini = 0.149\\nsamples = 74\\nvalue = [6, 68]'),\n",
              " Text(0.12903225806451613, 0.045454545454545456, 'gini = 0.128\\nsamples = 73\\nvalue = [5, 68]'),\n",
              " Text(0.13895781637717122, 0.045454545454545456, 'gini = 0.0\\nsamples = 1\\nvalue = [1, 0]'),\n",
              " Text(0.15384615384615385, 0.3181818181818182, 'x[14] <= 2.851\\ngini = 0.481\\nsamples = 82\\nvalue = [33, 49]'),\n",
              " Text(0.1488833746898263, 0.22727272727272727, 'x[15] <= 11.63\\ngini = 0.422\\nsamples = 66\\nvalue = [20, 46]'),\n",
              " Text(0.14392059553349876, 0.13636363636363635, 'gini = 0.111\\nsamples = 17\\nvalue = [1, 16]'),\n",
              " Text(0.15384615384615385, 0.13636363636363635, 'gini = 0.475\\nsamples = 49\\nvalue = [19, 30]'),\n",
              " Text(0.1588089330024814, 0.22727272727272727, 'gini = 0.305\\nsamples = 16\\nvalue = [13, 3]'),\n",
              " Text(0.18610421836228289, 0.5909090909090909, 'x[2] <= 0.5\\ngini = 0.401\\nsamples = 296\\nvalue = [214, 82]'),\n",
              " Text(0.17369727047146402, 0.5, 'x[14] <= 5.353\\ngini = 0.494\\nsamples = 85\\nvalue = [47, 38]'),\n",
              " Text(0.1687344913151365, 0.4090909090909091, 'x[16] <= 0.998\\ngini = 0.433\\nsamples = 63\\nvalue = [43, 20]'),\n",
              " Text(0.16377171215880892, 0.3181818181818182, 'gini = 0.219\\nsamples = 8\\nvalue = [1, 7]'),\n",
              " Text(0.17369727047146402, 0.3181818181818182, 'x[17] <= 4.516\\ngini = 0.361\\nsamples = 55\\nvalue = [42, 13]'),\n",
              " Text(0.1687344913151365, 0.22727272727272727, 'gini = 0.18\\nsamples = 30\\nvalue = [27, 3]'),\n",
              " Text(0.17866004962779156, 0.22727272727272727, 'gini = 0.48\\nsamples = 25\\nvalue = [15, 10]'),\n",
              " Text(0.17866004962779156, 0.4090909090909091, 'gini = 0.298\\nsamples = 22\\nvalue = [4, 18]'),\n",
              " Text(0.19851116625310175, 0.5, 'x[1] <= 2.278\\ngini = 0.33\\nsamples = 211\\nvalue = [167, 44]'),\n",
              " Text(0.18858560794044665, 0.4090909090909091, 'x[1] <= 1.91\\ngini = 0.142\\nsamples = 65\\nvalue = [60, 5]'),\n",
              " Text(0.18362282878411912, 0.3181818181818182, 'gini = 0.264\\nsamples = 32\\nvalue = [27, 5]'),\n",
              " Text(0.1935483870967742, 0.3181818181818182, 'gini = 0.0\\nsamples = 33\\nvalue = [33, 0]'),\n",
              " Text(0.20843672456575682, 0.4090909090909091, 'x[1] <= 3.953\\ngini = 0.392\\nsamples = 146\\nvalue = [107, 39]'),\n",
              " Text(0.20347394540942929, 0.3181818181818182, 'gini = 0.0\\nsamples = 6\\nvalue = [0, 6]'),\n",
              " Text(0.21339950372208435, 0.3181818181818182, 'x[5] <= 0.5\\ngini = 0.36\\nsamples = 140\\nvalue = [107, 33]'),\n",
              " Text(0.20843672456575682, 0.22727272727272727, 'x[9] <= 4.5\\ngini = 0.41\\nsamples = 111\\nvalue = [79, 32]'),\n",
              " Text(0.19851116625310175, 0.13636363636363635, 'x[16] <= 0.877\\ngini = 0.316\\nsamples = 56\\nvalue = [45, 11]'),\n",
              " Text(0.1935483870967742, 0.045454545454545456, 'gini = 0.0\\nsamples = 2\\nvalue = [0, 2]'),\n",
              " Text(0.20347394540942929, 0.045454545454545456, 'gini = 0.278\\nsamples = 54\\nvalue = [45, 9]'),\n",
              " Text(0.21836228287841192, 0.13636363636363635, 'x[16] <= 10.462\\ngini = 0.472\\nsamples = 55\\nvalue = [34, 21]'),\n",
              " Text(0.21339950372208435, 0.045454545454545456, 'gini = 0.255\\nsamples = 20\\nvalue = [17, 3]'),\n",
              " Text(0.22332506203473945, 0.045454545454545456, 'gini = 0.5\\nsamples = 35\\nvalue = [17, 18]'),\n",
              " Text(0.21836228287841192, 0.22727272727272727, 'gini = 0.067\\nsamples = 29\\nvalue = [28, 1]'),\n",
              " Text(0.3828318858560794, 0.7727272727272727, 'x[0] <= 1.5\\ngini = 0.234\\nsamples = 5694\\nvalue = [771, 4923]'),\n",
              " Text(0.2777605459057072, 0.6818181818181818, 'x[1] <= 2.001\\ngini = 0.124\\nsamples = 3221\\nvalue = [214, 3007]'),\n",
              " Text(0.228287841191067, 0.5909090909090909, 'x[1] <= 0.211\\ngini = 0.393\\nsamples = 104\\nvalue = [28, 76]'),\n",
              " Text(0.22332506203473945, 0.5, 'gini = 0.473\\nsamples = 13\\nvalue = [8, 5]'),\n",
              " Text(0.23325062034739455, 0.5, 'x[1] <= 1.964\\ngini = 0.343\\nsamples = 91\\nvalue = [20, 71]'),\n",
              " Text(0.228287841191067, 0.4090909090909091, 'x[1] <= 1.024\\ngini = 0.163\\nsamples = 56\\nvalue = [5, 51]'),\n",
              " Text(0.22332506203473945, 0.3181818181818182, 'gini = 0.415\\nsamples = 17\\nvalue = [5, 12]'),\n",
              " Text(0.23325062034739455, 0.3181818181818182, 'gini = 0.0\\nsamples = 39\\nvalue = [0, 39]'),\n",
              " Text(0.23821339950372208, 0.4090909090909091, 'gini = 0.49\\nsamples = 35\\nvalue = [15, 20]'),\n",
              " Text(0.3272332506203474, 0.5909090909090909, 'x[2] <= 0.5\\ngini = 0.112\\nsamples = 3117\\nvalue = [186, 2931]'),\n",
              " Text(0.2816377171215881, 0.5, 'x[5] <= 0.5\\ngini = 0.069\\nsamples = 2034\\nvalue = [73, 1961]'),\n",
              " Text(0.26054590570719605, 0.4090909090909091, 'x[4] <= 0.5\\ngini = 0.053\\nsamples = 1746\\nvalue = [48, 1698]'),\n",
              " Text(0.24317617866004962, 0.3181818181818182, 'x[10] <= 150.068\\ngini = 0.043\\nsamples = 1624\\nvalue = [36, 1588]'),\n",
              " Text(0.23821339950372208, 0.22727272727272727, 'gini = 0.184\\nsamples = 39\\nvalue = [4, 35]'),\n",
              " Text(0.24813895781637718, 0.22727272727272727, 'x[16] <= 0.003\\ngini = 0.04\\nsamples = 1585\\nvalue = [32, 1553]'),\n",
              " Text(0.23821339950372208, 0.13636363636363635, 'x[14] <= 2.797\\ngini = 0.127\\nsamples = 88\\nvalue = [6, 82]'),\n",
              " Text(0.23325062034739455, 0.045454545454545456, 'gini = 0.049\\nsamples = 80\\nvalue = [2, 78]'),\n",
              " Text(0.24317617866004962, 0.045454545454545456, 'gini = 0.5\\nsamples = 8\\nvalue = [4, 4]'),\n",
              " Text(0.25806451612903225, 0.13636363636363635, 'x[14] <= 29.937\\ngini = 0.034\\nsamples = 1497\\nvalue = [26, 1471]'),\n",
              " Text(0.2531017369727047, 0.045454545454545456, 'gini = 0.032\\nsamples = 1474\\nvalue = [24, 1450]'),\n",
              " Text(0.2630272952853598, 0.045454545454545456, 'gini = 0.159\\nsamples = 23\\nvalue = [2, 21]'),\n",
              " Text(0.27791563275434245, 0.3181818181818182, 'x[10] <= 187.881\\ngini = 0.177\\nsamples = 122\\nvalue = [12, 110]'),\n",
              " Text(0.2729528535980149, 0.22727272727272727, 'x[9] <= 9.5\\ngini = 0.165\\nsamples = 121\\nvalue = [11, 110]'),\n",
              " Text(0.2679900744416873, 0.13636363636363635, 'gini = 0.308\\nsamples = 42\\nvalue = [8, 34]'),\n",
              " Text(0.27791563275434245, 0.13636363636363635, 'x[11] <= 69.855\\ngini = 0.073\\nsamples = 79\\nvalue = [3, 76]'),\n",
              " Text(0.2729528535980149, 0.045454545454545456, 'gini = 0.185\\nsamples = 29\\nvalue = [3, 26]'),\n",
              " Text(0.28287841191067, 0.045454545454545456, 'gini = 0.0\\nsamples = 50\\nvalue = [0, 50]'),\n",
              " Text(0.28287841191067, 0.22727272727272727, 'gini = 0.0\\nsamples = 1\\nvalue = [1, 0]'),\n",
              " Text(0.3027295285359802, 0.4090909090909091, 'x[14] <= 3.85\\ngini = 0.159\\nsamples = 288\\nvalue = [25, 263]'),\n",
              " Text(0.2977667493796526, 0.3181818181818182, 'x[9] <= 6.5\\ngini = 0.122\\nsamples = 261\\nvalue = [17, 244]'),\n",
              " Text(0.29280397022332505, 0.22727272727272727, 'gini = 0.278\\nsamples = 36\\nvalue = [6, 30]'),\n",
              " Text(0.3027295285359802, 0.22727272727272727, 'x[15] <= 105.0\\ngini = 0.093\\nsamples = 225\\nvalue = [11, 214]'),\n",
              " Text(0.2977667493796526, 0.13636363636363635, 'x[17] <= 3.962\\ngini = 0.086\\nsamples = 223\\nvalue = [10, 213]'),\n",
              " Text(0.29280397022332505, 0.045454545454545456, 'gini = 0.031\\nsamples = 126\\nvalue = [2, 124]'),\n",
              " Text(0.3027295285359802, 0.045454545454545456, 'gini = 0.151\\nsamples = 97\\nvalue = [8, 89]'),\n",
              " Text(0.3076923076923077, 0.13636363636363635, 'gini = 0.5\\nsamples = 2\\nvalue = [1, 1]'),\n",
              " Text(0.3076923076923077, 0.3181818181818182, 'gini = 0.417\\nsamples = 27\\nvalue = [8, 19]'),\n",
              " Text(0.3728287841191067, 0.5, 'x[5] <= 0.5\\ngini = 0.187\\nsamples = 1083\\nvalue = [113, 970]'),\n",
              " Text(0.3535980148883375, 0.4090909090909091, 'x[4] <= 0.5\\ngini = 0.153\\nsamples = 970\\nvalue = [81, 889]'),\n",
              " Text(0.3399503722084367, 0.3181818181818182, 'x[6] <= 0.5\\ngini = 0.13\\nsamples = 884\\nvalue = [62, 822]'),\n",
              " Text(0.32754342431761785, 0.22727272727272727, 'x[7] <= 0.5\\ngini = 0.091\\nsamples = 709\\nvalue = [34, 675]'),\n",
              " Text(0.3176178660049628, 0.13636363636363635, 'x[17] <= 75.0\\ngini = 0.048\\nsamples = 443\\nvalue = [11, 432]'),\n",
              " Text(0.31265508684863524, 0.045454545454545456, 'gini = 0.044\\nsamples = 441\\nvalue = [10, 431]'),\n",
              " Text(0.3225806451612903, 0.045454545454545456, 'gini = 0.5\\nsamples = 2\\nvalue = [1, 1]'),\n",
              " Text(0.337468982630273, 0.13636363636363635, 'x[16] <= 0.049\\ngini = 0.158\\nsamples = 266\\nvalue = [23, 243]'),\n",
              " Text(0.3325062034739454, 0.045454545454545456, 'gini = 0.463\\nsamples = 11\\nvalue = [4, 7]'),\n",
              " Text(0.3424317617866005, 0.045454545454545456, 'gini = 0.138\\nsamples = 255\\nvalue = [19, 236]'),\n",
              " Text(0.3523573200992556, 0.22727272727272727, 'x[10] <= 133.673\\ngini = 0.269\\nsamples = 175\\nvalue = [28, 147]'),\n",
              " Text(0.34739454094292804, 0.13636363636363635, 'gini = 0.0\\nsamples = 2\\nvalue = [2, 0]'),\n",
              " Text(0.3573200992555831, 0.13636363636363635, 'x[17] <= 11.634\\ngini = 0.255\\nsamples = 173\\nvalue = [26, 147]'),\n",
              " Text(0.3523573200992556, 0.045454545454545456, 'gini = 0.214\\nsamples = 148\\nvalue = [18, 130]'),\n",
              " Text(0.36228287841191065, 0.045454545454545456, 'gini = 0.435\\nsamples = 25\\nvalue = [8, 17]'),\n",
              " Text(0.36724565756823824, 0.3181818181818182, 'x[16] <= 4.715\\ngini = 0.344\\nsamples = 86\\nvalue = [19, 67]'),\n",
              " Text(0.36228287841191065, 0.22727272727272727, 'gini = 0.0\\nsamples = 22\\nvalue = [0, 22]'),\n",
              " Text(0.37220843672456577, 0.22727272727272727, 'x[10] <= 163.07\\ngini = 0.417\\nsamples = 64\\nvalue = [19, 45]'),\n",
              " Text(0.36724565756823824, 0.13636363636363635, 'gini = 0.498\\nsamples = 17\\nvalue = [9, 8]'),\n",
              " Text(0.3771712158808933, 0.13636363636363635, 'gini = 0.335\\nsamples = 47\\nvalue = [10, 37]'),\n",
              " Text(0.3920595533498759, 0.4090909090909091, 'x[7] <= 0.5\\ngini = 0.406\\nsamples = 113\\nvalue = [32, 81]'),\n",
              " Text(0.3870967741935484, 0.3181818181818182, 'gini = 0.201\\nsamples = 44\\nvalue = [5, 39]'),\n",
              " Text(0.3970223325062035, 0.3181818181818182, 'x[11] <= 96.385\\ngini = 0.476\\nsamples = 69\\nvalue = [27, 42]'),\n",
              " Text(0.3920595533498759, 0.22727272727272727, 'x[15] <= 50.0\\ngini = 0.411\\nsamples = 52\\nvalue = [15, 37]'),\n",
              " Text(0.3870967741935484, 0.13636363636363635, 'gini = 0.326\\nsamples = 39\\nvalue = [8, 31]'),\n",
              " Text(0.3970223325062035, 0.13636363636363635, 'gini = 0.497\\nsamples = 13\\nvalue = [7, 6]'),\n",
              " Text(0.40198511166253104, 0.22727272727272727, 'gini = 0.415\\nsamples = 17\\nvalue = [12, 5]'),\n",
              " Text(0.4879032258064516, 0.6818181818181818, 'x[9] <= 7.5\\ngini = 0.349\\nsamples = 2473\\nvalue = [557, 1916]'),\n",
              " Text(0.4392059553349876, 0.5909090909090909, 'x[10] <= 163.133\\ngini = 0.5\\nsamples = 427\\nvalue = [209, 218]'),\n",
              " Text(0.4267990074441687, 0.5, 'x[14] <= 6.597\\ngini = 0.407\\nsamples = 95\\nvalue = [68, 27]'),\n",
              " Text(0.4218362282878412, 0.4090909090909091, 'x[17] <= 13.5\\ngini = 0.442\\nsamples = 82\\nvalue = [55, 27]'),\n",
              " Text(0.41687344913151364, 0.3181818181818182, 'x[17] <= 3.974\\ngini = 0.415\\nsamples = 75\\nvalue = [53, 22]'),\n",
              " Text(0.4119106699751861, 0.22727272727272727, 'gini = 0.482\\nsamples = 42\\nvalue = [25, 17]'),\n",
              " Text(0.4218362282878412, 0.22727272727272727, 'gini = 0.257\\nsamples = 33\\nvalue = [28, 5]'),\n",
              " Text(0.4267990074441687, 0.3181818181818182, 'gini = 0.408\\nsamples = 7\\nvalue = [2, 5]'),\n",
              " Text(0.4317617866004963, 0.4090909090909091, 'gini = 0.0\\nsamples = 13\\nvalue = [13, 0]'),\n",
              " Text(0.45161290322580644, 0.5, 'x[7] <= 0.5\\ngini = 0.489\\nsamples = 332\\nvalue = [141, 191]'),\n",
              " Text(0.44168734491315137, 0.4090909090909091, 'x[1] <= 2.096\\ngini = 0.462\\nsamples = 254\\nvalue = [92, 162]'),\n",
              " Text(0.43672456575682383, 0.3181818181818182, 'gini = 0.475\\nsamples = 31\\nvalue = [19, 12]'),\n",
              " Text(0.4466501240694789, 0.3181818181818182, 'x[1] <= 3.973\\ngini = 0.44\\nsamples = 223\\nvalue = [73, 150]'),\n",
              " Text(0.44168734491315137, 0.22727272727272727, 'gini = 0.0\\nsamples = 26\\nvalue = [0, 26]'),\n",
              " Text(0.45161290322580644, 0.22727272727272727, 'x[4] <= 0.5\\ngini = 0.466\\nsamples = 197\\nvalue = [73, 124]'),\n",
              " Text(0.4466501240694789, 0.13636363636363635, 'x[2] <= 0.5\\ngini = 0.455\\nsamples = 191\\nvalue = [67, 124]'),\n",
              " Text(0.44168734491315137, 0.045454545454545456, 'gini = 0.359\\nsamples = 64\\nvalue = [15, 49]'),\n",
              " Text(0.45161290322580644, 0.045454545454545456, 'gini = 0.484\\nsamples = 127\\nvalue = [52, 75]'),\n",
              " Text(0.456575682382134, 0.13636363636363635, 'gini = 0.0\\nsamples = 6\\nvalue = [6, 0]'),\n",
              " Text(0.46153846153846156, 0.4090909090909091, 'x[2] <= 0.5\\ngini = 0.467\\nsamples = 78\\nvalue = [49, 29]'),\n",
              " Text(0.456575682382134, 0.3181818181818182, 'gini = 0.435\\nsamples = 25\\nvalue = [8, 17]'),\n",
              " Text(0.4665012406947891, 0.3181818181818182, 'x[16] <= 22.459\\ngini = 0.35\\nsamples = 53\\nvalue = [41, 12]'),\n",
              " Text(0.46153846153846156, 0.22727272727272727, 'gini = 0.278\\nsamples = 42\\nvalue = [35, 7]'),\n",
              " Text(0.47146401985111663, 0.22727272727272727, 'gini = 0.496\\nsamples = 11\\nvalue = [6, 5]'),\n",
              " Text(0.5366004962779156, 0.5909090909090909, 'x[5] <= 0.5\\ngini = 0.282\\nsamples = 2046\\nvalue = [348, 1698]'),\n",
              " Text(0.5099255583126551, 0.5, 'x[1] <= 1.012\\ngini = 0.245\\nsamples = 1917\\nvalue = [274, 1643]'),\n",
              " Text(0.5049627791563276, 0.4090909090909091, 'gini = 0.36\\nsamples = 17\\nvalue = [13, 4]'),\n",
              " Text(0.5148883374689827, 0.4090909090909091, 'x[10] <= 168.002\\ngini = 0.237\\nsamples = 1900\\nvalue = [261, 1639]'),\n",
              " Text(0.4913151364764268, 0.3181818181818182, 'x[4] <= 0.5\\ngini = 0.335\\nsamples = 678\\nvalue = [144, 534]'),\n",
              " Text(0.4813895781637717, 0.22727272727272727, 'x[11] <= 116.8\\ngini = 0.307\\nsamples = 617\\nvalue = [117, 500]'),\n",
              " Text(0.47642679900744417, 0.13636363636363635, 'x[17] <= 0.004\\ngini = 0.298\\nsamples = 609\\nvalue = [111, 498]'),\n",
              " Text(0.47146401985111663, 0.045454545454545456, 'gini = 0.435\\nsamples = 94\\nvalue = [30, 64]'),\n",
              " Text(0.4813895781637717, 0.045454545454545456, 'gini = 0.265\\nsamples = 515\\nvalue = [81, 434]'),\n",
              " Text(0.48635235732009924, 0.13636363636363635, 'gini = 0.375\\nsamples = 8\\nvalue = [6, 2]'),\n",
              " Text(0.5012406947890818, 0.22727272727272727, 'x[17] <= 1.046\\ngini = 0.493\\nsamples = 61\\nvalue = [27, 34]'),\n",
              " Text(0.49627791563275436, 0.13636363636363635, 'gini = 0.346\\nsamples = 18\\nvalue = [14, 4]'),\n",
              " Text(0.5062034739454094, 0.13636363636363635, 'gini = 0.422\\nsamples = 43\\nvalue = [13, 30]'),\n",
              " Text(0.5384615384615384, 0.3181818181818182, 'x[7] <= 0.5\\ngini = 0.173\\nsamples = 1222\\nvalue = [117, 1105]'),\n",
              " Text(0.5210918114143921, 0.22727272727272727, 'x[17] <= 0.003\\ngini = 0.125\\nsamples = 836\\nvalue = [56, 780]'),\n",
              " Text(0.5161290322580645, 0.13636363636363635, 'gini = 0.33\\nsamples = 48\\nvalue = [10, 38]'),\n",
              " Text(0.5260545905707196, 0.13636363636363635, 'x[11] <= 52.677\\ngini = 0.11\\nsamples = 788\\nvalue = [46, 742]'),\n",
              " Text(0.5210918114143921, 0.045454545454545456, 'gini = 0.0\\nsamples = 1\\nvalue = [1, 0]'),\n",
              " Text(0.5310173697270472, 0.045454545454545456, 'gini = 0.108\\nsamples = 787\\nvalue = [45, 742]'),\n",
              " Text(0.5558312655086849, 0.22727272727272727, 'x[2] <= 0.5\\ngini = 0.266\\nsamples = 386\\nvalue = [61, 325]'),\n",
              " Text(0.5459057071960298, 0.13636363636363635, 'x[16] <= 0.017\\ngini = 0.124\\nsamples = 151\\nvalue = [10, 141]'),\n",
              " Text(0.5409429280397022, 0.045454545454545456, 'gini = 0.0\\nsamples = 2\\nvalue = [2, 0]'),\n",
              " Text(0.5508684863523573, 0.045454545454545456, 'gini = 0.102\\nsamples = 149\\nvalue = [8, 141]'),\n",
              " Text(0.56575682382134, 0.13636363636363635, 'x[10] <= 184.965\\ngini = 0.34\\nsamples = 235\\nvalue = [51, 184]'),\n",
              " Text(0.5607940446650124, 0.045454545454545456, 'gini = 0.295\\nsamples = 206\\nvalue = [37, 169]'),\n",
              " Text(0.5707196029776674, 0.045454545454545456, 'gini = 0.499\\nsamples = 29\\nvalue = [14, 15]'),\n",
              " Text(0.5632754342431762, 0.5, 'x[2] <= 0.5\\ngini = 0.489\\nsamples = 129\\nvalue = [74, 55]'),\n",
              " Text(0.5533498759305211, 0.4090909090909091, 'x[9] <= 9.5\\ngini = 0.487\\nsamples = 55\\nvalue = [23, 32]'),\n",
              " Text(0.5483870967741935, 0.3181818181818182, 'gini = 0.48\\nsamples = 25\\nvalue = [15, 10]'),\n",
              " Text(0.5583126550868487, 0.3181818181818182, 'gini = 0.391\\nsamples = 30\\nvalue = [8, 22]'),\n",
              " Text(0.5732009925558312, 0.4090909090909091, 'x[1] <= 3.905\\ngini = 0.428\\nsamples = 74\\nvalue = [51, 23]'),\n",
              " Text(0.5682382133995038, 0.3181818181818182, 'gini = 0.469\\nsamples = 8\\nvalue = [3, 5]'),\n",
              " Text(0.5781637717121588, 0.3181818181818182, 'x[16] <= 0.5\\ngini = 0.397\\nsamples = 66\\nvalue = [48, 18]'),\n",
              " Text(0.5732009925558312, 0.22727272727272727, 'gini = 0.0\\nsamples = 2\\nvalue = [0, 2]'),\n",
              " Text(0.5831265508684863, 0.22727272727272727, 'x[9] <= 8.5\\ngini = 0.375\\nsamples = 64\\nvalue = [48, 16]'),\n",
              " Text(0.5781637717121588, 0.13636363636363635, 'gini = 0.091\\nsamples = 21\\nvalue = [20, 1]'),\n",
              " Text(0.5880893300248139, 0.13636363636363635, 'gini = 0.454\\nsamples = 43\\nvalue = [28, 15]'),\n",
              " Text(0.8244416873449132, 0.8636363636363636, 'x[9] <= 8.5\\ngini = 0.313\\nsamples = 3162\\nvalue = [2549, 613]'),\n",
              " Text(0.7158808933002482, 0.7727272727272727, 'x[9] <= 6.5\\ngini = 0.155\\nsamples = 2231\\nvalue = [2042, 189]'),\n",
              " Text(0.6550868486352357, 0.6818181818181818, 'x[9] <= 3.5\\ngini = 0.084\\nsamples = 1690\\nvalue = [1616, 74]'),\n",
              " Text(0.6178660049627791, 0.5909090909090909, 'x[2] <= 0.5\\ngini = 0.033\\nsamples = 947\\nvalue = [931, 16]'),\n",
              " Text(0.607940446650124, 0.5, 'x[15] <= 105.0\\ngini = 0.094\\nsamples = 121\\nvalue = [115, 6]'),\n",
              " Text(0.6029776674937966, 0.4090909090909091, 'x[15] <= 28.0\\ngini = 0.08\\nsamples = 120\\nvalue = [115, 5]'),\n",
              " Text(0.598014888337469, 0.3181818181818182, 'x[1] <= 0.918\\ngini = 0.025\\nsamples = 79\\nvalue = [78, 1]'),\n",
              " Text(0.5930521091811415, 0.22727272727272727, 'gini = 0.32\\nsamples = 5\\nvalue = [4, 1]'),\n",
              " Text(0.6029776674937966, 0.22727272727272727, 'gini = 0.0\\nsamples = 74\\nvalue = [74, 0]'),\n",
              " Text(0.607940446650124, 0.3181818181818182, 'gini = 0.176\\nsamples = 41\\nvalue = [37, 4]'),\n",
              " Text(0.6129032258064516, 0.4090909090909091, 'gini = 0.0\\nsamples = 1\\nvalue = [0, 1]'),\n",
              " Text(0.6277915632754343, 0.5, 'x[15] <= 0.91\\ngini = 0.024\\nsamples = 826\\nvalue = [816, 10]'),\n",
              " Text(0.6228287841191067, 0.4090909090909091, 'gini = 0.198\\nsamples = 18\\nvalue = [16, 2]'),\n",
              " Text(0.6327543424317618, 0.4090909090909091, 'x[14] <= 0.819\\ngini = 0.02\\nsamples = 808\\nvalue = [800, 8]'),\n",
              " Text(0.6228287841191067, 0.3181818181818182, 'x[14] <= 0.319\\ngini = 0.044\\nsamples = 264\\nvalue = [258, 6]'),\n",
              " Text(0.6178660049627791, 0.22727272727272727, 'x[11] <= 117.025\\ngini = 0.037\\nsamples = 263\\nvalue = [258, 5]'),\n",
              " Text(0.6129032258064516, 0.13636363636363635, 'x[10] <= 169.124\\ngini = 0.031\\nsamples = 252\\nvalue = [248, 4]'),\n",
              " Text(0.607940446650124, 0.045454545454545456, 'gini = 0.068\\nsamples = 114\\nvalue = [110, 4]'),\n",
              " Text(0.6178660049627791, 0.045454545454545456, 'gini = 0.0\\nsamples = 138\\nvalue = [138, 0]'),\n",
              " Text(0.6228287841191067, 0.13636363636363635, 'gini = 0.165\\nsamples = 11\\nvalue = [10, 1]'),\n",
              " Text(0.6277915632754343, 0.22727272727272727, 'gini = 0.0\\nsamples = 1\\nvalue = [0, 1]'),\n",
              " Text(0.6426799007444168, 0.3181818181818182, 'x[10] <= 189.5\\ngini = 0.007\\nsamples = 544\\nvalue = [542, 2]'),\n",
              " Text(0.6377171215880894, 0.22727272727272727, 'x[10] <= 159.298\\ngini = 0.004\\nsamples = 499\\nvalue = [498, 1]'),\n",
              " Text(0.6327543424317618, 0.13636363636363635, 'x[10] <= 157.798\\ngini = 0.039\\nsamples = 50\\nvalue = [49, 1]'),\n",
              " Text(0.6277915632754343, 0.045454545454545456, 'gini = 0.0\\nsamples = 49\\nvalue = [49, 0]'),\n",
              " Text(0.6377171215880894, 0.045454545454545456, 'gini = 0.0\\nsamples = 1\\nvalue = [0, 1]'),\n",
              " Text(0.6426799007444168, 0.13636363636363635, 'gini = 0.0\\nsamples = 449\\nvalue = [449, 0]'),\n",
              " Text(0.6476426799007444, 0.22727272727272727, 'gini = 0.043\\nsamples = 45\\nvalue = [44, 1]'),\n",
              " Text(0.6923076923076923, 0.5909090909090909, 'x[10] <= 178.105\\ngini = 0.144\\nsamples = 743\\nvalue = [685, 58]'),\n",
              " Text(0.6774193548387096, 0.5, 'x[16] <= 31.0\\ngini = 0.093\\nsamples = 529\\nvalue = [503, 26]'),\n",
              " Text(0.6724565756823822, 0.4090909090909091, 'x[14] <= 0.043\\ngini = 0.081\\nsamples = 499\\nvalue = [478, 21]'),\n",
              " Text(0.6625310173697271, 0.3181818181818182, 'x[10] <= 176.5\\ngini = 0.011\\nsamples = 173\\nvalue = [172, 1]'),\n",
              " Text(0.6575682382133995, 0.22727272727272727, 'gini = 0.0\\nsamples = 159\\nvalue = [159, 0]'),\n",
              " Text(0.6674937965260546, 0.22727272727272727, 'gini = 0.133\\nsamples = 14\\nvalue = [13, 1]'),\n",
              " Text(0.6823821339950372, 0.3181818181818182, 'x[14] <= 0.743\\ngini = 0.115\\nsamples = 326\\nvalue = [306, 20]'),\n",
              " Text(0.6774193548387096, 0.22727272727272727, 'gini = 0.0\\nsamples = 4\\nvalue = [0, 4]'),\n",
              " Text(0.6873449131513648, 0.22727272727272727, 'x[16] <= 2.922\\ngini = 0.094\\nsamples = 322\\nvalue = [306, 16]'),\n",
              " Text(0.6823821339950372, 0.13636363636363635, 'gini = 0.302\\nsamples = 27\\nvalue = [22, 5]'),\n",
              " Text(0.6923076923076923, 0.13636363636363635, 'x[14] <= 3.582\\ngini = 0.072\\nsamples = 295\\nvalue = [284, 11]'),\n",
              " Text(0.6873449131513648, 0.045454545454545456, 'gini = 0.159\\nsamples = 103\\nvalue = [94, 9]'),\n",
              " Text(0.6972704714640199, 0.045454545454545456, 'gini = 0.021\\nsamples = 192\\nvalue = [190, 2]'),\n",
              " Text(0.6823821339950372, 0.4090909090909091, 'gini = 0.278\\nsamples = 30\\nvalue = [25, 5]'),\n",
              " Text(0.707196029776675, 0.5, 'x[10] <= 179.479\\ngini = 0.254\\nsamples = 214\\nvalue = [182, 32]'),\n",
              " Text(0.7022332506203474, 0.4090909090909091, 'gini = 0.0\\nsamples = 3\\nvalue = [0, 3]'),\n",
              " Text(0.7121588089330024, 0.4090909090909091, 'x[2] <= 0.5\\ngini = 0.237\\nsamples = 211\\nvalue = [182, 29]'),\n",
              " Text(0.707196029776675, 0.3181818181818182, 'gini = 0.444\\nsamples = 27\\nvalue = [18, 9]'),\n",
              " Text(0.71712158808933, 0.3181818181818182, 'x[0] <= 3.5\\ngini = 0.194\\nsamples = 184\\nvalue = [164, 20]'),\n",
              " Text(0.707196029776675, 0.22727272727272727, 'x[16] <= 0.5\\ngini = 0.261\\nsamples = 123\\nvalue = [104, 19]'),\n",
              " Text(0.7022332506203474, 0.13636363636363635, 'gini = 0.0\\nsamples = 1\\nvalue = [0, 1]'),\n",
              " Text(0.7121588089330024, 0.13636363636363635, 'x[11] <= 86.724\\ngini = 0.252\\nsamples = 122\\nvalue = [104, 18]'),\n",
              " Text(0.707196029776675, 0.045454545454545456, 'gini = 0.059\\nsamples = 33\\nvalue = [32, 1]'),\n",
              " Text(0.71712158808933, 0.045454545454545456, 'gini = 0.309\\nsamples = 89\\nvalue = [72, 17]'),\n",
              " Text(0.7270471464019851, 0.22727272727272727, 'x[17] <= 0.599\\ngini = 0.032\\nsamples = 61\\nvalue = [60, 1]'),\n",
              " Text(0.7220843672456576, 0.13636363636363635, 'gini = 0.18\\nsamples = 10\\nvalue = [9, 1]'),\n",
              " Text(0.7320099255583127, 0.13636363636363635, 'gini = 0.0\\nsamples = 51\\nvalue = [51, 0]'),\n",
              " Text(0.7766749379652605, 0.6818181818181818, 'x[0] <= 3.5\\ngini = 0.335\\nsamples = 541\\nvalue = [426, 115]'),\n",
              " Text(0.7468982630272953, 0.5909090909090909, 'x[1] <= 2.054\\ngini = 0.412\\nsamples = 369\\nvalue = [262, 107]'),\n",
              " Text(0.7369727047146402, 0.5, 'x[17] <= 29.0\\ngini = 0.079\\nsamples = 73\\nvalue = [70, 3]'),\n",
              " Text(0.7320099255583127, 0.4090909090909091, 'x[16] <= 45.0\\ngini = 0.054\\nsamples = 72\\nvalue = [70, 2]'),\n",
              " Text(0.7270471464019851, 0.3181818181818182, 'gini = 0.0\\nsamples = 68\\nvalue = [68, 0]'),\n",
              " Text(0.7369727047146402, 0.3181818181818182, 'gini = 0.5\\nsamples = 4\\nvalue = [2, 2]'),\n",
              " Text(0.7419354838709677, 0.4090909090909091, 'gini = 0.0\\nsamples = 1\\nvalue = [0, 1]'),\n",
              " Text(0.7568238213399504, 0.5, 'x[1] <= 3.96\\ngini = 0.456\\nsamples = 296\\nvalue = [192, 104]'),\n",
              " Text(0.7518610421836228, 0.4090909090909091, 'gini = 0.0\\nsamples = 18\\nvalue = [0, 18]'),\n",
              " Text(0.7617866004962779, 0.4090909090909091, 'x[10] <= 168.181\\ngini = 0.427\\nsamples = 278\\nvalue = [192, 86]'),\n",
              " Text(0.7518610421836228, 0.3181818181818182, 'x[15] <= 5.889\\ngini = 0.291\\nsamples = 130\\nvalue = [107, 23]'),\n",
              " Text(0.7468982630272953, 0.22727272727272727, 'gini = 0.5\\nsamples = 16\\nvalue = [8, 8]'),\n",
              " Text(0.7568238213399504, 0.22727272727272727, 'x[16] <= 45.0\\ngini = 0.229\\nsamples = 114\\nvalue = [99, 15]'),\n",
              " Text(0.7518610421836228, 0.13636363636363635, 'x[2] <= 0.5\\ngini = 0.189\\nsamples = 104\\nvalue = [93, 11]'),\n",
              " Text(0.7468982630272953, 0.045454545454545456, 'gini = 0.432\\nsamples = 19\\nvalue = [13, 6]'),\n",
              " Text(0.7568238213399504, 0.045454545454545456, 'gini = 0.111\\nsamples = 85\\nvalue = [80, 5]'),\n",
              " Text(0.7617866004962779, 0.13636363636363635, 'gini = 0.48\\nsamples = 10\\nvalue = [6, 4]'),\n",
              " Text(0.771712158808933, 0.3181818181818182, 'x[10] <= 169.778\\ngini = 0.489\\nsamples = 148\\nvalue = [85, 63]'),\n",
              " Text(0.7667493796526055, 0.22727272727272727, 'gini = 0.0\\nsamples = 7\\nvalue = [0, 7]'),\n",
              " Text(0.7766749379652605, 0.22727272727272727, 'x[10] <= 170.492\\ngini = 0.479\\nsamples = 141\\nvalue = [85, 56]'),\n",
              " Text(0.771712158808933, 0.13636363636363635, 'gini = 0.117\\nsamples = 16\\nvalue = [15, 1]'),\n",
              " Text(0.7816377171215881, 0.13636363636363635, 'x[14] <= 9.871\\ngini = 0.493\\nsamples = 125\\nvalue = [70, 55]'),\n",
              " Text(0.7766749379652605, 0.045454545454545456, 'gini = 0.5\\nsamples = 101\\nvalue = [51, 50]'),\n",
              " Text(0.7866004962779156, 0.045454545454545456, 'gini = 0.33\\nsamples = 24\\nvalue = [19, 5]'),\n",
              " Text(0.8064516129032258, 0.5909090909090909, 'x[17] <= 18.0\\ngini = 0.089\\nsamples = 172\\nvalue = [164, 8]'),\n",
              " Text(0.8014888337468983, 0.5, 'x[6] <= 0.5\\ngini = 0.058\\nsamples = 167\\nvalue = [162, 5]'),\n",
              " Text(0.7965260545905707, 0.4090909090909091, 'x[14] <= 26.5\\ngini = 0.037\\nsamples = 158\\nvalue = [155, 3]'),\n",
              " Text(0.7915632754342432, 0.3181818181818182, 'x[15] <= 50.0\\ngini = 0.026\\nsamples = 150\\nvalue = [148, 2]'),\n",
              " Text(0.7866004962779156, 0.22727272727272727, 'gini = 0.0\\nsamples = 109\\nvalue = [109, 0]'),\n",
              " Text(0.7965260545905707, 0.22727272727272727, 'gini = 0.093\\nsamples = 41\\nvalue = [39, 2]'),\n",
              " Text(0.8014888337468983, 0.3181818181818182, 'gini = 0.219\\nsamples = 8\\nvalue = [7, 1]'),\n",
              " Text(0.8064516129032258, 0.4090909090909091, 'gini = 0.346\\nsamples = 9\\nvalue = [7, 2]'),\n",
              " Text(0.8114143920595533, 0.5, 'gini = 0.48\\nsamples = 5\\nvalue = [2, 3]'),\n",
              " Text(0.9330024813895782, 0.7727272727272727, 'x[0] <= 3.5\\ngini = 0.496\\nsamples = 931\\nvalue = [507, 424]'),\n",
              " Text(0.890818858560794, 0.6818181818181818, 'x[10] <= 168.053\\ngini = 0.498\\nsamples = 757\\nvalue = [355, 402]'),\n",
              " Text(0.858560794044665, 0.5909090909090909, 'x[3] <= 0.5\\ngini = 0.467\\nsamples = 349\\nvalue = [219, 130]'),\n",
              " Text(0.8411910669975186, 0.5, 'x[14] <= 2.795\\ngini = 0.484\\nsamples = 299\\nvalue = [176, 123]'),\n",
              " Text(0.8213399503722084, 0.4090909090909091, 'x[14] <= 0.042\\ngini = 0.5\\nsamples = 182\\nvalue = [91, 91]'),\n",
              " Text(0.8114143920595533, 0.3181818181818182, 'x[15] <= 29.0\\ngini = 0.485\\nsamples = 123\\nvalue = [72, 51]'),\n",
              " Text(0.8064516129032258, 0.22727272727272727, 'gini = 0.334\\nsamples = 33\\nvalue = [26, 7]'),\n",
              " Text(0.8163771712158809, 0.22727272727272727, 'x[11] <= 75.295\\ngini = 0.5\\nsamples = 90\\nvalue = [46, 44]'),\n",
              " Text(0.8114143920595533, 0.13636363636363635, 'x[9] <= 10.5\\ngini = 0.483\\nsamples = 66\\nvalue = [39, 27]'),\n",
              " Text(0.8064516129032258, 0.045454545454545456, 'gini = 0.245\\nsamples = 21\\nvalue = [18, 3]'),\n",
              " Text(0.8163771712158809, 0.045454545454545456, 'gini = 0.498\\nsamples = 45\\nvalue = [21, 24]'),\n",
              " Text(0.8213399503722084, 0.13636363636363635, 'gini = 0.413\\nsamples = 24\\nvalue = [7, 17]'),\n",
              " Text(0.8312655086848635, 0.3181818181818182, 'x[14] <= 0.934\\ngini = 0.437\\nsamples = 59\\nvalue = [19, 40]'),\n",
              " Text(0.826302729528536, 0.22727272727272727, 'gini = 0.0\\nsamples = 19\\nvalue = [0, 19]'),\n",
              " Text(0.8362282878411911, 0.22727272727272727, 'gini = 0.499\\nsamples = 40\\nvalue = [19, 21]'),\n",
              " Text(0.8610421836228288, 0.4090909090909091, 'x[14] <= 8.133\\ngini = 0.397\\nsamples = 117\\nvalue = [85, 32]'),\n",
              " Text(0.8511166253101737, 0.3181818181818182, 'x[15] <= 75.0\\ngini = 0.204\\nsamples = 52\\nvalue = [46, 6]'),\n",
              " Text(0.8461538461538461, 0.22727272727272727, 'gini = 0.153\\nsamples = 48\\nvalue = [44, 4]'),\n",
              " Text(0.8560794044665012, 0.22727272727272727, 'gini = 0.5\\nsamples = 4\\nvalue = [2, 2]'),\n",
              " Text(0.8709677419354839, 0.3181818181818182, 'x[15] <= 4.5\\ngini = 0.48\\nsamples = 65\\nvalue = [39, 26]'),\n",
              " Text(0.8660049627791563, 0.22727272727272727, 'gini = 0.0\\nsamples = 4\\nvalue = [0, 4]'),\n",
              " Text(0.8759305210918115, 0.22727272727272727, 'x[14] <= 11.956\\ngini = 0.461\\nsamples = 61\\nvalue = [39, 22]'),\n",
              " Text(0.8709677419354839, 0.13636363636363635, 'gini = 0.278\\nsamples = 6\\nvalue = [1, 5]'),\n",
              " Text(0.8808933002481389, 0.13636363636363635, 'x[16] <= 65.0\\ngini = 0.427\\nsamples = 55\\nvalue = [38, 17]'),\n",
              " Text(0.8759305210918115, 0.045454545454545456, 'gini = 0.406\\nsamples = 53\\nvalue = [38, 15]'),\n",
              " Text(0.8858560794044665, 0.045454545454545456, 'gini = 0.0\\nsamples = 2\\nvalue = [0, 2]'),\n",
              " Text(0.8759305210918115, 0.5, 'x[11] <= 54.143\\ngini = 0.241\\nsamples = 50\\nvalue = [43, 7]'),\n",
              " Text(0.8709677419354839, 0.4090909090909091, 'gini = 0.48\\nsamples = 5\\nvalue = [2, 3]'),\n",
              " Text(0.8808933002481389, 0.4090909090909091, 'gini = 0.162\\nsamples = 45\\nvalue = [41, 4]'),\n",
              " Text(0.9230769230769231, 0.5909090909090909, 'x[1] <= 2.155\\ngini = 0.444\\nsamples = 408\\nvalue = [136, 272]'),\n",
              " Text(0.9181141439205955, 0.5, 'gini = 0.43\\nsamples = 32\\nvalue = [22, 10]'),\n",
              " Text(0.9280397022332506, 0.5, 'x[3] <= 0.5\\ngini = 0.423\\nsamples = 376\\nvalue = [114, 262]'),\n",
              " Text(0.9181141439205955, 0.4090909090909091, 'x[4] <= 0.5\\ngini = 0.389\\nsamples = 322\\nvalue = [85, 237]'),\n",
              " Text(0.913151364764268, 0.3181818181818182, 'x[10] <= 173.047\\ngini = 0.366\\nsamples = 303\\nvalue = [73, 230]'),\n",
              " Text(0.8957816377171216, 0.22727272727272727, 'x[10] <= 169.973\\ngini = 0.479\\nsamples = 73\\nvalue = [29, 44]'),\n",
              " Text(0.890818858560794, 0.13636363636363635, 'gini = 0.0\\nsamples = 19\\nvalue = [0, 19]'),\n",
              " Text(0.9007444168734491, 0.13636363636363635, 'x[14] <= 11.12\\ngini = 0.497\\nsamples = 54\\nvalue = [29, 25]'),\n",
              " Text(0.8957816377171216, 0.045454545454545456, 'gini = 0.485\\nsamples = 41\\nvalue = [17, 24]'),\n",
              " Text(0.9057071960297767, 0.045454545454545456, 'gini = 0.142\\nsamples = 13\\nvalue = [12, 1]'),\n",
              " Text(0.9305210918114144, 0.22727272727272727, 'x[13] <= 0.5\\ngini = 0.309\\nsamples = 230\\nvalue = [44, 186]'),\n",
              " Text(0.9205955334987593, 0.13636363636363635, 'x[11] <= 68.836\\ngini = 0.22\\nsamples = 151\\nvalue = [19, 132]'),\n",
              " Text(0.9156327543424317, 0.045454545454545456, 'gini = 0.375\\nsamples = 4\\nvalue = [3, 1]'),\n",
              " Text(0.9255583126550868, 0.045454545454545456, 'gini = 0.194\\nsamples = 147\\nvalue = [16, 131]'),\n",
              " Text(0.9404466501240695, 0.13636363636363635, 'x[10] <= 187.983\\ngini = 0.433\\nsamples = 79\\nvalue = [25, 54]'),\n",
              " Text(0.9354838709677419, 0.045454545454545456, 'gini = 0.378\\nsamples = 71\\nvalue = [18, 53]'),\n",
              " Text(0.9454094292803971, 0.045454545454545456, 'gini = 0.219\\nsamples = 8\\nvalue = [7, 1]'),\n",
              " Text(0.9230769230769231, 0.3181818181818182, 'gini = 0.465\\nsamples = 19\\nvalue = [12, 7]'),\n",
              " Text(0.9379652605459057, 0.4090909090909091, 'x[11] <= 75.259\\ngini = 0.497\\nsamples = 54\\nvalue = [29, 25]'),\n",
              " Text(0.9330024813895782, 0.3181818181818182, 'gini = 0.278\\nsamples = 12\\nvalue = [10, 2]'),\n",
              " Text(0.9429280397022333, 0.3181818181818182, 'gini = 0.495\\nsamples = 42\\nvalue = [19, 23]'),\n",
              " Text(0.9751861042183623, 0.6818181818181818, 'x[16] <= 6.0\\ngini = 0.221\\nsamples = 174\\nvalue = [152, 22]'),\n",
              " Text(0.9702233250620348, 0.5909090909090909, 'gini = 0.459\\nsamples = 28\\nvalue = [18, 10]'),\n",
              " Text(0.9801488833746899, 0.5909090909090909, 'x[14] <= 29.0\\ngini = 0.151\\nsamples = 146\\nvalue = [134, 12]'),\n",
              " Text(0.9751861042183623, 0.5, 'x[12] <= 1.5\\ngini = 0.123\\nsamples = 137\\nvalue = [128, 9]'),\n",
              " Text(0.9652605459057072, 0.4090909090909091, 'x[11] <= 76.651\\ngini = 0.19\\nsamples = 66\\nvalue = [59, 7]'),\n",
              " Text(0.9602977667493796, 0.3181818181818182, 'x[6] <= 0.5\\ngini = 0.123\\nsamples = 61\\nvalue = [57, 4]'),\n",
              " Text(0.9553349875930521, 0.22727272727272727, 'x[9] <= 9.5\\ngini = 0.097\\nsamples = 59\\nvalue = [56, 3]'),\n",
              " Text(0.9503722084367245, 0.13636363636363635, 'gini = 0.291\\nsamples = 17\\nvalue = [14, 3]'),\n",
              " Text(0.9602977667493796, 0.13636363636363635, 'gini = 0.0\\nsamples = 42\\nvalue = [42, 0]'),\n",
              " Text(0.9652605459057072, 0.22727272727272727, 'gini = 0.5\\nsamples = 2\\nvalue = [1, 1]'),\n",
              " Text(0.9702233250620348, 0.3181818181818182, 'gini = 0.48\\nsamples = 5\\nvalue = [2, 3]'),\n",
              " Text(0.9851116625310173, 0.4090909090909091, 'x[11] <= 64.705\\ngini = 0.055\\nsamples = 71\\nvalue = [69, 2]'),\n",
              " Text(0.9801488833746899, 0.3181818181818182, 'gini = 0.375\\nsamples = 4\\nvalue = [3, 1]'),\n",
              " Text(0.9900744416873449, 0.3181818181818182, 'x[17] <= 0.5\\ngini = 0.029\\nsamples = 67\\nvalue = [66, 1]'),\n",
              " Text(0.9851116625310173, 0.22727272727272727, 'gini = 0.165\\nsamples = 11\\nvalue = [10, 1]'),\n",
              " Text(0.9950372208436724, 0.22727272727272727, 'gini = 0.0\\nsamples = 56\\nvalue = [56, 0]'),\n",
              " Text(0.9851116625310173, 0.5, 'gini = 0.444\\nsamples = 9\\nvalue = [6, 3]')]"
            ]
          },
          "metadata": {},
          "execution_count": 117
        },
        {
          "output_type": "display_data",
          "data": {
            "text/plain": [
              "<Figure size 640x480 with 1 Axes>"
            ],
            "image/png": "[encoded data removed]"
          },
          "metadata": {}
        }
      ]
    },
    {
      "cell_type": "markdown",
      "source": [
        "### Q. 15:\n",
        "Take a RandomForestClassifier() model with following hyperparameter values and tune it using GridsearchCV.\n",
        "Use n_estimators as [10,20,30]\n",
        "Use max_features as ['sqrt', 'log2']\n",
        "Use min_impurity_decrease as [0.001, 0.01, 0.1]\n",
        "Take cv value= 5 and random_state = 64\n",
        "\n",
        "Calculate the total number of misclassified samples by the best estimator for the test data."
      ],
      "metadata": {
        "id": "opKcFBPnnjet"
      }
    },
    {
      "cell_type": "code",
      "execution_count": 118,
      "metadata": {
        "id": "BtjE6iUgnjet"
      },
      "outputs": [],
      "source": [
        "from sklearn.ensemble import RandomForestClassifier"
      ]
    },
    {
      "cell_type": "code",
      "source": [
        "clf_RFC = RandomForestClassifier(random_state=64)"
      ],
      "metadata": {
        "id": "IAQD8HmOtx9X"
      },
      "execution_count": 121,
      "outputs": []
    },
    {
      "cell_type": "code",
      "source": [
        "parameters = {'n_estimators':[10,20,30],'max_features':('sqrt', 'log2'),'min_impurity_decrease':[0.001, 0.01, 0.1]}"
      ],
      "metadata": {
        "id": "Ul-I8LFZtOQ2"
      },
      "execution_count": 120,
      "outputs": []
    },
    {
      "cell_type": "code",
      "source": [
        "grid = GridSearchCV(clf_RFC, parameters, cv=5)"
      ],
      "metadata": {
        "id": "eNprMIbgt3wp"
      },
      "execution_count": 122,
      "outputs": []
    },
    {
      "cell_type": "code",
      "source": [
        "grid.fit(X_test, y_test)"
      ],
      "metadata": {
        "colab": {
          "base_uri": "https://localhost:8080/",
          "height": 116
        },
        "id": "lBQ_CWT5uE5y",
        "outputId": "c3a4b4e7-6bbf-4a66-f173-ebd3b8bf9812"
      },
      "execution_count": 123,
      "outputs": [
        {
          "output_type": "execute_result",
          "data": {
            "text/plain": [
              "GridSearchCV(cv=5, estimator=RandomForestClassifier(random_state=64),\n",
              "             param_grid={'max_features': ('sqrt', 'log2'),\n",
              "                         'min_impurity_decrease': [0.001, 0.01, 0.1],\n",
              "                         'n_estimators': [10, 20, 30]})"
            ],
            "text/html": [
              "<style>#sk-container-id-12 {color: black;background-color: white;}#sk-container-id-12 pre{padding: 0;}#sk-container-id-12 div.sk-toggleable {background-color: white;}#sk-container-id-12 label.sk-toggleable__label {cursor: pointer;display: block;width: 100%;margin-bottom: 0;padding: 0.3em;box-sizing: border-box;text-align: center;}#sk-container-id-12 label.sk-toggleable__label-arrow:before {content: \"▸\";float: left;margin-right: 0.25em;color: #696969;}#sk-container-id-12 label.sk-toggleable__label-arrow:hover:before {color: black;}#sk-container-id-12 div.sk-estimator:hover label.sk-toggleable__label-arrow:before {color: black;}#sk-container-id-12 div.sk-toggleable__content {max-height: 0;max-width: 0;overflow: hidden;text-align: left;background-color: #f0f8ff;}#sk-container-id-12 div.sk-toggleable__content pre {margin: 0.2em;color: black;border-radius: 0.25em;background-color: #f0f8ff;}#sk-container-id-12 input.sk-toggleable__control:checked~div.sk-toggleable__content {max-height: 200px;max-width: 100%;overflow: auto;}#sk-container-id-12 input.sk-toggleable__control:checked~label.sk-toggleable__label-arrow:before {content: \"▾\";}#sk-container-id-12 div.sk-estimator input.sk-toggleable__control:checked~label.sk-toggleable__label {background-color: #d4ebff;}#sk-container-id-12 div.sk-label input.sk-toggleable__control:checked~label.sk-toggleable__label {background-color: #d4ebff;}#sk-container-id-12 input.sk-hidden--visually {border: 0;clip: rect(1px 1px 1px 1px);clip: rect(1px, 1px, 1px, 1px);height: 1px;margin: -1px;overflow: hidden;padding: 0;position: absolute;width: 1px;}#sk-container-id-12 div.sk-estimator {font-family: monospace;background-color: #f0f8ff;border: 1px dotted black;border-radius: 0.25em;box-sizing: border-box;margin-bottom: 0.5em;}#sk-container-id-12 div.sk-estimator:hover {background-color: #d4ebff;}#sk-container-id-12 div.sk-parallel-item::after {content: \"\";width: 100%;border-bottom: 1px solid gray;flex-grow: 1;}#sk-container-id-12 div.sk-label:hover label.sk-toggleable__label {background-color: #d4ebff;}#sk-container-id-12 div.sk-serial::before {content: \"\";position: absolute;border-left: 1px solid gray;box-sizing: border-box;top: 0;bottom: 0;left: 50%;z-index: 0;}#sk-container-id-12 div.sk-serial {display: flex;flex-direction: column;align-items: center;background-color: white;padding-right: 0.2em;padding-left: 0.2em;position: relative;}#sk-container-id-12 div.sk-item {position: relative;z-index: 1;}#sk-container-id-12 div.sk-parallel {display: flex;align-items: stretch;justify-content: center;background-color: white;position: relative;}#sk-container-id-12 div.sk-item::before, #sk-container-id-12 div.sk-parallel-item::before {content: \"\";position: absolute;border-left: 1px solid gray;box-sizing: border-box;top: 0;bottom: 0;left: 50%;z-index: -1;}#sk-container-id-12 div.sk-parallel-item {display: flex;flex-direction: column;z-index: 1;position: relative;background-color: white;}#sk-container-id-12 div.sk-parallel-item:first-child::after {align-self: flex-end;width: 50%;}#sk-container-id-12 div.sk-parallel-item:last-child::after {align-self: flex-start;width: 50%;}#sk-container-id-12 div.sk-parallel-item:only-child::after {width: 0;}#sk-container-id-12 div.sk-dashed-wrapped {border: 1px dashed gray;margin: 0 0.4em 0.5em 0.4em;box-sizing: border-box;padding-bottom: 0.4em;background-color: white;}#sk-container-id-12 div.sk-label label {font-family: monospace;font-weight: bold;display: inline-block;line-height: 1.2em;}#sk-container-id-12 div.sk-label-container {text-align: center;}#sk-container-id-12 div.sk-container {/* jupyter's `normalize.less` sets `[hidden] { display: none; }` but bootstrap.min.css set `[hidden] { display: none !important; }` so we also need the `!important` here to be able to override the default hidden behavior on the sphinx rendered scikit-learn.org. See: https://github.com/scikit-learn/scikit-learn/issues/21755 */display: inline-block !important;position: relative;}#sk-container-id-12 div.sk-text-repr-fallback {display: none;}</style><div id=\"sk-container-id-12\" class=\"sk-top-container\"><div class=\"sk-text-repr-fallback\"><pre>GridSearchCV(cv=5, estimator=RandomForestClassifier(random_state=64),\n",
              "             param_grid={&#x27;max_features&#x27;: (&#x27;sqrt&#x27;, &#x27;log2&#x27;),\n",
              "                         &#x27;min_impurity_decrease&#x27;: [0.001, 0.01, 0.1],\n",
              "                         &#x27;n_estimators&#x27;: [10, 20, 30]})</pre><b>In a Jupyter environment, please rerun this cell to show the HTML representation or trust the notebook. <br />On GitHub, the HTML representation is unable to render, please try loading this page with nbviewer.org.</b></div><div class=\"sk-container\" hidden><div class=\"sk-item sk-dashed-wrapped\"><div class=\"sk-label-container\"><div class=\"sk-label sk-toggleable\"><input class=\"sk-toggleable__control sk-hidden--visually\" id=\"sk-estimator-id-18\" type=\"checkbox\" ><label for=\"sk-estimator-id-18\" class=\"sk-toggleable__label sk-toggleable__label-arrow\">GridSearchCV</label><div class=\"sk-toggleable__content\"><pre>GridSearchCV(cv=5, estimator=RandomForestClassifier(random_state=64),\n",
              "             param_grid={&#x27;max_features&#x27;: (&#x27;sqrt&#x27;, &#x27;log2&#x27;),\n",
              "                         &#x27;min_impurity_decrease&#x27;: [0.001, 0.01, 0.1],\n",
              "                         &#x27;n_estimators&#x27;: [10, 20, 30]})</pre></div></div></div><div class=\"sk-parallel\"><div class=\"sk-parallel-item\"><div class=\"sk-item\"><div class=\"sk-label-container\"><div class=\"sk-label sk-toggleable\"><input class=\"sk-toggleable__control sk-hidden--visually\" id=\"sk-estimator-id-19\" type=\"checkbox\" ><label for=\"sk-estimator-id-19\" class=\"sk-toggleable__label sk-toggleable__label-arrow\">estimator: RandomForestClassifier</label><div class=\"sk-toggleable__content\"><pre>RandomForestClassifier(random_state=64)</pre></div></div></div><div class=\"sk-serial\"><div class=\"sk-item\"><div class=\"sk-estimator sk-toggleable\"><input class=\"sk-toggleable__control sk-hidden--visually\" id=\"sk-estimator-id-20\" type=\"checkbox\" ><label for=\"sk-estimator-id-20\" class=\"sk-toggleable__label sk-toggleable__label-arrow\">RandomForestClassifier</label><div class=\"sk-toggleable__content\"><pre>RandomForestClassifier(random_state=64)</pre></div></div></div></div></div></div></div></div></div></div>"
            ]
          },
          "metadata": {},
          "execution_count": 123
        }
      ]
    },
    {
      "cell_type": "code",
      "source": [
        "grid.best_estimator_"
      ],
      "metadata": {
        "colab": {
          "base_uri": "https://localhost:8080/",
          "height": 91
        },
        "id": "VJMMN_8euKT4",
        "outputId": "4fdad702-c765-4753-f6c2-fd2a7cf72a23"
      },
      "execution_count": 124,
      "outputs": [
        {
          "output_type": "execute_result",
          "data": {
            "text/plain": [
              "RandomForestClassifier(min_impurity_decrease=0.001, n_estimators=30,\n",
              "                       random_state=64)"
            ],
            "text/html": [
              "<style>#sk-container-id-13 {color: black;background-color: white;}#sk-container-id-13 pre{padding: 0;}#sk-container-id-13 div.sk-toggleable {background-color: white;}#sk-container-id-13 label.sk-toggleable__label {cursor: pointer;display: block;width: 100%;margin-bottom: 0;padding: 0.3em;box-sizing: border-box;text-align: center;}#sk-container-id-13 label.sk-toggleable__label-arrow:before {content: \"▸\";float: left;margin-right: 0.25em;color: #696969;}#sk-container-id-13 label.sk-toggleable__label-arrow:hover:before {color: black;}#sk-container-id-13 div.sk-estimator:hover label.sk-toggleable__label-arrow:before {color: black;}#sk-container-id-13 div.sk-toggleable__content {max-height: 0;max-width: 0;overflow: hidden;text-align: left;background-color: #f0f8ff;}#sk-container-id-13 div.sk-toggleable__content pre {margin: 0.2em;color: black;border-radius: 0.25em;background-color: #f0f8ff;}#sk-container-id-13 input.sk-toggleable__control:checked~div.sk-toggleable__content {max-height: 200px;max-width: 100%;overflow: auto;}#sk-container-id-13 input.sk-toggleable__control:checked~label.sk-toggleable__label-arrow:before {content: \"▾\";}#sk-container-id-13 div.sk-estimator input.sk-toggleable__control:checked~label.sk-toggleable__label {background-color: #d4ebff;}#sk-container-id-13 div.sk-label input.sk-toggleable__control:checked~label.sk-toggleable__label {background-color: #d4ebff;}#sk-container-id-13 input.sk-hidden--visually {border: 0;clip: rect(1px 1px 1px 1px);clip: rect(1px, 1px, 1px, 1px);height: 1px;margin: -1px;overflow: hidden;padding: 0;position: absolute;width: 1px;}#sk-container-id-13 div.sk-estimator {font-family: monospace;background-color: #f0f8ff;border: 1px dotted black;border-radius: 0.25em;box-sizing: border-box;margin-bottom: 0.5em;}#sk-container-id-13 div.sk-estimator:hover {background-color: #d4ebff;}#sk-container-id-13 div.sk-parallel-item::after {content: \"\";width: 100%;border-bottom: 1px solid gray;flex-grow: 1;}#sk-container-id-13 div.sk-label:hover label.sk-toggleable__label {background-color: #d4ebff;}#sk-container-id-13 div.sk-serial::before {content: \"\";position: absolute;border-left: 1px solid gray;box-sizing: border-box;top: 0;bottom: 0;left: 50%;z-index: 0;}#sk-container-id-13 div.sk-serial {display: flex;flex-direction: column;align-items: center;background-color: white;padding-right: 0.2em;padding-left: 0.2em;position: relative;}#sk-container-id-13 div.sk-item {position: relative;z-index: 1;}#sk-container-id-13 div.sk-parallel {display: flex;align-items: stretch;justify-content: center;background-color: white;position: relative;}#sk-container-id-13 div.sk-item::before, #sk-container-id-13 div.sk-parallel-item::before {content: \"\";position: absolute;border-left: 1px solid gray;box-sizing: border-box;top: 0;bottom: 0;left: 50%;z-index: -1;}#sk-container-id-13 div.sk-parallel-item {display: flex;flex-direction: column;z-index: 1;position: relative;background-color: white;}#sk-container-id-13 div.sk-parallel-item:first-child::after {align-self: flex-end;width: 50%;}#sk-container-id-13 div.sk-parallel-item:last-child::after {align-self: flex-start;width: 50%;}#sk-container-id-13 div.sk-parallel-item:only-child::after {width: 0;}#sk-container-id-13 div.sk-dashed-wrapped {border: 1px dashed gray;margin: 0 0.4em 0.5em 0.4em;box-sizing: border-box;padding-bottom: 0.4em;background-color: white;}#sk-container-id-13 div.sk-label label {font-family: monospace;font-weight: bold;display: inline-block;line-height: 1.2em;}#sk-container-id-13 div.sk-label-container {text-align: center;}#sk-container-id-13 div.sk-container {/* jupyter's `normalize.less` sets `[hidden] { display: none; }` but bootstrap.min.css set `[hidden] { display: none !important; }` so we also need the `!important` here to be able to override the default hidden behavior on the sphinx rendered scikit-learn.org. See: https://github.com/scikit-learn/scikit-learn/issues/21755 */display: inline-block !important;position: relative;}#sk-container-id-13 div.sk-text-repr-fallback {display: none;}</style><div id=\"sk-container-id-13\" class=\"sk-top-container\"><div class=\"sk-text-repr-fallback\"><pre>RandomForestClassifier(min_impurity_decrease=0.001, n_estimators=30,\n",
              "                       random_state=64)</pre><b>In a Jupyter environment, please rerun this cell to show the HTML representation or trust the notebook. <br />On GitHub, the HTML representation is unable to render, please try loading this page with nbviewer.org.</b></div><div class=\"sk-container\" hidden><div class=\"sk-item\"><div class=\"sk-estimator sk-toggleable\"><input class=\"sk-toggleable__control sk-hidden--visually\" id=\"sk-estimator-id-21\" type=\"checkbox\" checked><label for=\"sk-estimator-id-21\" class=\"sk-toggleable__label sk-toggleable__label-arrow\">RandomForestClassifier</label><div class=\"sk-toggleable__content\"><pre>RandomForestClassifier(min_impurity_decrease=0.001, n_estimators=30,\n",
              "                       random_state=64)</pre></div></div></div></div></div>"
            ]
          },
          "metadata": {},
          "execution_count": 124
        }
      ]
    },
    {
      "cell_type": "code",
      "source": [
        "y_pred_RFC = grid.best_estimator_.predict(X_test)"
      ],
      "metadata": {
        "id": "SGeaS7lxuOfR"
      },
      "execution_count": 125,
      "outputs": []
    },
    {
      "cell_type": "code",
      "source": [
        "confusion_matrix(y_test, y_pred_RFC)"
      ],
      "metadata": {
        "colab": {
          "base_uri": "https://localhost:8080/"
        },
        "id": "R8rYcWYDuewh",
        "outputId": "beb881ff-d95c-4ae7-a0af-e152a5208dda"
      },
      "execution_count": 127,
      "outputs": [
        {
          "output_type": "execute_result",
          "data": {
            "text/plain": [
              "array([[ 874,  149],\n",
              "       [  90, 1387]])"
            ]
          },
          "metadata": {},
          "execution_count": 127
        }
      ]
    },
    {
      "cell_type": "code",
      "source": [
        "tn_1, fp_1, fn_1, tp_1 = confusion_matrix(y_test, y_pred_RFC).ravel()"
      ],
      "metadata": {
        "id": "_kclyd2PuTUc"
      },
      "execution_count": 128,
      "outputs": []
    },
    {
      "cell_type": "code",
      "source": [
        "(tn_1, fp_1, fn_1, tp_1)"
      ],
      "metadata": {
        "colab": {
          "base_uri": "https://localhost:8080/"
        },
        "id": "tWGeqKdiuTR1",
        "outputId": "cf29038e-8380-4a95-d1c0-925e26ab142d"
      },
      "execution_count": 129,
      "outputs": [
        {
          "output_type": "execute_result",
          "data": {
            "text/plain": [
              "(874, 149, 90, 1387)"
            ]
          },
          "metadata": {},
          "execution_count": 129
        }
      ]
    },
    {
      "cell_type": "code",
      "source": [
        "fp_1+fn_1"
      ],
      "metadata": {
        "colab": {
          "base_uri": "https://localhost:8080/"
        },
        "id": "i33TwkA3urbo",
        "outputId": "f09569ac-50c1-4ccf-fefa-b8e11ff5f421"
      },
      "execution_count": 130,
      "outputs": [
        {
          "output_type": "execute_result",
          "data": {
            "text/plain": [
              "239"
            ]
          },
          "metadata": {},
          "execution_count": 130
        }
      ]
    },
    {
      "cell_type": "markdown",
      "source": [
        "### Q. 16:\n",
        "Find the value of min_impurity_decrease of the best estimator?"
      ],
      "metadata": {
        "id": "jFNPyqjMnjlp"
      }
    },
    {
      "cell_type": "code",
      "execution_count": 132,
      "metadata": {
        "id": "wiERjXsqnjlq",
        "colab": {
          "base_uri": "https://localhost:8080/"
        },
        "outputId": "cd9935da-f885-455d-eefa-795157ec1260"
      },
      "outputs": [
        {
          "output_type": "execute_result",
          "data": {
            "text/plain": [
              "0.001"
            ]
          },
          "metadata": {},
          "execution_count": 132
        }
      ],
      "source": [
        "grid.best_estimator_.min_impurity_decrease"
      ]
    },
    {
      "cell_type": "markdown",
      "source": [
        "### Q. 17\n",
        "Take an adaboost model with following hyperparameter values and tune it using GridsearchCV.\n",
        "Use n_estimators as [20,30, 50]\n",
        "Use learning_rate as [0.1, 0.5,1,2]\n",
        "Take cv value= 5 and random state = 64\n",
        "\n",
        "Find the accuracy on the test dataset using the best estimator.\n"
      ],
      "metadata": {
        "id": "YSpPKl_gTQH3"
      }
    },
    {
      "cell_type": "code",
      "source": [
        "from sklearn.ensemble import AdaBoostClassifier"
      ],
      "metadata": {
        "id": "lalnIRhZTS1d"
      },
      "execution_count": 133,
      "outputs": []
    },
    {
      "cell_type": "code",
      "source": [
        "clf_ada = AdaBoostClassifier(random_state=64)"
      ],
      "metadata": {
        "id": "MrbA0hr3vpok"
      },
      "execution_count": 135,
      "outputs": []
    },
    {
      "cell_type": "code",
      "source": [
        "parameters = {'n_estimators':[20,30, 50],'learning_rate': [0.1, 0.5,1,2]}"
      ],
      "metadata": {
        "id": "J0OXoKC0va42"
      },
      "execution_count": 136,
      "outputs": []
    },
    {
      "cell_type": "code",
      "source": [
        "grid = GridSearchCV(clf_ada, parameters, cv=5)"
      ],
      "metadata": {
        "id": "hTg8xXNWvyOt"
      },
      "execution_count": 138,
      "outputs": []
    },
    {
      "cell_type": "code",
      "source": [
        "grid.fit(X_train,y_train)"
      ],
      "metadata": {
        "colab": {
          "base_uri": "https://localhost:8080/",
          "height": 116
        },
        "id": "vTFer0H8v9Re",
        "outputId": "2a7d8d6e-49df-4514-cd31-2142d4db7fcd"
      },
      "execution_count": 139,
      "outputs": [
        {
          "output_type": "execute_result",
          "data": {
            "text/plain": [
              "GridSearchCV(cv=5, estimator=AdaBoostClassifier(random_state=64),\n",
              "             param_grid={'learning_rate': [0.1, 0.5, 1, 2],\n",
              "                         'n_estimators': [20, 30, 50]})"
            ],
            "text/html": [
              "<style>#sk-container-id-14 {color: black;background-color: white;}#sk-container-id-14 pre{padding: 0;}#sk-container-id-14 div.sk-toggleable {background-color: white;}#sk-container-id-14 label.sk-toggleable__label {cursor: pointer;display: block;width: 100%;margin-bottom: 0;padding: 0.3em;box-sizing: border-box;text-align: center;}#sk-container-id-14 label.sk-toggleable__label-arrow:before {content: \"▸\";float: left;margin-right: 0.25em;color: #696969;}#sk-container-id-14 label.sk-toggleable__label-arrow:hover:before {color: black;}#sk-container-id-14 div.sk-estimator:hover label.sk-toggleable__label-arrow:before {color: black;}#sk-container-id-14 div.sk-toggleable__content {max-height: 0;max-width: 0;overflow: hidden;text-align: left;background-color: #f0f8ff;}#sk-container-id-14 div.sk-toggleable__content pre {margin: 0.2em;color: black;border-radius: 0.25em;background-color: #f0f8ff;}#sk-container-id-14 input.sk-toggleable__control:checked~div.sk-toggleable__content {max-height: 200px;max-width: 100%;overflow: auto;}#sk-container-id-14 input.sk-toggleable__control:checked~label.sk-toggleable__label-arrow:before {content: \"▾\";}#sk-container-id-14 div.sk-estimator input.sk-toggleable__control:checked~label.sk-toggleable__label {background-color: #d4ebff;}#sk-container-id-14 div.sk-label input.sk-toggleable__control:checked~label.sk-toggleable__label {background-color: #d4ebff;}#sk-container-id-14 input.sk-hidden--visually {border: 0;clip: rect(1px 1px 1px 1px);clip: rect(1px, 1px, 1px, 1px);height: 1px;margin: -1px;overflow: hidden;padding: 0;position: absolute;width: 1px;}#sk-container-id-14 div.sk-estimator {font-family: monospace;background-color: #f0f8ff;border: 1px dotted black;border-radius: 0.25em;box-sizing: border-box;margin-bottom: 0.5em;}#sk-container-id-14 div.sk-estimator:hover {background-color: #d4ebff;}#sk-container-id-14 div.sk-parallel-item::after {content: \"\";width: 100%;border-bottom: 1px solid gray;flex-grow: 1;}#sk-container-id-14 div.sk-label:hover label.sk-toggleable__label {background-color: #d4ebff;}#sk-container-id-14 div.sk-serial::before {content: \"\";position: absolute;border-left: 1px solid gray;box-sizing: border-box;top: 0;bottom: 0;left: 50%;z-index: 0;}#sk-container-id-14 div.sk-serial {display: flex;flex-direction: column;align-items: center;background-color: white;padding-right: 0.2em;padding-left: 0.2em;position: relative;}#sk-container-id-14 div.sk-item {position: relative;z-index: 1;}#sk-container-id-14 div.sk-parallel {display: flex;align-items: stretch;justify-content: center;background-color: white;position: relative;}#sk-container-id-14 div.sk-item::before, #sk-container-id-14 div.sk-parallel-item::before {content: \"\";position: absolute;border-left: 1px solid gray;box-sizing: border-box;top: 0;bottom: 0;left: 50%;z-index: -1;}#sk-container-id-14 div.sk-parallel-item {display: flex;flex-direction: column;z-index: 1;position: relative;background-color: white;}#sk-container-id-14 div.sk-parallel-item:first-child::after {align-self: flex-end;width: 50%;}#sk-container-id-14 div.sk-parallel-item:last-child::after {align-self: flex-start;width: 50%;}#sk-container-id-14 div.sk-parallel-item:only-child::after {width: 0;}#sk-container-id-14 div.sk-dashed-wrapped {border: 1px dashed gray;margin: 0 0.4em 0.5em 0.4em;box-sizing: border-box;padding-bottom: 0.4em;background-color: white;}#sk-container-id-14 div.sk-label label {font-family: monospace;font-weight: bold;display: inline-block;line-height: 1.2em;}#sk-container-id-14 div.sk-label-container {text-align: center;}#sk-container-id-14 div.sk-container {/* jupyter's `normalize.less` sets `[hidden] { display: none; }` but bootstrap.min.css set `[hidden] { display: none !important; }` so we also need the `!important` here to be able to override the default hidden behavior on the sphinx rendered scikit-learn.org. See: https://github.com/scikit-learn/scikit-learn/issues/21755 */display: inline-block !important;position: relative;}#sk-container-id-14 div.sk-text-repr-fallback {display: none;}</style><div id=\"sk-container-id-14\" class=\"sk-top-container\"><div class=\"sk-text-repr-fallback\"><pre>GridSearchCV(cv=5, estimator=AdaBoostClassifier(random_state=64),\n",
              "             param_grid={&#x27;learning_rate&#x27;: [0.1, 0.5, 1, 2],\n",
              "                         &#x27;n_estimators&#x27;: [20, 30, 50]})</pre><b>In a Jupyter environment, please rerun this cell to show the HTML representation or trust the notebook. <br />On GitHub, the HTML representation is unable to render, please try loading this page with nbviewer.org.</b></div><div class=\"sk-container\" hidden><div class=\"sk-item sk-dashed-wrapped\"><div class=\"sk-label-container\"><div class=\"sk-label sk-toggleable\"><input class=\"sk-toggleable__control sk-hidden--visually\" id=\"sk-estimator-id-22\" type=\"checkbox\" ><label for=\"sk-estimator-id-22\" class=\"sk-toggleable__label sk-toggleable__label-arrow\">GridSearchCV</label><div class=\"sk-toggleable__content\"><pre>GridSearchCV(cv=5, estimator=AdaBoostClassifier(random_state=64),\n",
              "             param_grid={&#x27;learning_rate&#x27;: [0.1, 0.5, 1, 2],\n",
              "                         &#x27;n_estimators&#x27;: [20, 30, 50]})</pre></div></div></div><div class=\"sk-parallel\"><div class=\"sk-parallel-item\"><div class=\"sk-item\"><div class=\"sk-label-container\"><div class=\"sk-label sk-toggleable\"><input class=\"sk-toggleable__control sk-hidden--visually\" id=\"sk-estimator-id-23\" type=\"checkbox\" ><label for=\"sk-estimator-id-23\" class=\"sk-toggleable__label sk-toggleable__label-arrow\">estimator: AdaBoostClassifier</label><div class=\"sk-toggleable__content\"><pre>AdaBoostClassifier(random_state=64)</pre></div></div></div><div class=\"sk-serial\"><div class=\"sk-item\"><div class=\"sk-estimator sk-toggleable\"><input class=\"sk-toggleable__control sk-hidden--visually\" id=\"sk-estimator-id-24\" type=\"checkbox\" ><label for=\"sk-estimator-id-24\" class=\"sk-toggleable__label sk-toggleable__label-arrow\">AdaBoostClassifier</label><div class=\"sk-toggleable__content\"><pre>AdaBoostClassifier(random_state=64)</pre></div></div></div></div></div></div></div></div></div></div>"
            ]
          },
          "metadata": {},
          "execution_count": 139
        }
      ]
    },
    {
      "cell_type": "code",
      "source": [
        "y_pred_ada = grid.best_estimator_.predict(X_test)"
      ],
      "metadata": {
        "id": "-b0KIJjrv4f8"
      },
      "execution_count": 141,
      "outputs": []
    },
    {
      "cell_type": "code",
      "source": [
        "accuracy_score(y_test,y_pred_ada)"
      ],
      "metadata": {
        "colab": {
          "base_uri": "https://localhost:8080/"
        },
        "id": "KseGqHyJwHm8",
        "outputId": "25f486fd-a9cf-4bbd-bb29-a52e096cd5ae"
      },
      "execution_count": 142,
      "outputs": [
        {
          "output_type": "execute_result",
          "data": {
            "text/plain": [
              "0.8884"
            ]
          },
          "metadata": {},
          "execution_count": 142
        }
      ]
    },
    {
      "cell_type": "code",
      "source": [
        "grid.best_estimator_.score(X_test,y_test)"
      ],
      "metadata": {
        "colab": {
          "base_uri": "https://localhost:8080/"
        },
        "id": "FjDwoJ1Swafs",
        "outputId": "3864aa40-7365-4593-dfc7-492d12619997"
      },
      "execution_count": 146,
      "outputs": [
        {
          "output_type": "execute_result",
          "data": {
            "text/plain": [
              "0.8884"
            ]
          },
          "metadata": {},
          "execution_count": 146
        }
      ]
    },
    {
      "cell_type": "markdown",
      "source": [
        "### Q.18:\n",
        "How many class zero examples in the test dataset are correctly classified by the best estimator?"
      ],
      "metadata": {
        "id": "qau6xgAoTT0X"
      }
    },
    {
      "cell_type": "code",
      "source": [
        "tn_1, fp_1, fn_1, tp_1 = confusion_matrix(y_test, y_pred_ada).ravel()"
      ],
      "metadata": {
        "id": "xRtSj0sSTVTu"
      },
      "execution_count": 147,
      "outputs": []
    },
    {
      "cell_type": "code",
      "source": [
        "(tn_1, fp_1, fn_1, tp_1)"
      ],
      "metadata": {
        "colab": {
          "base_uri": "https://localhost:8080/"
        },
        "id": "qfdhMcV5ws9Z",
        "outputId": "7e24ea36-c399-4708-c4a0-0052d9719907"
      },
      "execution_count": 148,
      "outputs": [
        {
          "output_type": "execute_result",
          "data": {
            "text/plain": [
              "(847, 176, 103, 1374)"
            ]
          },
          "metadata": {},
          "execution_count": 148
        }
      ]
    },
    {
      "cell_type": "markdown",
      "source": [
        "### Q.19:\n",
        "Apply GridSearchCV using the support vector machine (SVM) classifier on the training dataset X_train, y_train and calculate the best value of C and kernel from the values below.\n",
        "use below hyperparameter values to tune the model\n",
        "`kernel':['linear', 'rbf'],\n",
        "'C':[ 1, 10]`)\n",
        "Take cv =3 and random state to be 64\n",
        "Which of the following options represent the best parameters?\n"
      ],
      "metadata": {
        "id": "IWQPfLTqTgOd"
      }
    },
    {
      "cell_type": "code",
      "source": [
        "from sklearn.model_selection import GridSearchCV"
      ],
      "metadata": {
        "id": "LVl58JfNygQn"
      },
      "execution_count": 173,
      "outputs": []
    },
    {
      "cell_type": "code",
      "source": [
        "from sklearn.svm import SVC"
      ],
      "metadata": {
        "id": "UBbiOM8ZTjQb"
      },
      "execution_count": 174,
      "outputs": []
    },
    {
      "cell_type": "code",
      "source": [
        "clf_SVC = SVC(random_state=64)"
      ],
      "metadata": {
        "id": "tf_nFyNOxAZj"
      },
      "execution_count": 175,
      "outputs": []
    },
    {
      "cell_type": "code",
      "source": [
        "parameters = {'kernel':('linear', 'rbf'), 'C':[ 1, 10]}"
      ],
      "metadata": {
        "id": "BICXg4mAxGLx"
      },
      "execution_count": 176,
      "outputs": []
    },
    {
      "cell_type": "code",
      "source": [
        "grid = GridSearchCV(clf_SVC, parameters, cv=3)"
      ],
      "metadata": {
        "id": "ep1Pc8TdxLur"
      },
      "execution_count": 177,
      "outputs": []
    },
    {
      "cell_type": "code",
      "source": [
        "grid.fit(X_train,y_train)"
      ],
      "metadata": {
        "id": "0MiTFYIcxO1B"
      },
      "execution_count": null,
      "outputs": []
    },
    {
      "cell_type": "code",
      "source": [
        "grid.best_estimator_"
      ],
      "metadata": {
        "id": "xtgwm1TsxRbv"
      },
      "execution_count": null,
      "outputs": []
    },
    {
      "cell_type": "code",
      "source": [],
      "metadata": {
        "id": "7r3DMw_txVBj"
      },
      "execution_count": null,
      "outputs": []
    }
  ]
}